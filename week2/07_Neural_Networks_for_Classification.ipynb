{
  "nbformat": 4,
  "nbformat_minor": 0,
  "metadata": {
    "colab": {
      "name": "07_Neural Networks for Classification.ipynb",
      "provenance": [],
      "collapsed_sections": []
    },
    "kernelspec": {
      "name": "python3",
      "display_name": "Python 3"
    }
  },
  "cells": [
    {
      "cell_type": "markdown",
      "metadata": {
        "id": "YzkBGTzYYdd1"
      },
      "source": [
        "# DAY 7: Neural networks for classification\n",
        "\n",
        "### Machine Learning and Computational Statistics (DSC6232)\n",
        "\n",
        "Instructors: Weiwei Pan, Melanie Fernandez, Pavlos Protopapas\n",
        "\n",
        "Due: August 2nd, 2:00 pm Kigali Time"
      ]
    },
    {
      "cell_type": "markdown",
      "metadata": {
        "id": "8u-1g1CCME6i"
      },
      "source": [
        "**First name**: _________________________________________________________\n",
        "\n",
        "\n",
        "**Last name**: _____________"
      ]
    },
    {
      "cell_type": "markdown",
      "metadata": {
        "id": "9dCt7wHgMWqz"
      },
      "source": [
        "## Learning Goals:\n",
        "\n",
        "1. train a neural network for classification\n",
        "2. diagnose training performance of a NN using the traceplot\n",
        "3. compare classifiers using the ROC curve and AUC\n"
      ]
    },
    {
      "cell_type": "markdown",
      "metadata": {
        "id": "HCKozVqtrfRj"
      },
      "source": [
        "### Import necessary libraries"
      ]
    },
    {
      "cell_type": "code",
      "metadata": {
        "id": "CT6e4wQRTNfw",
        "colab": {
          "base_uri": "https://localhost:8080/",
          "height": 35
        },
        "outputId": "5e6ea43b-c3c5-42d3-a194-31a31190cb4f"
      },
      "source": [
        "import numbers\n",
        "#import libraries for implementing neural networks\n",
        "import keras\n",
        "from keras.models import Sequential\n",
        "from keras.layers import Dense\n",
        "from keras.optimizers import SGD, Adam\n",
        "from keras.regularizers import l2\n",
        "#import sklearn packages\n",
        "import sklearn\n",
        "from sklearn.datasets import make_moons, make_circles\n",
        "from sklearn.preprocessing import scale, PolynomialFeatures\n",
        "from sklearn.model_selection import train_test_split\n",
        "from sklearn.linear_model import LogisticRegression\n",
        "from sklearn.pipeline import make_pipeline\n",
        "from sklearn.metrics import auc, roc_curve\n",
        "from sklearn.metrics import confusion_matrix, plot_roc_curve, accuracy_score\n",
        "#import libraries of data manipulation, matrix operations and visualization\n",
        "import pandas as pd\n",
        "import numpy as np\n",
        "import matplotlib.pyplot as plt\n",
        "%matplotlib inline"
      ],
      "execution_count": null,
      "outputs": [
        {
          "output_type": "stream",
          "text": [
            "Using TensorFlow backend.\n"
          ],
          "name": "stderr"
        }
      ]
    },
    {
      "cell_type": "markdown",
      "metadata": {
        "id": "ABm81zMZYm_V"
      },
      "source": [
        "#### Auxiliary functions to generate and visualize data.\n",
        "**No need to read through!**"
      ]
    },
    {
      "cell_type": "code",
      "metadata": {
        "id": "ffylfji_VVAb"
      },
      "source": [
        "def scatter_plot_data(x, y, ax, limit=None):\n",
        "    '''\n",
        "    scatter_plot_data scatter plots the patient data. A point in the plot is colored 'red' if cancerous \n",
        "    and blue otherwise.\n",
        "    \n",
        "    input:\n",
        "       x - a numpy array of size N x 2, each row is a patient, each column is a biomarker\n",
        "       y - a numpy array of length N, each entry is either 0 (no cancer) or 1 (cancerous)\n",
        "       ax - axis to plot on\n",
        "    returns: \n",
        "       ax - the axis with the scatter plot\n",
        "    '''\n",
        "    ax.scatter(x[y == 1, 0], x[y == 1, 1], alpha=0.2, c='red', label='class 1')\n",
        "    ax.scatter(x[y == 0, 0], x[y == 0, 1], alpha=0.2, c='blue', label='class 0')\n",
        "    ax.set_xlabel('marker 1')\n",
        "    ax.set_ylabel('marker 2')\n",
        "    if limit is None:\n",
        "      ax.set_xlim((-2.5, 2.5))\n",
        "      ax.set_ylim((-2.5, 2.5))     \n",
        "    else:\n",
        "      ax.set_xlim(limit)\n",
        "      ax.set_ylim(limit)     \n",
        "    ax.legend(loc='best')\n",
        "    return ax\n",
        "\n",
        "def plot_decision_boundary(x, y, model, ax, limit=None, poly_degree=1, threshold=0.5):\n",
        "    '''\n",
        "    plot_decision_boundary plots the training data and the decision boundary of the classifier.\n",
        "    input:\n",
        "       x - a numpy array of size N x 2, each row is a patient, each column is a biomarker\n",
        "       y - a numpy array of length N, each entry is either 0 (no cancer) or 1 (cancerous)\n",
        "       model - the 'sklearn' classification model\n",
        "       ax - axis to plot on\n",
        "       poly_degree - the degree of polynomial features used to fit the model\n",
        "       threshold - the classification threshold\n",
        "    returns: \n",
        "       ax - the axis with the scatter plot\n",
        "    \n",
        "    '''\n",
        "    # Plot data\n",
        "    ax.scatter(x[y == 1, 0], x[y == 1, 1], alpha=0.4, c='red', label='class 1')\n",
        "    ax.scatter(x[y == 0, 0], x[y == 0, 1], alpha=0.4, c='blue', label='class 0')\n",
        "    \n",
        "    # Create mesh\n",
        "    if limit is None:\n",
        "      interval = np.arange(-2.5, 2.5, 0.01)\n",
        "    else:\n",
        "      interval = np.arange(limit[0], limit[1], 0.05)\n",
        "    n = np.size(interval)\n",
        "    x1, x2 = np.meshgrid(interval, interval)\n",
        "    x1 = x1.reshape(-1, 1)\n",
        "    x2 = x2.reshape(-1, 1)\n",
        "    xx = np.concatenate((x1, x2), axis=1)\n",
        "\n",
        "    # Predict on mesh points\n",
        "    if(poly_degree > 1):\n",
        "        polynomial_features = PolynomialFeatures(degree=poly_degree)\n",
        "        xx = polynomial_features.fit_transform(xx)\n",
        "    if threshold != 0.5:\n",
        "      if isinstance(model.predict(xx)[0], float):\n",
        "        yy_prob = model.predict_proba(xx)[:, 1]\n",
        "        yy = yy_prob\n",
        "      else:\n",
        "        yy_prob = model.predict(xx)\n",
        "        yy = yy_prob\n",
        "      yy[yy_prob >= threshold] = 1\n",
        "      yy[yy_prob < threshold] = 0\n",
        "    else:\n",
        "      yy = model.predict(xx)    \n",
        "    yy = yy.reshape((n, n))\n",
        "\n",
        "    # Plot decision surface\n",
        "    x1 = x1.reshape(n, n)\n",
        "    x2 = x2.reshape(n, n)\n",
        "    ax.contourf(x1, x2, yy, alpha=0.1, cmap='bwr')\n",
        "    ax.contour(x1, x2, yy, levels=[0.5], colors='black', linewidths=0.4)\n",
        "    ax.set_xlabel('marker 1')\n",
        "    ax.set_ylabel('marker 2')\n",
        "    if limit is None:\n",
        "      ax.set_xlim((-2.5, 2.5))\n",
        "      ax.set_ylim((-2.5, 2.5))     \n",
        "    else:\n",
        "      ax.set_xlim(limit)\n",
        "      ax.set_ylim(limit)  \n",
        "    ax.legend(loc='best')\n",
        "    return ax\n",
        "\n",
        "def make_unbalanced_moons(n_samples=100, p=0.2, shuffle=True, noise=None, random_state=None):\n",
        "    if isinstance(n_samples, numbers.Integral):\n",
        "        n_samples_out = int(n_samples * p)\n",
        "        n_samples_in = n_samples - n_samples_out\n",
        "    else:\n",
        "        try:\n",
        "            n_samples_out, n_samples_in = n_samples\n",
        "        except ValueError:\n",
        "            raise ValueError('`n_samples` can be either an int or '\n",
        "                             'a two-element tuple.')\n",
        "\n",
        "    outer_circ_x = np.cos(np.linspace(0, np.pi, n_samples_out))\n",
        "    outer_circ_y = np.sin(np.linspace(0, np.pi, n_samples_out))\n",
        "    inner_circ_x = 1 - np.cos(np.linspace(0, np.pi, n_samples_in))\n",
        "    inner_circ_y = 1 - np.sin(np.linspace(0, np.pi, n_samples_in)) - .5\n",
        "\n",
        "    X = np.vstack([np.append(outer_circ_x, inner_circ_x),\n",
        "                   np.append(outer_circ_y, inner_circ_y)]).T\n",
        "    y = np.hstack([np.zeros(n_samples_out, dtype=np.intp),\n",
        "                   np.ones(n_samples_in, dtype=np.intp)])\n",
        "\n",
        "    if shuffle:\n",
        "        X, y = sklearn.utils.shuffle(X, y)\n",
        "\n",
        "    if noise is not None:\n",
        "        X += np.random.normal(scale=noise, size=X.shape)\n",
        "\n",
        "    return X, y"
      ],
      "execution_count": null,
      "outputs": []
    },
    {
      "cell_type": "markdown",
      "metadata": {
        "id": "Cm--KTbTaeh9"
      },
      "source": [
        "## Let us generate data for classification:"
      ]
    },
    {
      "cell_type": "markdown",
      "metadata": {
        "id": "TOCUSCdRr-6I"
      },
      "source": [
        "We generate toy data for this application. $x$ is a an array where each row represents an input/observation and each column represents a marker. $y$ is an array of 0's and 1's, where 0 indicates class 0, and 1 indicates class 1.\n",
        "\n",
        "**Instructions**: run the code below to make a toy training and testing classification data set and visualize the data."
      ]
    },
    {
      "cell_type": "code",
      "metadata": {
        "id": "XNSyf0DcTOKR"
      },
      "source": [
        "# Dataset: generate a toy classification data set with non-linear decision boundary\n",
        "X, Y = make_unbalanced_moons(noise=0.35, n_samples=1000)\n",
        "X = scale(X)\n",
        "X_train, X_test, Y_train, Y_test = train_test_split(X, Y, test_size=.3)"
      ],
      "execution_count": null,
      "outputs": []
    },
    {
      "cell_type": "code",
      "metadata": {
        "id": "q1TBtj8yVPF5",
        "colab": {
          "base_uri": "https://localhost:8080/",
          "height": 404
        },
        "outputId": "7d87725c-6a3f-421f-cc99-a79ddea4321c"
      },
      "source": [
        "# Visualize Dataset\n",
        "fig, ax = plt.subplots(1, 1, figsize=(10, 6))\n",
        "scatter_plot_data(X_train, Y_train, ax)\n",
        "ax.set_title('Dataset for Classification')\n",
        "plt.show()"
      ],
      "execution_count": null,
      "outputs": [
        {
          "output_type": "display_data",
          "data": {
            "image/png": "[encoded data removed]",
            "text/plain": [
              "<Figure size 720x432 with 1 Axes>"
            ]
          },
          "metadata": {
            "tags": [],
            "needs_background": "light"
          }
        }
      ]
    },
    {
      "cell_type": "markdown",
      "metadata": {
        "id": "EjBEgNvrZ8cx"
      },
      "source": [
        "**Exercise 1:** What do you notice about this data set that can potentially cause problems for a classifier?"
      ]
    },
    {
      "cell_type": "markdown",
      "metadata": {
        "id": "aSiWVBg0dUoW"
      },
      "source": [
        "## 1. Fit a Logistic Regression Model\n",
        "\n",
        "**Exercise 2:** Train a logistic regression on this data. Visualize the classification boundary of the model, and compute your model's confusion matrix, ROC curve and AUC. \n"
      ]
    },
    {
      "cell_type": "code",
      "metadata": {
        "id": "E-XC0LJnY88a",
        "colab": {
          "base_uri": "https://localhost:8080/",
          "height": 390
        },
        "outputId": "df870c64-5c1b-47dc-faa8-218db2a7861b"
      },
      "source": [
        "# Step 1. Fit a logistic regression \n",
        "# COMPLETE\n",
        "\n",
        "# Step 2. Visualize the decision boundary\n",
        "fig, ax = plt.subplots(1, 1, figsize=(10, 6))\n",
        "#plot_decision_boundary(X_train, Y_train, logistic_regression, ax)\n",
        "ax.set_title('Decision Boundary for Logistic Regression')\n",
        "plt.show()"
      ],
      "execution_count": null,
      "outputs": [
        {
          "output_type": "display_data",
          "data": {
            "image/png": "[encoded data removed]",
            "text/plain": [
              "<Figure size 720x432 with 1 Axes>"
            ]
          },
          "metadata": {
            "tags": [],
            "needs_background": "light"
          }
        }
      ]
    },
    {
      "cell_type": "code",
      "metadata": {
        "id": "6jGM1sz0aqmx"
      },
      "source": [
        "### Evaluate the training and testing performance of your model \n",
        "# Step 1: Predict using your model\n",
        "# COMPLETE\n",
        "# Y_predict = ...\n",
        "\n",
        "# Step 2: Compute test accuracy\n",
        "# COMPLETE\n",
        "# test_accuracy = ...\n",
        "# print('Test accuracy:', test_accuracy)\n",
        "\n",
        "# Step 3: Compute the test confusion matrix\n",
        "# COMPLETE\n",
        "# matrix = ...\n",
        "# print('Confusion matrix for the classification on test:\\n', matrix)"
      ],
      "execution_count": null,
      "outputs": []
    },
    {
      "cell_type": "code",
      "metadata": {
        "id": "-IaYID4ya7X9"
      },
      "source": [
        "# Step 4: Plot the ROC curve\n",
        "# Hint: see https://scikit-learn.org/stable/modules/generated/sklearn.metrics.plot_roc_curve.html\n",
        "# COMPLETE\n",
        "plt.show()"
      ],
      "execution_count": null,
      "outputs": []
    },
    {
      "cell_type": "markdown",
      "metadata": {
        "id": "yyr5M9elt2wA"
      },
      "source": [
        "**Exercise 3:** Looking at your model's classification boundary, how well does your model fit the data? What are the shortcomings of your model?\n",
        "\n",
        "**Exercise 4:** Looking at your confusion matrix, what are the model's False Positive Rate and False Negative Rate?\n",
        "\n",
        "**Exercise 4:** Looking at the plot of the ROC curve, what threshold would you choose for your classifier? How does this choice affect the False Positive Rates? How does this choice affect the False Negative Rates?\n",
        "\n",
        "**Exercise 5:** Change the classification threshold to the optimal one you selected in Exercise 4. Visualize the new decision boundary. Compute the confusion matrix using the new threshold. How does the new confusion matrix compared with the one computed in Exercise 2?\n"
      ]
    },
    {
      "cell_type": "code",
      "metadata": {
        "id": "Oq3sRxKHyy0g"
      },
      "source": [
        "# Step 1: compute the probability of being in each class\n",
        "#Y_probability = logistic_regression.predict_proba(X_test)\n",
        "\n",
        "# Step 2: the returned array has two columns: \n",
        "# one for the probability of class 0 and one for the probability of class 1. \n",
        "# Since this is a binary classification problem, we only care about the probability\n",
        "# of being in class 1 or not. Thus, we take the 1st column as follows:\n",
        "#Y_probability = Y_probability[:, 1]\n",
        "\n",
        "# Step 3: set a threshold\n",
        "#threshold = ...\n",
        "\n",
        "## Step 4: classify as '1' when the probability is bigger than the threshold\n",
        "## other, set the probability to 0\n",
        "#Y_predict = Y_probability\n",
        "#Y_predict[Y_probability >= threshold] = 1\n",
        "#Y_predict[Y_probability < threshold] = 0"
      ],
      "execution_count": null,
      "outputs": []
    },
    {
      "cell_type": "code",
      "metadata": {
        "id": "JHs4TdLddx7V",
        "colab": {
          "base_uri": "https://localhost:8080/",
          "height": 390
        },
        "outputId": "5c3fed4c-068b-4527-c6a1-4c0bc6707a9b"
      },
      "source": [
        "# Step 5: visualize the new decision boundary with your new classification threshold!\n",
        "fig, ax = plt.subplots(1, 1, figsize=(10, 6))\n",
        "#plot_decision_boundary(X_train, Y_train, logistic_regression, ax, threshold=threshold)\n",
        "ax.set_title('Decision Boundary for Logistic Regression')\n",
        "plt.show()"
      ],
      "execution_count": null,
      "outputs": [
        {
          "output_type": "display_data",
          "data": {
            "image/png": "[encoded data removed]",
            "text/plain": [
              "<Figure size 720x432 with 1 Axes>"
            ]
          },
          "metadata": {
            "tags": [],
            "needs_background": "light"
          }
        }
      ]
    },
    {
      "cell_type": "code",
      "metadata": {
        "id": "ygWB0veTdy17"
      },
      "source": [
        "# Step 6: Compute the test confusion matrix\n",
        "# matrix = ...\n",
        "# print('Confusion matrix for the classification on test:\\n', matrix)"
      ],
      "execution_count": null,
      "outputs": []
    },
    {
      "cell_type": "markdown",
      "metadata": {
        "id": "9LY9jKoIf-hM"
      },
      "source": [
        "## 2. Fit a Neural Network Classifier\n",
        "\n",
        "**Exercise 5:** Fit a neural network classifier. Find the best architecture and regularization strength for this dataset.\n",
        "Visualize the training data as well as the decision boundary.\n",
        "How well does the model fit the data?"
      ]
    },
    {
      "cell_type": "code",
      "metadata": {
        "id": "HD34wY6tTZ5T"
      },
      "source": [
        "# Step 1: Choose settings for the neural network\n",
        "H = 10 # number of hidden nodes\n",
        "input_dim = X_train.shape[1] # input dimension\n",
        "reg = l2(0.01) # change the strength of the regularizer\n",
        "\n",
        "# Step 2: Create neural network\n",
        "model = Sequential()\n",
        "model.add(Dense(H, input_dim=input_dim, activation='tanh', kernel_regularizer=reg, bias_regularizer=reg)) # input layer\n",
        "model.add(Dense(H, activation='tanh', kernel_regularizer=reg, bias_regularizer=reg)) # hidden layer 1\n",
        "model.add(Dense(1, activation='sigmoid', kernel_regularizer=reg, bias_regularizer=reg)) # output layer\n",
        "\n",
        "# Step 3: Configure the model\n",
        "learning_rate = 0.001\n",
        "sgd = SGD(lr=learning_rate)\n",
        "model.compile(optimizer=sgd, loss='binary_crossentropy')"
      ],
      "execution_count": null,
      "outputs": []
    },
    {
      "cell_type": "code",
      "metadata": {
        "id": "VHPtH-oqTpkf"
      },
      "source": [
        "# Step 4: Fit the model\n",
        "history = model.fit(X_train, Y_train, batch_size=200, epochs=500, verbose=0)"
      ],
      "execution_count": null,
      "outputs": []
    },
    {
      "cell_type": "code",
      "metadata": {
        "id": "psmJ31reTthJ",
        "colab": {
          "base_uri": "https://localhost:8080/",
          "height": 386
        },
        "outputId": "a5884326-4a86-4e36-b51b-b9adb02ad4e3"
      },
      "source": [
        "# Step 5: Visualize the trace of loss function\n",
        "fig, ax = plt.subplots(1, 2, figsize=(20, 5))\n",
        "\n",
        "# Visualize the training trajectory\n",
        "#ax[0].plot(np.array(history.history['loss']), color='red', label='training loss')\n",
        "ax[0].legend(loc=\"best\")\n",
        "ax[0].set_title(\"Loss During Training for lr={}\".format(learning_rate))\n",
        "ax[0].set_xlabel(\"Iterations\")\n",
        "ax[0].set_ylabel(\"Log Loss\")\n",
        "\n",
        "# Visualize the training trajectory (zoomed in)\n",
        "#ax[1].plot(np.array(history.history['loss']), color='red', label='training loss')\n",
        "ax[1].legend(loc=\"best\")\n",
        "ax[1].set_title(\"Loss During Training for lr={} (zoomed in)\".format(learning_rate))\n",
        "ax[1].set_xlabel(\"Iterations\")\n",
        "ax[1].set_ylabel(\"Log Loss\")\n",
        "ax[1].set_ylim((np.min(np.array(history.history['loss'])), np.min(np.array(history.history['loss']) + 0.1)))\n",
        "plt.show()"
      ],
      "execution_count": null,
      "outputs": [
        {
          "output_type": "stream",
          "text": [
            "No handles with labels found to put in legend.\n",
            "No handles with labels found to put in legend.\n"
          ],
          "name": "stderr"
        },
        {
          "output_type": "display_data",
          "data": {
            "image/png": "[encoded data removed]",
            "text/plain": [
              "<Figure size 1440x360 with 2 Axes>"
            ]
          },
          "metadata": {
            "tags": [],
            "needs_background": "light"
          }
        }
      ]
    },
    {
      "cell_type": "code",
      "metadata": {
        "id": "LASVuPLCWWw1",
        "colab": {
          "base_uri": "https://localhost:8080/",
          "height": 390
        },
        "outputId": "a3fdbc6d-2e1e-485f-dc83-536db54c44d9"
      },
      "source": [
        "fig, ax = plt.subplots(1, 1, figsize=(10, 6))\n",
        "\n",
        "# Step 6: Visualize decision boundary\n",
        "#plot_decision_boundary(X_train, Y_train, model, ax)\n",
        "ax.set_title('Decision Boundary of Neural Network')\n",
        "plt.show()"
      ],
      "execution_count": null,
      "outputs": [
        {
          "output_type": "display_data",
          "data": {
            "image/png": "[encoded data removed]",
            "text/plain": [
              "<Figure size 720x432 with 1 Axes>"
            ]
          },
          "metadata": {
            "tags": [],
            "needs_background": "light"
          }
        }
      ]
    },
    {
      "cell_type": "markdown",
      "metadata": {
        "id": "3KdENhg6gZJI"
      },
      "source": [
        "**Exercise 6:** Compute the confusion matrix, the AUC and plot the ROC curve. Based on these metrics how well is your model doing?"
      ]
    },
    {
      "cell_type": "code",
      "metadata": {
        "id": "lSd7KIiHT1jn"
      },
      "source": [
        "### Evaluate the training and testing performance of your model \n",
        "# Step 1: Predict labels using your model (use the method predict_classes: https://kite.com/python/docs/tensorflow.keras.Sequential.predict_classes)\n",
        "# COMPLETE\n",
        "\n",
        "# Step 2: Compute the test confusion matrix\n",
        "# COMPLETE\n",
        "# print('Confusion matrix for the classification on test:\\n', matrix)"
      ],
      "execution_count": null,
      "outputs": []
    },
    {
      "cell_type": "code",
      "metadata": {
        "id": "-U6_pMVlfNbU",
        "colab": {
          "base_uri": "https://localhost:8080/",
          "height": 408
        },
        "outputId": "c3895fc2-abfb-4980-e247-12f24cd3784b"
      },
      "source": [
        "# Step 4: Compute the ROC curve using roc_curve, this returns the false positive rate, true positive rate and thresholds\n",
        "# Hint: check documentation: https://scikit-learn.org/stable/modules/generated/sklearn.metrics.roc_curve.html\n",
        "# COMPLETE\n",
        "\n",
        "# Step 5: Visualize the ROC curve\n",
        "fig, ax = plt.subplots(1, 1, figsize=(10, 6))\n",
        "# ax.plot(fpr, tpr, label='ROC curve')\n",
        "ax.legend(loc='best')\n",
        "ax.set_title('ROC curve of neural network classifier')\n",
        "plt.show()"
      ],
      "execution_count": null,
      "outputs": [
        {
          "output_type": "stream",
          "text": [
            "No handles with labels found to put in legend.\n"
          ],
          "name": "stderr"
        },
        {
          "output_type": "display_data",
          "data": {
            "image/png": "[encoded data removed]",
            "text/plain": [
              "<Figure size 720x432 with 1 Axes>"
            ]
          },
          "metadata": {
            "tags": [],
            "needs_background": "light"
          }
        }
      ]
    },
    {
      "cell_type": "markdown",
      "metadata": {
        "id": "brL4r4fyhUu5"
      },
      "source": [
        "**Exercise 7:** Change the classification threshold to the optimal one using the ROC curve. Visualize the new decision boundary. Compute the confusion matrix using the new threshold. How does the new confusion matrix compared with the one computed in Exercise 2?"
      ]
    },
    {
      "cell_type": "code",
      "metadata": {
        "id": "dI1PGyscMJs_"
      },
      "source": [
        "# Step 2: compute the probability of being in each class\n",
        "# COMPLETE\n",
        "\n",
        "# Step 3: set a threshold\n",
        "# COMPLETE\n",
        "#threshold = ...\n",
        "\n",
        "# Step 4: classify as '1' when the probability is bigger than the threshold\n",
        "# other, set the probability to 0\n",
        "# COMPLETE\n",
        "\n",
        "# Step 5: Compute the accuracy (Hint: use accuracy_score method)\n",
        "# COMPLETE\n",
        "#test_accuracy = ... \n",
        "#print('Test Accuracy:', test_accuracy)\n",
        "\n",
        "# Step 6: Compute the test confusion matrix\n",
        "# COMPLETE\n",
        "# print('Confusion matrix for the classification on test:\\n', matrix)"
      ],
      "execution_count": null,
      "outputs": []
    },
    {
      "cell_type": "code",
      "metadata": {
        "id": "v_G6E4e0jl02",
        "colab": {
          "base_uri": "https://localhost:8080/",
          "height": 390
        },
        "outputId": "5be37087-d46c-4627-faf3-fe16b57bc83f"
      },
      "source": [
        "fig, ax = plt.subplots(1, 1, figsize=(10, 6))\n",
        "\n",
        "# Step 1: Visualize decision boudnary\n",
        "#plot_decision_boundary(X_train, Y_train, model, ax, threshold=0.5)\n",
        "ax.set_title('Decision Boundary of Neural Network')\n",
        "plt.show()"
      ],
      "execution_count": null,
      "outputs": [
        {
          "output_type": "display_data",
          "data": {
            "image/png": "[encoded data removed]",
            "text/plain": [
              "<Figure size 720x432 with 1 Axes>"
            ]
          },
          "metadata": {
            "tags": [],
            "needs_background": "light"
          }
        }
      ]
    }
  ]
}