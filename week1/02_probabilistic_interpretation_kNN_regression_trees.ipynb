{
  "nbformat": 4,
  "nbformat_minor": 0,
  "metadata": {
    "kernelspec": {
      "display_name": "Python 3",
      "language": "python",
      "name": "python3"
    },
    "language_info": {
      "codemirror_mode": {
        "name": "ipython",
        "version": 3
      },
      "file_extension": ".py",
      "mimetype": "text/x-python",
      "name": "python",
      "nbconvert_exporter": "python",
      "pygments_lexer": "ipython3",
      "version": "3.6.8"
    },
    "colab": {
      "name": "02-probabilistic-interpretation-kNN-regression-trees.ipynb",
      "provenance": [],
      "collapsed_sections": []
    }
  },
  "cells": [
    {
      "cell_type": "markdown",
      "metadata": {
        "id": "Mu3nKbKu07FD"
      },
      "source": [
        "# DAY 2: Probabilistic Models; k-NN and Regression Trees\n",
        "\n",
        "### Machine Learning and Computational Statistics (DSC6232) \n",
        "#### Instructors: Weiwei Pan, Melanie Fernandez, Pavlos Protopapas \n",
        "#### Due: July 23nd, 2:00 pm Kigali Time\n",
        "\n"
      ]
    },
    {
      "cell_type": "markdown",
      "metadata": {
        "id": "hRfpBkpXIGJx"
      },
      "source": [
        "**First name**: _________________________________________________________\n",
        "\n",
        "\n",
        "**Last name**: _____________\n"
      ]
    },
    {
      "cell_type": "markdown",
      "metadata": {
        "id": "gV_oHa8yIaQB"
      },
      "source": [
        "## Learning Goals:\n",
        "\n",
        "1. work with the probabilistic interpretation of regression\n",
        "2. interpret the likelihood function\n",
        "3. train and understand k-nearest neighbors and regression trees"
      ]
    },
    {
      "cell_type": "code",
      "metadata": {
        "id": "vyabblMA07FF"
      },
      "source": [
        "import numpy as np\n",
        "import matplotlib.pyplot as plt\n",
        "\n",
        "from scipy.stats import norm\n",
        "from sklearn.preprocessing import PolynomialFeatures\n",
        "from sklearn.linear_model import LinearRegression\n",
        "from sklearn.model_selection import train_test_split\n",
        "from sklearn.neighbors import KNeighborsRegressor\n",
        "from sklearn.tree import DecisionTreeRegressor"
      ],
      "execution_count": null,
      "outputs": []
    },
    {
      "cell_type": "markdown",
      "metadata": {
        "id": "YUBdYcQF07FJ"
      },
      "source": [
        "### We include helper functions here that we will need later (no need to read in detail!)"
      ]
    },
    {
      "cell_type": "code",
      "metadata": {
        "id": "2idNCje907FK"
      },
      "source": [
        "''' Function to generate a toy dataset '''\n",
        "def generate_toy_data(n_points=20, noise_std=0.25):\n",
        "\n",
        "    x = np.linspace(-5, 5, n_points)\n",
        "\n",
        "    #define a function relating input to output\n",
        "    f = lambda x: 0.01 * x**3\n",
        "\n",
        "    #generate noisy training labels\n",
        "    y = f(x) + np.random.normal(0, noise_std, n_points)\n",
        "    \n",
        "    return x, y"
      ],
      "execution_count": null,
      "outputs": []
    },
    {
      "cell_type": "markdown",
      "metadata": {
        "id": "s_wnfxxiLvN7"
      },
      "source": [
        "# 1. k-Nearest Neighbor Regression\n",
        "\n",
        "In this section, we'll explore how the choice of $k$ affects the kNN regression model.\n",
        "\n",
        "**Exercise 1:** Fit kNN regression models to a data set using $k = 1, 3, 10$ and $20$ neighbors. "
      ]
    },
    {
      "cell_type": "code",
      "metadata": {
        "id": "gACTNQ1LLqqn",
        "colab": {
          "base_uri": "https://localhost:8080/",
          "height": 369
        },
        "outputId": "d7225373-623d-4c85-b6c3-1dd7f61a5d7c"
      },
      "source": [
        "# Step 0. Generate a data set for doing regression\n",
        "x, y = generate_toy_data()\n",
        "\n",
        "# split our data set into training and testing using a the 'train_test_split' function from sklearn\n",
        "x_train, x_test, y_train, y_test = train_test_split(x, y, test_size=0.33, random_state=42)\n",
        "\n",
        "\n",
        "# Step 1. Define a function that fits a kNN regression model and makes predictions for x\n",
        "\n",
        "def knn_regression(x, k=1):\n",
        "    ''' Returns model predictions at location x\n",
        "      Inputs:\n",
        "        * x_test: location of inputs for which we want to make a prediction\n",
        "        * k: number of neighbors\n",
        "      Output:\n",
        "        * y_pred: predictions of trained model  \n",
        "    '''\n",
        "    pass # remove this line when you fill in the function!\n",
        "    ## COMPLETE\n",
        "    # A. instantiate an sklearn KNeighborsRegressor model (https://scikit-learn.org/stable/modules/generated/sklearn.neighbors.KNeighborsClassifier.html)\n",
        "    # B. fit the knn regression model to our training data\n",
        "    # C. use the trained model to predict labels on the training data\n",
        "    # y_pred = ...\n",
        "    #return y_pred\n",
        "\n",
        "\n",
        "# Step 2. Fit a number of kNN regression models and visualize them\n",
        "\n",
        "# list of numbers of neighbors to try\n",
        "k_neighbors = [1, 3, 10, 20]\n",
        "\n",
        "fig, ax = plt.subplots(1, len(k_neighbors), figsize=(5 * len(k_neighbors), 5))\n",
        "\n",
        "# iterate through the list of number of neighbors\n",
        "for i in range(len(k_neighbors)):\n",
        "    ax[i].scatter(x_train, y_train, color='blue', label='training data') # plot the training data\n",
        "    #y_pred = knn_regression(x_train, k_neighbors[i]) # fit a knn regression model and make predictions    \n",
        "    #\n",
        "    #ax[i].plot(x_train, y_pred, color='red', label='{}NN model'.format(k_neighbors[i])) # plot the predictions\n",
        "    #\n",
        "    ax[i].set_title('{} number of nearest neighbors'.format(k_neighbors[i]))\n",
        "    ax[i].legend(loc='best')\n",
        "    \n",
        "plt.tight_layout()\n",
        "plt.show()"
      ],
      "execution_count": null,
      "outputs": [
        {
          "output_type": "display_data",
          "data": {
            "image/png": "[encoded data removed]",
            "text/plain": [
              "<Figure size 1440x360 with 4 Axes>"
            ]
          },
          "metadata": {
            "tags": [],
            "needs_background": "light"
          }
        }
      ]
    },
    {
      "cell_type": "markdown",
      "metadata": {
        "id": "IjfvJvS_XgT5"
      },
      "source": [
        "## 2. Regression Trees\n",
        "In this section, we'll explore how the choice of tree depth affect the Regression Tree model.\n",
        "\n",
        "**Exercise 2:** Fit Regression Tree models with depth=2 and depth=6 on the same set of data."
      ]
    },
    {
      "cell_type": "code",
      "metadata": {
        "id": "FrSxTMKIX0la",
        "colab": {
          "base_uri": "https://localhost:8080/",
          "height": 369
        },
        "outputId": "36fc1434-3d94-4f9e-bc7f-3aa10ca5f0d3"
      },
      "source": [
        "fig, ax = plt.subplots(1, 2, figsize=(10, 5))\n",
        "\n",
        "# Step 1: \n",
        "# A. Instantiate an sklearn DecisionTreeRegressor model with maximum depth = 2\n",
        "#    Hint: read the documentation https://scikit-learn.org/stable/modules/generated/sklearn.tree.DecisionTreeRegressor.html\n",
        "# B. Fit the model to the training data\n",
        "# C. Predict the labels of the training data\n",
        "#    y_pred_1 = ...\n",
        "# D. Plot the predictions on the training data\n",
        "#    ax[0].plot(x_train, y_pred_1, color='red', label='depth 2 tree')\n",
        "\n",
        "ax[0].scatter(x_train, y_train, color='blue', label='training data')\n",
        "ax[0].legend(loc='best')\n",
        "ax[0].set_title('regression tree with depth=2')\n",
        "\n",
        "# Step 2: \n",
        "# A. Instantiate an sklearn DecisionTreeRegressor model with maximum depth = 6\n",
        "# B. Fit the model to the training data\n",
        "# C. Predict the labels of the training data\n",
        "#    y_pred_2 = ...\n",
        "# D. Plot the predictions on the training data\n",
        "#    ax[1].plot(x_train, y_pred_2, color='red', label='depth 6 tree')\n",
        "\n",
        "ax[1].scatter(x_train, y_train, color='blue', label='training data')\n",
        "ax[1].legend(loc='best')\n",
        "ax[1].set_title('regression tree with depth=6')\n",
        "\n",
        "plt.tight_layout()\n",
        "plt.show()"
      ],
      "execution_count": null,
      "outputs": [
        {
          "output_type": "display_data",
          "data": {
            "image/png": "[encoded data removed]",
            "text/plain": [
              "<Figure size 720x360 with 2 Axes>"
            ]
          },
          "metadata": {
            "tags": [],
            "needs_background": "light"
          }
        }
      ]
    },
    {
      "cell_type": "markdown",
      "metadata": {
        "id": "iFQN69Cob8k8"
      },
      "source": [
        "## 3. Model Comparison\n",
        "\n",
        "**Exercise 3:** For the kNN regression models, which choices of $k$ (if any) lead to overfitting and which choices (if any) lead to underfitting? Can you explain why this is happening?\n",
        "\n",
        "For the decision tree models, which choices of $k$ (if any) lead to overfitting and which choices (if any) lead to underfitting? Can you explain why this is happening?"
      ]
    },
    {
      "cell_type": "markdown",
      "metadata": {
        "id": "VPV2nZUh07GE"
      },
      "source": [
        "---\n",
        "# The following exercises are extra credit, they are optional.\n",
        "\n",
        "## 5. The label $y$ is a Random Variable\n",
        "\n",
        "In the lectures, we saw that, in regression, we can view the label $y$ as the noisy observation of a function $f(x)$. That is,\n",
        "$$\n",
        "y = f(x) + \\epsilon,\\; \\epsilon \\sim \\mathcal{N}(0, \\sigma^2),\n",
        "$$\n",
        "where $\\epsilon$ represents the output noise, and is a normally distributed random variable.\n",
        "\n",
        "We claimed that $y$ is then a random variable distributed as $y\\sim \\mathcal{N}(f(x), \\sigma^2)$."
      ]
    },
    {
      "cell_type": "markdown",
      "metadata": {
        "id": "Z99Vshvdus8k"
      },
      "source": [
        "**Exercise 1 (Extra Credit):** In this exercise, fix $x=2$, let $f(x) = x + 2$ and $\\epsilon \\sim \\mathcal{N}(0, 1)$. Sample $N$ number of $\\epsilon$'s and show that $y$ is a normally distributed random variable by plotting values of $y$ in a histogram. What is the mean and variance of the random variable $y$?"
      ]
    },
    {
      "cell_type": "code",
      "metadata": {
        "id": "chs826H407GF"
      },
      "source": [
        "###\n",
        "# \n",
        "# Step 1: Sample the noise from a normal distribution with the appropriate mean and variance\n",
        "# (Hint: use the .normal function from numpy.random. \n",
        "# See documentation at: https://numpy.org/doc/stable/reference/random/generated/numpy.random.normal.html)\n",
        "# COMPLETE\n",
        "# \n",
        "# Step 2: Visualize the variation of the prediction caused by the variation of the noise\n",
        "# (Hint: use matplotlib to plot a histogram of the y's)\n",
        "# COMPLETE\n",
        "#\n",
        "###"
      ],
      "execution_count": null,
      "outputs": []
    },
    {
      "cell_type": "markdown",
      "metadata": {
        "id": "UXrHrrC-07GK"
      },
      "source": [
        "## 2. Interpreting the likelihood function\n",
        "\n",
        "Say we're considering two linear models for the dataset $\\{(1, 2), (2, 3)\\}$ with i.i.d. noise $\\epsilon_n \\sim \\mathcal{N}(0, 1)$.\n",
        "\n",
        "1. Model 1: $y = x + 2$\n",
        "2. Model 2: $y = -2x + 2$"
      ]
    },
    {
      "cell_type": "code",
      "metadata": {
        "id": "p8jEtuUQ07GL",
        "colab": {
          "base_uri": "https://localhost:8080/",
          "height": 51
        },
        "outputId": "5ad25b0b-144d-4454-fa39-f398d42803bc"
      },
      "source": [
        "# define the dataset\n",
        "x_train = np.array([1, 2])\n",
        "y_train = np.array([2, 3])\n",
        "\n",
        "# the gaussian likelihood of the training set\n",
        "lkhd = lambda m, b: norm(m * x_train[0] + b, 1).pdf(y_train[0]) * norm(m * x_train[1] + b, 1).pdf(y_train[1])\n",
        "\n",
        "# compute the likelihood under model 1\n",
        "likelihood_1 = lkhd(1, 2)\n",
        "\n",
        "# compute the likelihood under model 2\n",
        "likelihood_2 = lkhd(-2, 2)\n",
        "\n",
        "print('likelihood of data under model 1:', np.round(likelihood_1, 7))\n",
        "print('likelihood of data under model 2:', np.round(likelihood_2, 7))"
      ],
      "execution_count": null,
      "outputs": [
        {
          "output_type": "stream",
          "text": [
            "likelihood of data under model 1: 0.0585498\n",
            "likelihood of data under model 2: 1e-07\n"
          ],
          "name": "stdout"
        }
      ]
    },
    {
      "cell_type": "markdown",
      "metadata": {
        "id": "saN1LY4Ji9PN"
      },
      "source": [
        "**Exercise 2 (Extra Credit)**: Plot the dataset as well as the two models. \n",
        "Which model, assuming one is correct, is more appropriate for the data? Why? Support your answer using the likelihoods as well as the visualizations."
      ]
    },
    {
      "cell_type": "code",
      "metadata": {
        "id": "vSdbDAdsODky",
        "colab": {
          "base_uri": "https://localhost:8080/",
          "height": 320
        },
        "outputId": "ab4958cf-ea5d-4fe0-ab3b-96bdba541e14"
      },
      "source": [
        "fig, ax = plt.subplots(1, 1, figsize=(5, 5))\n",
        "\n",
        "# define the two models as functions\n",
        "model_1 = lambda x: x + 2 # define model 1 \n",
        "model_2 = lambda y: -2 * x + 2 # define model 2\n",
        "\n",
        "# generate 100 x-values for plotting\n",
        "x = np.linspace(-1, 5, 100)\n",
        "\n",
        "# Evaluate model 1 and 2 on the 100 x-values\n",
        "# COMPLETE\n",
        "# y_pred_1 = ...\n",
        "# y_pred_2 = ...\n",
        "\n",
        "# Visualize the two models on the same plot\n",
        "# COMPLETE\n",
        "# ax.plot(x, y_pred_1, color='red', label='model 1')\n",
        "# ax.plot(x, y_pred_2, color='orangered', label='model 2')\n",
        "\n",
        "ax.scatter(x_train, y_train, color='blue', label='training data')\n",
        "ax.legend(loc='best')\n",
        "\n",
        "plt.show()"
      ],
      "execution_count": null,
      "outputs": [
        {
          "output_type": "display_data",
          "data": {
            "image/png": "[encoded data removed]",
            "text/plain": [
              "<Figure size 360x360 with 1 Axes>"
            ]
          },
          "metadata": {
            "tags": [],
            "needs_background": "light"
          }
        }
      ]
    }
  ]
}