{
  "nbformat": 4,
  "nbformat_minor": 0,
  "metadata": {
    "kernelspec": {
      "display_name": "Python 3",
      "language": "python",
      "name": "python3"
    },
    "language_info": {
      "codemirror_mode": {
        "name": "ipython",
        "version": 3
      },
      "file_extension": ".py",
      "mimetype": "text/x-python",
      "name": "python",
      "nbconvert_exporter": "python",
      "pygments_lexer": "ipython3",
      "version": "3.6.8"
    },
    "colab": {
      "name": "01-linear-polynomial-regression.ipynb",
      "provenance": [],
      "collapsed_sections": []
    }
  },
  "cells": [
    {
      "cell_type": "markdown",
      "metadata": {
        "id": "Mu3nKbKu07FD"
      },
      "source": [
        "# DAY 1: Regression\n",
        "\n",
        "\n",
        "### Machine Learning and Computational Statistics (DSC6232)\n",
        "\n",
        "#### Instructors: Weiwei Pan, Melanie Fernandez, Pavlos Protopapas\n",
        "\n",
        "#### Due: July 22th, 2:00 pm Kigali Time"
      ]
    },
    {
      "cell_type": "markdown",
      "metadata": {
        "id": "D5IW6vvob4Wd"
      },
      "source": [
        "**First name**: _________________________________________________________\n",
        "\n",
        "\n",
        "**Last name**: _____________\n"
      ]
    },
    {
      "cell_type": "markdown",
      "metadata": {
        "id": "WPPQ80UZoPjm"
      },
      "source": [
        "## Learning Goals:\n",
        "\n",
        "1. become familiar with sklearn libraries\n",
        "2. understand, fit and predict using linear and polynomial regression\n",
        "3. identify overfitting/underfitting \n",
        "4. split your data in train and test splits"
      ]
    },
    {
      "cell_type": "code",
      "metadata": {
        "id": "vyabblMA07FF"
      },
      "source": [
        "# import the necessary python libraries\n",
        "import numpy as np\n",
        "import matplotlib.pyplot as plt\n",
        "\n",
        "from sklearn.preprocessing import PolynomialFeatures\n",
        "from sklearn.model_selection import train_test_split\n",
        "from sklearn.linear_model import LinearRegression\n",
        "from sklearn.metrics import mean_squared_error"
      ],
      "execution_count": null,
      "outputs": []
    },
    {
      "cell_type": "markdown",
      "metadata": {
        "id": "YUBdYcQF07FJ"
      },
      "source": [
        "### We include some auxiliary functions here that we will need to use later (no need to read in details!)"
      ]
    },
    {
      "cell_type": "code",
      "metadata": {
        "id": "2idNCje907FK"
      },
      "source": [
        "''' Function to generate a toy dataset '''\n",
        "def generate_toy_data(n_points=20, noise_std=0.25):\n",
        "\n",
        "    x = np.linspace(-5, 5, n_points)\n",
        "\n",
        "    #define a function relating input to output\n",
        "    f = lambda x: 0.01 * x**3\n",
        "\n",
        "    #generate noisy training labels\n",
        "    y = f(x) + np.random.normal(0, noise_std, n_points)\n",
        "    \n",
        "    return x, y"
      ],
      "execution_count": null,
      "outputs": []
    },
    {
      "cell_type": "markdown",
      "metadata": {
        "id": "G0bswK4opWje"
      },
      "source": [
        "## 1. Linear Regression (using sklearn library)\n",
        "\n",
        "`sklearn` is a machine learning library for python. One nice property is that models share the same interface (every model has methods like `.fit`, `.predict` and `.predict_proba`).\n",
        "\n",
        "Let's fit a linear regressor to some data and get used to the `sklearn` library functions.\n"
      ]
    },
    {
      "cell_type": "code",
      "metadata": {
        "id": "cAoUHvgL3CKW"
      },
      "source": [
        "# 0. generate a data set for doing regression\n",
        "x, y = generate_toy_data() \n",
        "\n",
        "# split our data set into training and testing using a the 'train_test_split' function from sklearn\n",
        "# see the documentation for 'train_test_split' here: \n",
        "# https://scikit-learn.org/stable/modules/generated/sklearn.model_selection.train_test_split.html\n",
        "x_train, x_test, y_train, y_test = train_test_split(x, y, test_size=0.33, random_state=42)"
      ],
      "execution_count": null,
      "outputs": []
    },
    {
      "cell_type": "code",
      "metadata": {
        "id": "9Wwwda6I07Fb",
        "colab": {
          "base_uri": "https://localhost:8080/",
          "height": 320
        },
        "outputId": "428f851a-9e03-4eed-b5f8-309504a90323"
      },
      "source": [
        "# 1. Instantiate an Linear Regression model object\n",
        "linear_regressor = LinearRegression()\n",
        "# 2. Fit model to the training data\n",
        "linear_regressor.fit(x_train.reshape(-1,1),y_train.reshape(-1,1))\n",
        "# 3. Make prediction on test input data \n",
        "y_pred = linear_regressor.predict(x_test.reshape(-1,1))\n",
        "# 4. Visualize results\n",
        "f, ax = plt.subplots(1, 1, figsize=(10, 5)) # make a figure with one row and one column of size 10x5\n",
        "ax.scatter(x_train, y_train) # scatter plot the training data\n",
        "ax.plot(x_test, y_pred, 'r')  # plot the learned linear regression function by plotting the predictions\n",
        "plt.show() # display the figure"
      ],
      "execution_count": null,
      "outputs": [
        {
          "output_type": "display_data",
          "data": {
            "image/png": "[encoded data removed]",
            "text/plain": [
              "<Figure size 720x360 with 1 Axes>"
            ]
          },
          "metadata": {
            "tags": [],
            "needs_background": "light"
          }
        }
      ]
    },
    {
      "cell_type": "markdown",
      "metadata": {
        "id": "CYJMeI8rfaIP"
      },
      "source": [
        "**Exercise 1:** Compute the Mean Square Error (MSE) of your model on the training dataset and on the testing dataset."
      ]
    },
    {
      "cell_type": "code",
      "metadata": {
        "id": "rhcusuTLgq1R"
      },
      "source": [
        "# Hint: you can use a pre-defined MSE function in the library documentation at: \n",
        "# https://scikit-learn.org/stable/modules/generated/sklearn.metrics.mean_squared_error.html\n",
        "#\n",
        "## COMPLETE\n",
        "# traing_mse = ...\n",
        "# test_mse = ...\n",
        "#\n",
        "# print('MSE on training data is: {}'.format(training_mse))\n",
        "# print('MSE on test data is: {}'.format(test_mse))"
      ],
      "execution_count": null,
      "outputs": []
    },
    {
      "cell_type": "markdown",
      "metadata": {
        "id": "CbTr2Zmmechj"
      },
      "source": [
        "**Exercise 2:** Is a linear regressor a good model for this data? Why or why not? Support your answer using concepts you learned from lecture, the visualizations of the data and the model, as well as the MSE."
      ]
    },
    {
      "cell_type": "markdown",
      "metadata": {
        "id": "7ZZOX9iyeCHS"
      },
      "source": [
        "Next, let's implement a polynomial regression model for the same dataset."
      ]
    },
    {
      "cell_type": "markdown",
      "metadata": {
        "id": "a-k_Lo1Mqx4Z"
      },
      "source": [
        "## 2. Polynomial Regression (using sklearn library)\n",
        "\n",
        "In this Section, we will experiment with fitting polynomial regression model of various degrees. We will explore how the choice of polynomial degree relates to underfitting and overfitting.\n",
        "\n",
        "**Exercise 3:** Fit polynomial regression models with degrees equal to 2, 4, and 16. Visualize each model along with the training data. Compute the training and test MSE for each model. "
      ]
    },
    {
      "cell_type": "code",
      "metadata": {
        "id": "2KsrmILy07Ff",
        "colab": {
          "base_uri": "https://localhost:8080/",
          "height": 336
        },
        "outputId": "1ee0b08a-72f5-4480-f878-55d993f2843c"
      },
      "source": [
        "# Make a list of polynomial degrees we want to try\n",
        "poly_degree = np.array([2, 4, 16])\n",
        "\n",
        "# Visualize the three models in a figure with one row and 3 columns, with size 15x5\n",
        "fig, ax = plt.subplots(1, 3, figsize=(15, 5))\n",
        "\n",
        "# Iterate over the polynomial degrees and the subplots in the figure\n",
        "for i in range(3):\n",
        "\n",
        "  ax[i].scatter(x_train, y_train, color='blue', label='training data') # scatter plot the training data\n",
        "\n",
        "  # Step 1: \n",
        "  # Instantiate a sklearn PolynomialFeatures model of degree=poly_degree[i] \n",
        "  # and transform both the training and the testing data to add polynomial features to our datasets.\n",
        "  # (Hint: look for documentation on sklearn.preprocessing.PolynomialFeatures)\n",
        "  ## COMPLETE\n",
        "  #\n",
        "  # Step 2:\n",
        "  # Instantiate a LinearRegression model, fit the model, and make predictions on training and test data\n",
        "  # You should set fit_intercept=False for this LinearRegression model, since the intercept is already\n",
        "  # generated by PolynomialFeatures\n",
        "  ## COMPLETE\n",
        "  #\n",
        "  # Step 3:\n",
        "  # Plot the learned polynomial regression model by plotting the model prediction against the training input \n",
        "  # COMPLETE\n",
        "  #\n",
        "  # ax[i].plot(x_train, y_train_pred, color='red', label='polynomial model')\n",
        "  #\n",
        "  # Step 4:\n",
        "  # Compute and print the training and test MSE.\n",
        "  # COMPLETE\n",
        "  #\n",
        "  # mse_train = ...\n",
        "  # mse_test = ...\n",
        "  #\n",
        "  # print('For degree {}, training MSE is: {:.3f}, test MSE is: {:.3f}'.format(poly_degree[i], mse_train, mse_test))\n",
        "\n",
        "  ax[i].set_title('Degree = {}'.format(poly_degree[i])) # set the title of the ith subplot\n",
        "  ax[i].legend(loc='best') # display the legend for the plot\n",
        "\n",
        "plt.show() # display the figure"
      ],
      "execution_count": null,
      "outputs": [
        {
          "output_type": "display_data",
          "data": {
            "image/png": "[encoded data removed]",
            "text/plain": [
              "<Figure size 1080x360 with 3 Axes>"
            ]
          },
          "metadata": {
            "tags": [],
            "needs_background": "light"
          }
        }
      ]
    },
    {
      "cell_type": "markdown",
      "metadata": {
        "id": "8FAC6BQa07Fk"
      },
      "source": [
        "**Exercise 4:** Visually, which function is the most appropriate for the data? Why? Support your answer using concepts you learned in lecture.\n"
      ]
    },
    {
      "cell_type": "markdown",
      "metadata": {
        "id": "E8Kth8OoOQTT"
      },
      "source": [
        "## 3. Can MSE be used to detect overfitting? If yes, how?"
      ]
    },
    {
      "cell_type": "markdown",
      "metadata": {
        "id": "YvJpXTJVMWmG"
      },
      "source": [
        "**Exercise 5:** In the previous example, how does the MSE in the train and test set vary as we increase the degree of the polynomial? Based on these values, how can we choose the best polynomial degree for the data?"
      ]
    },
    {
      "cell_type": "markdown",
      "metadata": {
        "id": "aO9vDtIDOJJo"
      },
      "source": [
        "---\n",
        "# The following section is for Extra Credit, it is optional.\n",
        "\n",
        "## 4. Can MSE be used to detect underfitting? If yes, how?"
      ]
    },
    {
      "cell_type": "markdown",
      "metadata": {
        "id": "9uSFBnEKU7Gs"
      },
      "source": [
        "In the following, let us generate noisy data from $f(x) = x^3$.\n",
        "\n",
        "We generate two datasets:\n",
        "* Dataset 1 has low noise.\n",
        "* Dataset 2 has high noise."
      ]
    },
    {
      "cell_type": "code",
      "metadata": {
        "id": "uD28BbufL0k-",
        "colab": {
          "base_uri": "https://localhost:8080/",
          "height": 336
        },
        "outputId": "397ecd2f-3713-435b-a6bf-d72b5bcd2f23"
      },
      "source": [
        "np.random.seed(10)\n",
        "# DATASET 1\n",
        "x1, y1 = generate_toy_data(n_points=50, noise_std=0.1) # generate low noise data\n",
        "x_train1, x_test1, y_train1, y_test1 = train_test_split(x1, y1, test_size=0.33, random_state=42) #split data into training and test\n",
        "\n",
        "# DATASET 2\n",
        "x2, y2 = generate_toy_data(n_points=50, noise_std=0.4) # generate high noise data\n",
        "x_train2, x_test2, y_train2, y_test2 = train_test_split(x2, y2, test_size=0.33, random_state=42) #split data into training and test\n",
        "\n",
        "# Visualize the two datasets in a figure with one row and 2 columns, with size 10x5\n",
        "fig, ax = plt.subplots(1, 2, figsize=(10, 5))\n",
        "\n",
        "ax[0].scatter(x_train1, y_train1, color='blue') # plot dataset 1\n",
        "ax[1].scatter(x_train2, y_train2, color='blue') # plot dataset 2\n",
        "\n",
        "ax[0].set_title('Dataset 1: low noise') # set the title for subplot 1\n",
        "ax[1].set_title('Dataset 2: high noise') # set the title for subplot 2\n",
        "\n",
        "plt.show() # display the figure"
      ],
      "execution_count": null,
      "outputs": [
        {
          "output_type": "display_data",
          "data": {
            "image/png": "[encoded data removed]",
            "text/plain": [
              "<Figure size 720x360 with 2 Axes>"
            ]
          },
          "metadata": {
            "tags": [],
            "needs_background": "light"
          }
        }
      ]
    },
    {
      "cell_type": "markdown",
      "metadata": {
        "id": "ttoUqO23DTm7"
      },
      "source": [
        "**Exercise 6 (Extra Credit):** Fit a linear regression model to the low noise dataset and a polynomial of degree 3 to the high noise dataset.  Compute training and test MSE for each model."
      ]
    },
    {
      "cell_type": "code",
      "metadata": {
        "id": "ehBnmwSeWJAt",
        "colab": {
          "base_uri": "https://localhost:8080/",
          "height": 336
        },
        "outputId": "caa395f8-8664-431e-f80e-d00220ec1468"
      },
      "source": [
        "# Visualize the two models in a figure with one row and 2 columns, with size 10x5\n",
        "fig, ax = plt.subplots(1, 2,figsize=(10, 5))\n",
        "\n",
        "# Step 1:\n",
        "# Instantiate a LinearRegression model, fit the model, and make predictions on training and test data\n",
        "## COMPLETE\n",
        "#\n",
        "# Step 2:\n",
        "# Plot the learned polynomial regression model by plotting the model prediction against the training input \n",
        "# COMPLETE\n",
        "#\n",
        "# ax[0].plot(x_train, y_train_pred, color='red', label='polynomial model')\n",
        "#\n",
        "# Step 3:\n",
        "# Compute and print the training and test MSE.\n",
        "# COMPLETE\n",
        "#\n",
        "# mse_train = ...\n",
        "# mse_test = ...\n",
        "#\n",
        "# print('For low noise dataset, training MSE is: {:.3f}, test MSE is: {:.3f}'.format(mse_train, mse_test))\n",
        "\n",
        "ax[0].scatter(x_train1, y_train1, color='blue') # plot dataset 1\n",
        "ax[0].set_title('Low Noise Dataset')\n",
        "\n",
        "# Step 1: \n",
        "# Instantiate a sklearn PolynomialFeatures model of degree=3 \n",
        "# and transform both the training and the testing data to add polynomial features to our datasets.\n",
        "# (Hint: look for documentation on sklearn.preprocessing.PolynomialFeatures)\n",
        "## COMPLETE\n",
        "#\n",
        "# Step 2:\n",
        "# Instantiate a LinearRegression model, fit the model, and make predictions on training and test data\n",
        "## COMPLETE\n",
        "#\n",
        "# Step 3:\n",
        "# Plot the learned polynomial regression model by plotting the model prediction against the training input \n",
        "# COMPLETE\n",
        "#\n",
        "# ax[1].plot(x_train, y_train_pred, color='red', label='polynomial model')\n",
        "#\n",
        "# Step 4:\n",
        "# Compute and print the training and test MSE.\n",
        "# COMPLETE\n",
        "#\n",
        "# mse_train = ...\n",
        "# mse_test = ...\n",
        "#\n",
        "# print('For high noise dataset, training MSE is: {:.3f}, test MSE is: {:.3f}'.format(mse_train, mse_test))\n",
        "\n",
        "ax[1].scatter(x_train2, y_train2, color='blue') # plot dataset 2\n",
        "ax[1].set_title('High Noise Dataset')\n",
        "\n",
        "plt.show()"
      ],
      "execution_count": null,
      "outputs": [
        {
          "output_type": "display_data",
          "data": {
            "image/png": "[encoded data removed]",
            "text/plain": [
              "<Figure size 720x360 with 2 Axes>"
            ]
          },
          "metadata": {
            "tags": [],
            "needs_background": "light"
          }
        }
      ]
    },
    {
      "cell_type": "markdown",
      "metadata": {
        "id": "4YXf6o81hV-W"
      },
      "source": [
        "**Exercise 7 (Extra Credit):** Let's compare the way each model fits their respective datasets.\n",
        "\n",
        "*  **A.** Which model fits the data better, based only on the training and test MSE? Why?\n",
        "\n",
        "* **B.** Remember that both dataset are generated from $f(x) = x^3$, with this fact in mind, which model is the better fit? Why?\n",
        "\n",
        "*  **C.** What does this experiment say about using MSE to detect underfitting?"
      ]
    }
  ]
}