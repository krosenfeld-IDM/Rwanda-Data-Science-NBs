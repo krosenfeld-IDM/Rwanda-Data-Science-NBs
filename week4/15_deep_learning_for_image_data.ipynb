{
 "cells": [
  {
   "cell_type": "markdown",
   "metadata": {
    "id": "UC_A597OOWts"
   },
   "source": [
    "# DAY 15: Deep Learning for Image Data\n",
    "\n",
    "### Machine Learning and Computational Statistics (DSC6232)\n",
    "\n",
    "#### Instructors: Weiwei Pan, Melanie Fernandez, Pavlos Protopapas\n",
    "\n",
    "#### Due: You do not need to submit this notebook, this is meant to help you get started on Homework #2.\n"
   ]
  },
  {
   "cell_type": "markdown",
   "metadata": {
    "id": "vsd7O5dzOerJ"
   },
   "source": [
    "**First name**: _________________________________________________________\n",
    "\n",
    "\n",
    "**Last name**: _____________"
   ]
  },
  {
   "cell_type": "markdown",
   "metadata": {
    "id": "JjNN6ipUOe9r"
   },
   "source": [
    "## Learning Goals:\n",
    "\n",
    "1. train a convolutional neural network\n",
    "2. deal with real image dataset\n",
    "3. deal with class imbalance"
   ]
  },
  {
   "cell_type": "code",
   "execution_count": 3,
   "metadata": {
    "colab": {
     "base_uri": "https://localhost:8080/",
     "height": 35
    },
    "id": "kmjKgNV6PRK5",
    "outputId": "804681e5-c05c-44a2-b594-eedfbb732851"
   },
   "outputs": [],
   "source": [
    "# Import necessary libraries\n",
    "import numpy as np\n",
    "import pandas as pd\n",
    "from PIL import Image\n",
    "from keras.models import Sequential\n",
    "from keras.layers import Conv2D, MaxPooling2D\n",
    "from keras.layers import Activation, Dropout, Flatten, Dense\n",
    "from tensorflow.keras.optimizers import SGD\n",
    "from sklearn.metrics import confusion_matrix, roc_auc_score\n",
    "from sklearn.model_selection import train_test_split\n",
    "import matplotlib\n",
    "import matplotlib.pylab as plt"
   ]
  },
  {
   "cell_type": "markdown",
   "metadata": {
    "id": "SUVfZT9EQ_bK"
   },
   "source": [
    "# Detecting Illegal Coffee Plantations and Deforestation \n",
    "\n",
    "> From mountainous jungles to low-lying dry forests, people are utilizing and accessing the forests of the Greater Mekong like never before. As recently as the early 70s, forests blanketed three quarters of the Greater Mekong. The last 30 years have seen more than 30% of that forest cover disappear. \n",
    "\n",
    "> Farmers are clearing forest cover for coffee planations at an accelerating pace. \n",
    "\n",
    "> Forests landscapes and river systems in the Greater Mekong region are becoming increasingly fragmented. The remaining intact areas are increasingly smaller and isolated inside areas that have been heavily transformed.\n",
    "\n",
    "> This can make it difficult for some animals to find suitable habitat or to follow usual migration routes. It can also increase inbreeding, which in turn can increase the vulnerability of species to disease and other pressures.\n",
    "\n",
    "> When habitats are isolated, species also become more vulnerable to climate change, as their ability to move to areas with more favourable conditions becomes increasingly limited. *-- WWF*\n",
    "\n",
    "Since illegal coffee plantations are often located deep in the forest, they are difficult to detect. Therefore, satellite images are now being used to detect these planations. However, there are vast numbers of satellite images being collected and it is both expensive and inefficient to process these images using human experts. \n",
    "\n",
    "Your job today is to build a machine learning model that can automatically detect the presence of a coffee plantation in a satellite image. You are provided with a small training set of labeled images (the label is 1 if there is a coffee planation in the image, and the label is 0 if there is not). \n",
    "\n",
    "\n",
    "Here are some examples of images that do not contain coffee plantations:\n",
    "\n",
    "<table>\n",
    "<tr>\n",
    "<td>\n",
    "<img src=\"https://i.ibb.co/DCm67tn/neg1.jpg\" alt=\"neg1\" border=\"0\">\n",
    "</td>\n",
    "<td>\n",
    "<img src=\"https://i.ibb.co/PNgtKm5/neg2.jpg\" alt=\"neg2\" border=\"0\">\n",
    "</td>\n",
    "<td>\n",
    "<img src=\"https://i.ibb.co/JCrwV9B/neg3.jpg\" alt=\"neg3\" border=\"0\">\n",
    "</td>\n",
    "<td>\n",
    "<img src=\"https://i.ibb.co/1dJLg8m/neg4.jpg\" alt=\"neg4\" border=\"0\">\n",
    "</td>\n",
    "</tr>\n",
    "</table>\n",
    "\n",
    "Here are some examples of images that contains coffee plantations:\n",
    "\n",
    "<table>\n",
    "<tr>\n",
    "<td>\n",
    "<img src=\"https://i.ibb.co/tDGMTDg/pos1.jpg\" alt=\"pos1\" border=\"0\">\n",
    "</td>\n",
    "<td>\n",
    "<img src=\"https://i.ibb.co/C7kDdw7/pos2.jpg\" alt=\"pos2\" border=\"0\">\n",
    "</td>\n",
    "<td>\n",
    "<img src=\"https://i.ibb.co/N6ZK4sp/pos3.jpg\" alt=\"pos3\" border=\"0\">\n",
    "</td>\n",
    "<td>\n",
    "<img src=\"https://i.ibb.co/9vjyTMS/pos4.jpg\" alt=\"pos4\" border=\"0\">\n",
    "</td>\n",
    "</tr>\n",
    "</table>\n",
    "\n",
    "Today you will explore how to use Neural Network Classifiers to detect coffee plantations in satellite images.\n",
    "\n",
    "### Read in the data and visualize\n",
    "\n",
    "Since the satellite images are very high resolution and in color (i.e. each image is represented as three color matrices, red, green and blue), we have reduced the resolution and have converted the colors into gray-scale.\n",
    "\n",
    "**Exercise 1:** Visualize several different images from the dataset to get familiar with the dataset."
   ]
  },
  {
   "cell_type": "code",
   "execution_count": 4,
   "metadata": {
    "id": "uq8eCx66PU5r"
   },
   "outputs": [],
   "source": [
    "# Read-in the data\n",
    "X = np.loadtxt('https://raw.githubusercontent.com/onefishy/Rwanda-course-2020/master/Competition_data/X_train.txt')\n",
    "y = np.loadtxt('https://raw.githubusercontent.com/onefishy/Rwanda-course-2020/master/Competition_data/y_train.txt')\n",
    "\n",
    "# Reshape the X's to have the correct dimensionality\n",
    "X = X.reshape(X.shape[0], 20, 20)\n",
    "\n",
    "# Split into train/test\n",
    "X_train, X_test, y_train, y_test = train_test_split(X, y, test_size=0.33)"
   ]
  },
  {
   "cell_type": "code",
   "execution_count": 5,
   "metadata": {
    "colab": {
     "base_uri": "https://localhost:8080/",
     "height": 265
    },
    "id": "tuRz7BKvRD95",
    "outputId": "aeae791f-e38a-47a6-afba-b4c16c8db0e9"
   },
   "outputs": [
    {
     "data": {
      "image/png": "[encoded data removed]",
      "text/plain": [
       "<Figure size 432x288 with 1 Axes>"
      ]
     },
     "metadata": {
      "needs_background": "light"
     },
     "output_type": "display_data"
    }
   ],
   "source": [
    "# Visualize some example images\n",
    "image_number = 0\n",
    "plt.imshow(X[image_number], cmap='gray')\n",
    "plt.show()"
   ]
  },
  {
   "cell_type": "markdown",
   "metadata": {
    "id": "WRmg1KE6mSWQ"
   },
   "source": [
    "**Exercise 2:** Visualize the proportion of classes in the dataset. Is this dataset balanced? How might the balance of the classes in the data affect your classifier?"
   ]
  },
  {
   "cell_type": "code",
   "execution_count": 6,
   "metadata": {
    "colab": {
     "base_uri": "https://localhost:8080/",
     "height": 336
    },
    "id": "gFp--Y2hmHZx",
    "outputId": "8e973eac-d56e-4f75-b09e-f8d8596feb1b"
   },
   "outputs": [
    {
     "data": {
      "image/png": "[encoded data removed]",
      "text/plain": [
       "<Figure size 360x360 with 1 Axes>"
      ]
     },
     "metadata": {
      "needs_background": "light"
     },
     "output_type": "display_data"
    }
   ],
   "source": [
    "# Make a bar chart showing the proportions of 0 labels and 1 labels in the training set\n",
    "fig, ax = plt.subplots(1, 1, figsize=(5, 5))\n",
    "# Percentage of training data labeled 0\n",
    "percent_0 = len(y_train[y_train == 0]) * 1. / len(y_train)\n",
    "# Percentage of training data labeled 1\n",
    "percent_1 = len(y_train[y_train == 1]) * 1. / len(y_train)\n",
    "# Plot percentages in a bar plot\n",
    "ax.bar((0, 1), (percent_0, percent_1), color=['red', 'blue'], alpha=0.5, align='center')\n",
    "# Prettify the plot\n",
    "ax.set_xticks([0, 1])\n",
    "ax.set_title('Proportions of Labels in Training Data')\n",
    "plt.show()"
   ]
  },
  {
   "cell_type": "markdown",
   "metadata": {
    "id": "rdi_uy3mUEJ6"
   },
   "source": [
    "## Train a Neural Network Classifier\n",
    "\n",
    "We first train a neural network classifier on the data.\n",
    "\n",
    "**Exercise 3:** Experiment with the number of hidden layers and the number of hidden units in each layer of this neural network. Evaluate your classifier's AUC and confusion matrix. How does a normal neural network classifier do on this image dataset?"
   ]
  },
  {
   "cell_type": "code",
   "execution_count": 17,
   "metadata": {
    "colab": {
     "base_uri": "https://localhost:8080/",
     "height": 336
    },
    "id": "1T4CtqegUHf3",
    "outputId": "8934edbd-b11b-4a6c-fd51-24bc75a9abb4"
   },
   "outputs": [
    {
     "name": "stderr",
     "output_type": "stream",
     "text": [
      "C:\\Users\\krosenfeld\\Documents\\projects\\other\\Rwanda-Data-Science-NBs\\envs\\lib\\site-packages\\keras\\optimizer_v2\\optimizer_v2.py:355: UserWarning: The `lr` argument is deprecated, use `learning_rate` instead.\n",
      "  warnings.warn(\n"
     ]
    },
    {
     "data": {
      "image/png": "[encoded data removed]",
      "text/plain": [
       "<Figure size 720x360 with 1 Axes>"
      ]
     },
     "metadata": {
      "needs_background": "light"
     },
     "output_type": "display_data"
    }
   ],
   "source": [
    "# Step 1: Build a MLP with one hidden layer\n",
    "dnn_model = Sequential()\n",
    "\n",
    "# Step 2: add layer 0\n",
    "dnn_model.add(Dense(100, input_shape=(X_train.shape[-2] * X_train.shape[-1],), activation='relu'))\n",
    "\n",
    "dnn_model.add(Dense(100, activation='relu'))\n",
    "dnn_model.add(Dense(500, activation='relu'))\n",
    "dnn_model.add(Dense(1000, activation='relu'))\n",
    "dnn_model.add(Dense(500, activation='relu'))\n",
    "\n",
    "# step 3: add single output for binary classification\n",
    "dnn_model.add(Dense(1, activation='sigmoid'))\n",
    "\n",
    "# Step 4: select Optimization parameters\n",
    "lr = 0.1 # learning rate\n",
    "epochs = 50 # total epochs\n",
    "\n",
    "# Step 5: Compile the model\n",
    "dnn_model.compile(optimizer=SGD(lr=lr, ), loss='binary_crossentropy', metrics=['accuracy'])\n",
    "\n",
    "# Step 6: Train the neural network\n",
    "history = dnn_model.fit(X_train.reshape((X_train.shape[0], -1)), y_train, batch_size=150, shuffle=True, epochs=epochs, verbose=0)\n",
    "\n",
    "# Step 7: Visualize metrics over course of training\n",
    "fig, ax = plt.subplots(1, 1, figsize=(10, 5))\n",
    "ax.plot(np.array(history.history['accuracy']), color='blue', label='training accuracy')\n",
    "ax.plot(np.array(history.history['loss']), color='red', label='training loss')\n",
    "ax.set_title('optimizer={}, learning rate={}'.format('SGD', lr))\n",
    "ax.legend(loc='upper right')\n",
    "plt.show()"
   ]
  },
  {
   "cell_type": "code",
   "execution_count": 18,
   "metadata": {},
   "outputs": [
    {
     "name": "stdout",
     "output_type": "stream",
     "text": [
      "Confusion Matrix:\n",
      "[[320   0]\n",
      " [156   0]]\n",
      "\n",
      "AUC Score: 0.5\n"
     ]
    }
   ],
   "source": [
    "# Step 1: make prediction on test data\n",
    "y_pred = dnn_model.predict(X_test.reshape(X_test.shape[0], -1))\n",
    "\n",
    "# Step 2: threthold the output probabilities\n",
    "y_pred = (y_pred >= 0.5) * 1.0\n",
    "\n",
    "# Step 3: print the confusion matrix\n",
    "print('Confusion Matrix:')\n",
    "print(confusion_matrix(y_test, y_pred))\n",
    "\n",
    "# Step 4: print AUC:\n",
    "print('\\nAUC Score:', roc_auc_score(y_test, y_pred))"
   ]
  },
  {
   "cell_type": "code",
   "execution_count": null,
   "metadata": {
    "colab": {
     "base_uri": "https://localhost:8080/",
     "height": 108
    },
    "id": "5NPouYUpU3m4",
    "outputId": "aa5f6ee0-7bca-4d62-82d9-34c0ce83ac67"
   },
   "outputs": [
    {
     "name": "stdout",
     "output_type": "stream",
     "text": [
      "Confusion Matrix:\n",
      "[[305   2]\n",
      " [169   0]]\n",
      "\n",
      "AUC Score: 0.496742671009772\n"
     ]
    }
   ],
   "source": [
    "# Step 1: make prediction on test data\n",
    "y_pred = dnn_model.predict(X_test.reshape(X_test.shape[0], -1))\n",
    "\n",
    "# Step 2: threthold the output probabilities\n",
    "y_pred = (y_pred >= 0.5) * 1.0\n",
    "\n",
    "# Step 3: print the confusion matrix\n",
    "print('Confusion Matrix:')\n",
    "print(confusion_matrix(y_test, y_pred))\n",
    "\n",
    "# Step 4: print AUC:\n",
    "print('\\nAUC Score:', roc_auc_score(y_test, y_pred))"
   ]
  },
  {
   "cell_type": "markdown",
   "metadata": {
    "id": "d4-CMXmBQ6CU"
   },
   "source": [
    "## Train a Convolutional Neural Network Classifier\n",
    "\n",
    "**Exercise 4:** Experiment with the number of hidden layers and the number of hidden units of this convolutional neural network. Evaluate your classifier's AUC and confusion matrix. How does a CNN classifier do on this image dataset? Is the CNN classifier better at this task than the normal neural network classifier?"
   ]
  },
  {
   "cell_type": "code",
   "execution_count": 19,
   "metadata": {
    "id": "dn1J1RntNTa7"
   },
   "outputs": [
    {
     "name": "stderr",
     "output_type": "stream",
     "text": [
      "C:\\Users\\krosenfeld\\Documents\\projects\\other\\Rwanda-Data-Science-NBs\\envs\\lib\\site-packages\\keras\\optimizer_v2\\optimizer_v2.py:355: UserWarning: The `lr` argument is deprecated, use `learning_rate` instead.\n",
      "  warnings.warn(\n"
     ]
    }
   ],
   "source": [
    "# Construct a Convolutional Neural Network\n",
    "\n",
    "# Step 1: Set the stride size\n",
    "stride_size = (2, 2)\n",
    "\n",
    "# Step 2: Set the pool size\n",
    "pool_size = (2, 2)\n",
    "\n",
    "# Step 3: define a sequential object\n",
    "cnn_model = Sequential()\n",
    "\n",
    "# Step 4: add a convolutional layer \n",
    "cnn_model.add(\n",
    "    Conv2D(5, kernel_size=5, padding='same', activation='relu',\n",
    "           input_shape=(X_train.shape[-2], X_train.shape[-1], 1),\n",
    "))\n",
    "# Step 5: add a max pooling layer\n",
    "cnn_model.add(MaxPooling2D(pool_size=pool_size, strides=stride_size))\n",
    "\n",
    "# Step 6: flatten\n",
    "cnn_model.add(Flatten())\n",
    "\n",
    "# Step 7: add a dense layer\n",
    "cnn_model.add(Dense(50, activation='tanh'))\n",
    "\n",
    "# Step 8: use sigmoid activation to output a probability\n",
    "cnn_model.add(Dense(1, activation='sigmoid'))\n",
    "\n",
    "# Step 8: select the learning rate\n",
    "lr = 0.01\n",
    "\n",
    "# Step 10: Compile model \n",
    "cnn_model.compile(optimizer=SGD(lr=lr),\n",
    "                  loss='binary_crossentropy',\n",
    "                  metrics=['accuracy'])"
   ]
  },
  {
   "cell_type": "code",
   "execution_count": 20,
   "metadata": {
    "id": "p0s21W9OPc5w"
   },
   "outputs": [],
   "source": [
    "# Fit the model\n",
    "history = cnn_model.fit(np.expand_dims(X_train, axis=-1), y_train, batch_size=150, epochs=100, verbose=0)"
   ]
  },
  {
   "cell_type": "code",
   "execution_count": 21,
   "metadata": {},
   "outputs": [
    {
     "data": {
      "image/png": "[encoded data removed]",
      "text/plain": [
       "<Figure size 720x360 with 1 Axes>"
      ]
     },
     "metadata": {
      "needs_background": "light"
     },
     "output_type": "display_data"
    }
   ],
   "source": [
    "# Plot the loss function and the evaluation metric over the course of training\n",
    "fig, ax = plt.subplots(1, 1, figsize=(10, 5))\n",
    "ax.plot(np.array(history.history['accuracy']), color='blue', label='training accuracy')\n",
    "ax.plot(np.array(history.history['loss']), color='red', label='training loss')\n",
    "ax.set_title('optimizer={}, learning rate={}'.format('SGD', lr))\n",
    "ax.legend(loc='upper right')\n",
    "plt.show()"
   ]
  },
  {
   "cell_type": "code",
   "execution_count": null,
   "metadata": {
    "colab": {
     "base_uri": "https://localhost:8080/",
     "height": 336
    },
    "id": "a4yua2nlQPVq",
    "outputId": "3b6f34ef-466e-4cdd-9d1f-220af68d6064"
   },
   "outputs": [
    {
     "data": {
      "image/png": "[encoded data removed]",
      "text/plain": [
       "<Figure size 720x360 with 1 Axes>"
      ]
     },
     "metadata": {
      "needs_background": "light",
      "tags": []
     },
     "output_type": "display_data"
    }
   ],
   "source": [
    "# Plot the loss function and the evaluation metric over the course of training\n",
    "fig, ax = plt.subplots(1, 1, figsize=(10, 5))\n",
    "ax.plot(np.array(history.history['accuracy']), color='blue', label='training accuracy')\n",
    "ax.plot(np.array(history.history['loss']), color='red', label='training loss')\n",
    "ax.set_title('optimizer={}, learning rate={}'.format('SGD', lr))\n",
    "ax.legend(loc='upper right')\n",
    "plt.show()"
   ]
  },
  {
   "cell_type": "code",
   "execution_count": 22,
   "metadata": {
    "colab": {
     "base_uri": "https://localhost:8080/",
     "height": 90
    },
    "id": "8owvWcObQhN6",
    "outputId": "1aab94ba-4a28-4d55-fda6-02d6242b365d"
   },
   "outputs": [
    {
     "name": "stdout",
     "output_type": "stream",
     "text": [
      "Confusion Matrix:\n",
      "[[318   2]\n",
      " [155   1]]\n",
      "AUC Score: 0.5000801282051283\n"
     ]
    }
   ],
   "source": [
    "# Step 1: make prediction on test data\n",
    "y_pred = cnn_model.predict(np.expand_dims(X_test, axis=-1))\n",
    "\n",
    "# Step 2: threthold the output probabilities\n",
    "y_pred = (y_pred >= 0.5) * 1.0\n",
    "\n",
    "# Step 3: print the confusion matrix\n",
    "print('Confusion Matrix:')\n",
    "print(confusion_matrix(y_test, y_pred))\n",
    "\n",
    "# Step 4: print AUC:\n",
    "print('AUC Score:', roc_auc_score(y_test, y_pred))"
   ]
  },
  {
   "cell_type": "markdown",
   "metadata": {
    "id": "LkUNsaFUlyoW"
   },
   "source": [
    "**Exercise 5:** Address the issue of data imbalance in the dataset in your modeling process. Can you get better performance for the minority class when you apply a method that addresses class imbalance?"
   ]
  },
  {
   "cell_type": "code",
   "execution_count": null,
   "metadata": {
    "colab": {
     "base_uri": "https://localhost:8080/",
     "height": 35
    },
    "id": "BJyMpryXmE9y",
    "outputId": "8e456e8e-a45b-4ed3-cd71-59b8bc267d3f"
   },
   "outputs": [
    {
     "data": {
      "text/plain": [
       "0.9361702127659575"
      ]
     },
     "execution_count": 11,
     "metadata": {
      "tags": []
     },
     "output_type": "execute_result"
    }
   ],
   "source": [
    "308 / (308 + 21)"
   ]
  },
  {
   "cell_type": "code",
   "execution_count": null,
   "metadata": {
    "colab": {
     "base_uri": "https://localhost:8080/",
     "height": 35
    },
    "id": "J_dsbAPMICaB",
    "outputId": "aaba64a2-80c1-4c2b-8980-b793b5a0b25f"
   },
   "outputs": [
    {
     "data": {
      "text/plain": [
       "0.3795620437956204"
      ]
     },
     "execution_count": 12,
     "metadata": {
      "tags": []
     },
     "output_type": "execute_result"
    }
   ],
   "source": [
    "52/ (85 + 52)"
   ]
  }
 ],
 "metadata": {
  "colab": {
   "collapsed_sections": [],
   "name": "15_deep_learning_for_image_data.ipynb",
   "provenance": []
  },
  "kernelspec": {
   "display_name": "Python 3 (ipykernel)",
   "language": "python",
   "name": "python3"
  },
  "language_info": {
   "codemirror_mode": {
    "name": "ipython",
    "version": 3
   },
   "file_extension": ".py",
   "mimetype": "text/x-python",
   "name": "python",
   "nbconvert_exporter": "python",
   "pygments_lexer": "ipython3",
   "version": "3.9.7"
  }
 },
 "nbformat": 4,
 "nbformat_minor": 1
}
