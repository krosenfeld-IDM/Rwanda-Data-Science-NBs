{
  "nbformat": 4,
  "nbformat_minor": 0,
  "metadata": {
    "kernelspec": {
      "display_name": "Python 3",
      "language": "python",
      "name": "python3"
    },
    "language_info": {
      "codemirror_mode": {
        "name": "ipython",
        "version": 3
      },
      "file_extension": ".py",
      "mimetype": "text/x-python",
      "name": "python",
      "nbconvert_exporter": "python",
      "pygments_lexer": "ipython3",
      "version": "3.6.8"
    },
    "colab": {
      "name": "08 model Interpretation and data manipulation.ipynb",
      "provenance": [],
      "collapsed_sections": []
    }
  },
  "cells": [
    {
      "cell_type": "markdown",
      "metadata": {
        "id": "HtQ0DFYp2miM"
      },
      "source": [
        "# DAY 8: Model Interpretation and data manipulation\n",
        "\n",
        "### Machine Learning and Computational Statistics (DSC6232)\n",
        "\n",
        "#### Instructors: Weiwei Pan, Melanie Fernandez, Pavlos Protopapas\n",
        "\n",
        "#### Due: August 3rd, 2:00 pm Kigali Time"
      ]
    },
    {
      "cell_type": "markdown",
      "metadata": {
        "id": "DFSUf8okMF_U"
      },
      "source": [
        "**First name**: _________________________________________________________\n",
        "\n",
        "\n",
        "**Last name**: _____________"
      ]
    },
    {
      "cell_type": "markdown",
      "metadata": {
        "id": "-LDLhlLnMXlS"
      },
      "source": [
        "## Learning Goals:\n",
        "\n",
        "1. encode non-numerical data\n",
        "2. preprocess data: scaling covariates, outlier removal and data imputation\n",
        "3. model interpretation for down-stream application"
      ]
    },
    {
      "cell_type": "markdown",
      "metadata": {
        "id": "ZMa9rQe12miO"
      },
      "source": [
        "### Load necessary libraries"
      ]
    },
    {
      "cell_type": "code",
      "metadata": {
        "id": "qTS4Kr6_2miP"
      },
      "source": [
        "# as usual, let us load all the necessary libraries\n",
        "import numpy as np  # numerical computation with arrays\n",
        "import pandas as pd # library to manipulate datasets using dataframes\n",
        "import scipy as sp  # statistical library\n",
        "\n",
        "# below sklearn libraries for different models\n",
        "from sklearn.tree import DecisionTreeClassifier as DecisionTree\n",
        "from sklearn.ensemble import RandomForestClassifier as RandomForest\n",
        "from sklearn.preprocessing import PolynomialFeatures\n",
        "from sklearn.linear_model import LogisticRegression\n",
        "from sklearn.linear_model import LinearRegression\n",
        "from sklearn.impute import KNNImputer\n",
        "from sklearn.metrics import mean_squared_error\n",
        "from sklearn.preprocessing import MinMaxScaler\n",
        "\n",
        "# plot \n",
        "import matplotlib\n",
        "import matplotlib.pyplot as plt\n",
        "%matplotlib inline"
      ],
      "execution_count": null,
      "outputs": []
    },
    {
      "cell_type": "markdown",
      "metadata": {
        "id": "XjxU5UNs2miY"
      },
      "source": [
        "### We include auxiliary functions here that we will need to use later \n",
        "\n",
        "**No need to read in details!**"
      ]
    },
    {
      "cell_type": "code",
      "metadata": {
        "id": "MLafemFh2mia"
      },
      "source": [
        "# function to generate random splits\n",
        "def split_data(X, y ,seed=29):\n",
        "    ''' Function to split  randomly your dataset in train and test '''\n",
        "    N,D = X.shape\n",
        "    test_size=0.4\n",
        "    np.random.seed(seed)\n",
        "    permuted_idxs = np.random.permutation(N)\n",
        "    N_train = int(np.floor(N*(1-test_size)))\n",
        "    train_idxs = permuted_idxs[:N_train]\n",
        "    test_idxs = permuted_idxs[N_train:]\n",
        "    X_train = X[train_idxs,:]\n",
        "    X_test = X[test_idxs,:]\n",
        "    y_train = y[train_idxs]\n",
        "    y_test = y[test_idxs]\n",
        "    return X_train, X_test, y_train, y_test\n",
        "\n",
        "# function to print feature importances (size of coefficients)\n",
        "def print_sorted_feat_importance(weights, colnames):\n",
        "    feature_weights = pd.Series(weights, index=colnames)\n",
        "    feature_weights_sorted = feature_weights.apply(np.abs).sort_values(ascending=False)\n",
        "\n",
        "    for name in feature_weights_sorted.index:\n",
        "         print('{:23s}: {:.4f}'.format(name, feature_weights[name]))\n",
        "            \n",
        "# function to plot confidence intervals\n",
        "def plot_confidence_intervals(bootstrap_weights, ax):\n",
        "    rows = bootstrap_weights.shape[0]\n",
        "    columns = bootstrap_weights.shape[1]\n",
        "    bootstrap_weights = bootstrap_weights.reshape((rows, columns))\n",
        "    ax.set_title(\"Variation in weight across variations in train set\")\n",
        "    ax.boxplot(bootstrap_weights)\n",
        "    ax.set_ylabel('Weight values')\n",
        "    ax.set_xlabel('Features')\n",
        "    ax.set_xticklabels(X_colnames, rotation=90)\n",
        "    return ax\n",
        "\n",
        "# function to plot predictive intervals\n",
        "def plot_predictive_intervals(bootstrap_predictions, labels, ax):\n",
        "    rows = bootstrap_predictions.shape[0]\n",
        "    columns = bootstrap_predictions.shape[1]\n",
        "    bootstrap_predictions = bootstrap_predictions.reshape((rows, columns))\n",
        "    ax.set_title(\"Variation in prediction across variations in train set\")\n",
        "    ax.boxplot(bootstrap_predictions)\n",
        "    ax.set_ylabel('Predicted Sales')\n",
        "    ax.set_xlabel('Companies')\n",
        "    ax.set_xticklabels(labels, rotation=90)\n",
        "    return ax\n",
        "\n",
        "def get_data(messy_data=True):\n",
        "\n",
        "    # load the data using pandas\n",
        "    X_df = pd.read_csv('https://raw.githubusercontent.com/onefishy/Rwanda-course-2020/master/In-class/X.csv')\n",
        "    y_df = pd.read_csv('https://raw.githubusercontent.com/onefishy/Rwanda-course-2020/master/In-class/y.csv')\n",
        "\n",
        "    # change $ to cents\n",
        "    X_df['bus_stops ($)'] *= 100.0\n",
        "    X_df.rename(columns={'bus_stops ($)': 'bus_stops (cents)'}, inplace=True)\n",
        "\n",
        "    # add id\n",
        "    X_df['company id number'] = np.arange(X_df.shape[0])\n",
        "\n",
        "    # add country\n",
        "    r = X_df['TV ($)']\n",
        "    r += np.random.normal(scale=2.0, size=r.shape)\n",
        "    X_df['Country'] = r\n",
        "    X_df.loc[r < 25.0, 'Country'] = 'Mexico'\n",
        "    X_df.loc[(r > 25.0) & (r < 160.0), 'Country'] = 'USA'\n",
        "    X_df.loc[r > 160.0, 'Country'] = 'Rwanda'\n",
        "\n",
        "    X_df['Nationality'] = r\n",
        "    X_df.loc[r < 25.0, 'Nationality'] = 'Mexican'\n",
        "    X_df.loc[(r > 25.0) & (r < 160.0), 'Nationality'] = 'American'\n",
        "    X_df.loc[r > 160.0, 'Nationality'] = 'Rwandan'\n",
        "\n",
        "\n",
        "    if messy_data:    \n",
        "        # create outliers\n",
        "        p_outliers = 0.1\n",
        "        outlier_idx = X_df.sample(frac=p_outliers, replace=True).index\n",
        "        X_outliers = X_df.iloc[outlier_idx].copy()\n",
        "        X_outliers[['electricity (mega W)', 'water (10^3 m3)']] += 30.0\n",
        "        X_df = pd.concat([X_df, X_outliers], ignore_index=True)\n",
        "        y_df = pd.concat([y_df, y_df.iloc[outlier_idx]], ignore_index=True)\n",
        "\n",
        "        # add missing values\n",
        "        p_missing_per_columnn = 0.01\n",
        "        for c in X_df.columns:\n",
        "            missing_idx = X_df.sample(frac=p_missing_per_columnn, replace=False).index\n",
        "            X_missing = X_df.iloc[missing_idx].copy()\n",
        "            X_missing[c] = np.NaN\n",
        "\n",
        "            X_df = pd.concat([X_df, X_missing], ignore_index=True)\n",
        "            y_df = pd.concat([y_df, y_df.iloc[missing_idx]], ignore_index=True)\n",
        "\n",
        "    new_index = np.random.permutation(X_df.index)\n",
        "    X_df = X_df.reindex(new_index)\n",
        "    y_df = y_df.reindex(new_index)\n",
        "\n",
        "    return X_df, y_df"
      ],
      "execution_count": null,
      "outputs": []
    },
    {
      "cell_type": "markdown",
      "metadata": {
        "id": "Y1kJvEr-2mig"
      },
      "source": [
        "---\n",
        "\n",
        "## Predicting total sales from marketing strategy\n",
        "\n",
        "In this exercise, you are asked to build a machine learning model to predict the total sales of a company based on their marketing strategy (how much money they invest in advertisement and in which venues they choose to advertise) as well as a few additional features of the company.\n",
        "\n",
        "The goal is not only to predict how much sales a company should expect, the goal is to also make a recommendation to the company on how they should adjust their marketing strategy or internal operations (e.g. you might recommend, based on your model, that the company invests more in social media marketing)."
      ]
    },
    {
      "cell_type": "markdown",
      "metadata": {
        "id": "fjmY5evQ2mii"
      },
      "source": [
        "#### Load the dataset and examine it"
      ]
    },
    {
      "cell_type": "code",
      "metadata": {
        "id": "oCdfp3Dl2mij"
      },
      "source": [
        "# load the data using pandas\n",
        "X_df, y_df = get_data()"
      ],
      "execution_count": null,
      "outputs": []
    },
    {
      "cell_type": "code",
      "metadata": {
        "id": "psIHuZDl2mio",
        "colab": {
          "base_uri": "https://localhost:8080/",
          "height": 258
        },
        "outputId": "eb44bede-748b-4cf4-b6c1-93cd1a17fdb0"
      },
      "source": [
        "# print the first rows of the marketing strategies data\n",
        "X_df.head()"
      ],
      "execution_count": null,
      "outputs": [
        {
          "output_type": "execute_result",
          "data": {
            "text/html": [
              "<div>\n",
              "<style scoped>\n",
              "    .dataframe tbody tr th:only-of-type {\n",
              "        vertical-align: middle;\n",
              "    }\n",
              "\n",
              "    .dataframe tbody tr th {\n",
              "        vertical-align: top;\n",
              "    }\n",
              "\n",
              "    .dataframe thead th {\n",
              "        text-align: right;\n",
              "    }\n",
              "</style>\n",
              "<table border=\"1\" class=\"dataframe\">\n",
              "  <thead>\n",
              "    <tr style=\"text-align: right;\">\n",
              "      <th></th>\n",
              "      <th>electricity (mega W)</th>\n",
              "      <th>water (10^3 m3)</th>\n",
              "      <th>bus_stops (cents)</th>\n",
              "      <th>sport_events ($)</th>\n",
              "      <th>social_media ($)</th>\n",
              "      <th>TV ($)</th>\n",
              "      <th>radio ($)</th>\n",
              "      <th>newspaper ($)</th>\n",
              "      <th>company id number</th>\n",
              "      <th>Country</th>\n",
              "      <th>Nationality</th>\n",
              "    </tr>\n",
              "  </thead>\n",
              "  <tbody>\n",
              "    <tr>\n",
              "      <th>195</th>\n",
              "      <td>0.211000</td>\n",
              "      <td>1.452358</td>\n",
              "      <td>2137.583559</td>\n",
              "      <td>31.573711</td>\n",
              "      <td>42.415801</td>\n",
              "      <td>41.684291</td>\n",
              "      <td>3.7</td>\n",
              "      <td>13.8</td>\n",
              "      <td>195.0</td>\n",
              "      <td>USA</td>\n",
              "      <td>American</td>\n",
              "    </tr>\n",
              "    <tr>\n",
              "      <th>210</th>\n",
              "      <td>32.754776</td>\n",
              "      <td>32.524236</td>\n",
              "      <td>97.807237</td>\n",
              "      <td>20.267720</td>\n",
              "      <td>32.773621</td>\n",
              "      <td>167.445140</td>\n",
              "      <td>42.0</td>\n",
              "      <td>3.6</td>\n",
              "      <td>193.0</td>\n",
              "      <td>Rwanda</td>\n",
              "      <td>Rwandan</td>\n",
              "    </tr>\n",
              "    <tr>\n",
              "      <th>157</th>\n",
              "      <td>1.582856</td>\n",
              "      <td>1.440923</td>\n",
              "      <td>1198.350520</td>\n",
              "      <td>38.072263</td>\n",
              "      <td>6.668631</td>\n",
              "      <td>150.494113</td>\n",
              "      <td>1.3</td>\n",
              "      <td>24.3</td>\n",
              "      <td>157.0</td>\n",
              "      <td>USA</td>\n",
              "      <td>American</td>\n",
              "    </tr>\n",
              "    <tr>\n",
              "      <th>174</th>\n",
              "      <td>0.575027</td>\n",
              "      <td>0.454591</td>\n",
              "      <td>3652.214898</td>\n",
              "      <td>18.817164</td>\n",
              "      <td>14.940963</td>\n",
              "      <td>220.435758</td>\n",
              "      <td>3.4</td>\n",
              "      <td>13.1</td>\n",
              "      <td>174.0</td>\n",
              "      <td>Rwanda</td>\n",
              "      <td>Rwandan</td>\n",
              "    </tr>\n",
              "    <tr>\n",
              "      <th>172</th>\n",
              "      <td>1.197656</td>\n",
              "      <td>0.595153</td>\n",
              "      <td>4676.287407</td>\n",
              "      <td>16.815753</td>\n",
              "      <td>30.320105</td>\n",
              "      <td>18.549877</td>\n",
              "      <td>20.1</td>\n",
              "      <td>17.0</td>\n",
              "      <td>172.0</td>\n",
              "      <td>Mexico</td>\n",
              "      <td>Mexican</td>\n",
              "    </tr>\n",
              "  </tbody>\n",
              "</table>\n",
              "</div>"
            ],
            "text/plain": [
              "     electricity (mega W)  water (10^3 m3)  ...  Country  Nationality\n",
              "195              0.211000         1.452358  ...      USA     American\n",
              "210             32.754776        32.524236  ...   Rwanda      Rwandan\n",
              "157              1.582856         1.440923  ...      USA     American\n",
              "174              0.575027         0.454591  ...   Rwanda      Rwandan\n",
              "172              1.197656         0.595153  ...   Mexico      Mexican\n",
              "\n",
              "[5 rows x 11 columns]"
            ]
          },
          "metadata": {
            "tags": []
          },
          "execution_count": 4
        }
      ]
    },
    {
      "cell_type": "markdown",
      "metadata": {
        "id": "QMihA969eLWH"
      },
      "source": [
        "**Exercise 1:** Are there any covariates we need to encode? If so, which ones?"
      ]
    },
    {
      "cell_type": "code",
      "metadata": {
        "id": "I6JqYfH82miw",
        "colab": {
          "base_uri": "https://localhost:8080/",
          "height": 204
        },
        "outputId": "bc5b7ea4-5b0b-4816-f802-ee5a5c7a2e2d"
      },
      "source": [
        "# print the first rows of the outcomes (total sales)\n",
        "y_df.head()"
      ],
      "execution_count": null,
      "outputs": [
        {
          "output_type": "execute_result",
          "data": {
            "text/html": [
              "<div>\n",
              "<style scoped>\n",
              "    .dataframe tbody tr th:only-of-type {\n",
              "        vertical-align: middle;\n",
              "    }\n",
              "\n",
              "    .dataframe tbody tr th {\n",
              "        vertical-align: top;\n",
              "    }\n",
              "\n",
              "    .dataframe thead th {\n",
              "        text-align: right;\n",
              "    }\n",
              "</style>\n",
              "<table border=\"1\" class=\"dataframe\">\n",
              "  <thead>\n",
              "    <tr style=\"text-align: right;\">\n",
              "      <th></th>\n",
              "      <th>sales (10^3 units)</th>\n",
              "    </tr>\n",
              "  </thead>\n",
              "  <tbody>\n",
              "    <tr>\n",
              "      <th>195</th>\n",
              "      <td>7.6</td>\n",
              "    </tr>\n",
              "    <tr>\n",
              "      <th>210</th>\n",
              "      <td>19.6</td>\n",
              "    </tr>\n",
              "    <tr>\n",
              "      <th>157</th>\n",
              "      <td>10.1</td>\n",
              "    </tr>\n",
              "    <tr>\n",
              "      <th>174</th>\n",
              "      <td>11.5</td>\n",
              "    </tr>\n",
              "    <tr>\n",
              "      <th>172</th>\n",
              "      <td>7.6</td>\n",
              "    </tr>\n",
              "  </tbody>\n",
              "</table>\n",
              "</div>"
            ],
            "text/plain": [
              "     sales (10^3 units)\n",
              "195                 7.6\n",
              "210                19.6\n",
              "157                10.1\n",
              "174                11.5\n",
              "172                 7.6"
            ]
          },
          "metadata": {
            "tags": []
          },
          "execution_count": 5
        }
      ]
    },
    {
      "cell_type": "code",
      "metadata": {
        "id": "F84CuONVco2Q",
        "colab": {
          "base_uri": "https://localhost:8080/",
          "height": 323
        },
        "outputId": "4eb89a9c-e1e8-4863-a421-ea7fc9caf90e"
      },
      "source": [
        "# get a summary of how many rows in the dataset and how many missing values is in each column\n",
        "# the 'Non-Null Count' counts the number of values in each column that is not missing\n",
        "X_df.info()"
      ],
      "execution_count": null,
      "outputs": [
        {
          "output_type": "stream",
          "text": [
            "<class 'pandas.core.frame.DataFrame'>\n",
            "Int64Index: 242 entries, 195 to 188\n",
            "Data columns (total 11 columns):\n",
            " #   Column                Non-Null Count  Dtype  \n",
            "---  ------                --------------  -----  \n",
            " 0   electricity (mega W)  240 non-null    float64\n",
            " 1   water (10^3 m3)       239 non-null    float64\n",
            " 2   bus_stops (cents)     240 non-null    float64\n",
            " 3   sport_events ($)      240 non-null    float64\n",
            " 4   social_media ($)      240 non-null    float64\n",
            " 5   TV ($)                240 non-null    float64\n",
            " 6   radio ($)             240 non-null    float64\n",
            " 7   newspaper ($)         240 non-null    float64\n",
            " 8   company id number     240 non-null    float64\n",
            " 9   Country               240 non-null    object \n",
            " 10  Nationality           240 non-null    object \n",
            "dtypes: float64(9), object(2)\n",
            "memory usage: 22.7+ KB\n"
          ],
          "name": "stdout"
        }
      ]
    },
    {
      "cell_type": "markdown",
      "metadata": {
        "id": "bgu1etTidLtM"
      },
      "source": [
        "**Exercise 2:** How many companies are contained in this dataset? For each covariate or column in the dataset, how many values are missing?"
      ]
    },
    {
      "cell_type": "code",
      "metadata": {
        "id": "d30Jt9C3dbr1",
        "colab": {
          "base_uri": "https://localhost:8080/",
          "height": 186
        },
        "outputId": "26ff8c75-9af5-42ff-ec51-1b51149e8ef7"
      },
      "source": [
        "# print a summary of the values for each covariate in the dataset\n",
        "X_df.describe()"
      ],
      "execution_count": null,
      "outputs": [
        {
          "output_type": "error",
          "ename": "NameError",
          "evalue": "ignored",
          "traceback": [
            "\u001b[0;31m---------------------------------------------------------------------------\u001b[0m",
            "\u001b[0;31mNameError\u001b[0m                                 Traceback (most recent call last)",
            "\u001b[0;32m<ipython-input-1-49926cf97cbf>\u001b[0m in \u001b[0;36m<module>\u001b[0;34m()\u001b[0m\n\u001b[1;32m      1\u001b[0m \u001b[0;31m# print a summary of the values for each covariate in the dataset\u001b[0m\u001b[0;34m\u001b[0m\u001b[0;34m\u001b[0m\u001b[0;34m\u001b[0m\u001b[0m\n\u001b[0;32m----> 2\u001b[0;31m \u001b[0mX_df\u001b[0m\u001b[0;34m.\u001b[0m\u001b[0mdescribe\u001b[0m\u001b[0;34m(\u001b[0m\u001b[0;34m)\u001b[0m\u001b[0;34m\u001b[0m\u001b[0;34m\u001b[0m\u001b[0m\n\u001b[0m",
            "\u001b[0;31mNameError\u001b[0m: name 'X_df' is not defined"
          ]
        }
      ]
    },
    {
      "cell_type": "markdown",
      "metadata": {
        "id": "sEDhV-gHdvl1"
      },
      "source": [
        "**Exercise 3:** Do we need to scale the covariates in this dataset? Why or why not?"
      ]
    },
    {
      "cell_type": "markdown",
      "metadata": {
        "id": "VhYDhUqacS7S"
      },
      "source": [
        "---\n",
        "## Pre-process the data\n",
        "\n",
        "We apply one-hot encoding to  categorical covariates, scale the values in the covariates, impute missingness and remove outliers.\n",
        "\n",
        "#### One-hot encode categorical variables"
      ]
    },
    {
      "cell_type": "code",
      "metadata": {
        "id": "Uc_sYqzScXKu",
        "colab": {
          "base_uri": "https://localhost:8080/",
          "height": 258
        },
        "outputId": "3462dfa5-5db0-449b-cc1b-0aed464d8dc1"
      },
      "source": [
        "# one hot encode the covariate 'Country'\n",
        "one_hot_country = pd.get_dummies(X_df['Country'], prefix='Country')\n",
        "\n",
        "# use pd.concat to join the new columns with your original dataframe\n",
        "X_df = pd.concat([X_df, one_hot_country], axis=1)\n",
        "\n",
        "# now drop the original 'country' column (you don't need it anymore)\n",
        "X_df.drop(['Country'], axis=1, inplace=True)\n",
        "\n",
        "# print the resultant dataframe\n",
        "X_df.head()"
      ],
      "execution_count": null,
      "outputs": [
        {
          "output_type": "execute_result",
          "data": {
            "text/html": [
              "<div>\n",
              "<style scoped>\n",
              "    .dataframe tbody tr th:only-of-type {\n",
              "        vertical-align: middle;\n",
              "    }\n",
              "\n",
              "    .dataframe tbody tr th {\n",
              "        vertical-align: top;\n",
              "    }\n",
              "\n",
              "    .dataframe thead th {\n",
              "        text-align: right;\n",
              "    }\n",
              "</style>\n",
              "<table border=\"1\" class=\"dataframe\">\n",
              "  <thead>\n",
              "    <tr style=\"text-align: right;\">\n",
              "      <th></th>\n",
              "      <th>electricity (mega W)</th>\n",
              "      <th>water (10^3 m3)</th>\n",
              "      <th>bus_stops (cents)</th>\n",
              "      <th>sport_events ($)</th>\n",
              "      <th>social_media ($)</th>\n",
              "      <th>TV ($)</th>\n",
              "      <th>radio ($)</th>\n",
              "      <th>newspaper ($)</th>\n",
              "      <th>company id number</th>\n",
              "      <th>Nationality</th>\n",
              "      <th>Country_Mexico</th>\n",
              "      <th>Country_Rwanda</th>\n",
              "      <th>Country_USA</th>\n",
              "    </tr>\n",
              "  </thead>\n",
              "  <tbody>\n",
              "    <tr>\n",
              "      <th>195</th>\n",
              "      <td>0.211000</td>\n",
              "      <td>1.452358</td>\n",
              "      <td>2137.583559</td>\n",
              "      <td>31.573711</td>\n",
              "      <td>42.415801</td>\n",
              "      <td>41.684291</td>\n",
              "      <td>3.7</td>\n",
              "      <td>13.8</td>\n",
              "      <td>195.0</td>\n",
              "      <td>American</td>\n",
              "      <td>0</td>\n",
              "      <td>0</td>\n",
              "      <td>1</td>\n",
              "    </tr>\n",
              "    <tr>\n",
              "      <th>210</th>\n",
              "      <td>32.754776</td>\n",
              "      <td>32.524236</td>\n",
              "      <td>97.807237</td>\n",
              "      <td>20.267720</td>\n",
              "      <td>32.773621</td>\n",
              "      <td>167.445140</td>\n",
              "      <td>42.0</td>\n",
              "      <td>3.6</td>\n",
              "      <td>193.0</td>\n",
              "      <td>Rwandan</td>\n",
              "      <td>0</td>\n",
              "      <td>1</td>\n",
              "      <td>0</td>\n",
              "    </tr>\n",
              "    <tr>\n",
              "      <th>157</th>\n",
              "      <td>1.582856</td>\n",
              "      <td>1.440923</td>\n",
              "      <td>1198.350520</td>\n",
              "      <td>38.072263</td>\n",
              "      <td>6.668631</td>\n",
              "      <td>150.494113</td>\n",
              "      <td>1.3</td>\n",
              "      <td>24.3</td>\n",
              "      <td>157.0</td>\n",
              "      <td>American</td>\n",
              "      <td>0</td>\n",
              "      <td>0</td>\n",
              "      <td>1</td>\n",
              "    </tr>\n",
              "    <tr>\n",
              "      <th>174</th>\n",
              "      <td>0.575027</td>\n",
              "      <td>0.454591</td>\n",
              "      <td>3652.214898</td>\n",
              "      <td>18.817164</td>\n",
              "      <td>14.940963</td>\n",
              "      <td>220.435758</td>\n",
              "      <td>3.4</td>\n",
              "      <td>13.1</td>\n",
              "      <td>174.0</td>\n",
              "      <td>Rwandan</td>\n",
              "      <td>0</td>\n",
              "      <td>1</td>\n",
              "      <td>0</td>\n",
              "    </tr>\n",
              "    <tr>\n",
              "      <th>172</th>\n",
              "      <td>1.197656</td>\n",
              "      <td>0.595153</td>\n",
              "      <td>4676.287407</td>\n",
              "      <td>16.815753</td>\n",
              "      <td>30.320105</td>\n",
              "      <td>18.549877</td>\n",
              "      <td>20.1</td>\n",
              "      <td>17.0</td>\n",
              "      <td>172.0</td>\n",
              "      <td>Mexican</td>\n",
              "      <td>1</td>\n",
              "      <td>0</td>\n",
              "      <td>0</td>\n",
              "    </tr>\n",
              "  </tbody>\n",
              "</table>\n",
              "</div>"
            ],
            "text/plain": [
              "     electricity (mega W)  water (10^3 m3)  ...  Country_Rwanda  Country_USA\n",
              "195              0.211000         1.452358  ...               0            1\n",
              "210             32.754776        32.524236  ...               1            0\n",
              "157              1.582856         1.440923  ...               0            1\n",
              "174              0.575027         0.454591  ...               1            0\n",
              "172              1.197656         0.595153  ...               0            0\n",
              "\n",
              "[5 rows x 13 columns]"
            ]
          },
          "metadata": {
            "tags": []
          },
          "execution_count": 8
        }
      ]
    },
    {
      "cell_type": "markdown",
      "metadata": {
        "id": "QskxqkB0hP24"
      },
      "source": [
        "**Exercise 4:** Encode the remaining categorical variables."
      ]
    },
    {
      "cell_type": "code",
      "metadata": {
        "id": "kxd86ABWhfer"
      },
      "source": [
        "# Step 1: one hot encode the categorical covariate\n",
        "\n",
        "# Step 2: use pd.concat to join the new columns with your original dataframe\n",
        "\n",
        "# Stpe 3: now drop the original 'country' column (you don't need it anymore)\n",
        "\n",
        "# Step 4: print the resultant dataframe"
      ],
      "execution_count": null,
      "outputs": []
    },
    {
      "cell_type": "markdown",
      "metadata": {
        "id": "GnIRFSHxj94o"
      },
      "source": [
        "**Exercise 5:** Inspect your DataFrame, are there any covariates that are irrelevant for prediction $y$? Drop unimportant covariates. \n",
        "\n",
        "***Hint:*** does the id number of the compny help predict total revenue?\n",
        "\n",
        "Are there any covariates that are redundant, i.e. they contain the exact information as other covariates? Drop redundant covariates."
      ]
    },
    {
      "cell_type": "code",
      "metadata": {
        "id": "sZf4q4GTls1Q"
      },
      "source": [
        "# Step 1: Drop unimportant covariates\n",
        "# Hint: look up the documentation for pandas' .drop() function\n",
        "# COMPLETE\n",
        "# X_df.drop(...)\n",
        "\n",
        "# Step 2: Drop ALL redundant covariates\n",
        "# Hint: look up the documentation for pandas' .drop() function\n",
        "# COMPLETE\n",
        "# X_df.drop(...)"
      ],
      "execution_count": null,
      "outputs": []
    },
    {
      "cell_type": "markdown",
      "metadata": {
        "id": "MiAJcBoLhv1s"
      },
      "source": [
        "#### Impute missing values\n",
        "\n",
        "**Exercise 5:** Impute the missing values in each column using a k-Nearest Neighbor model."
      ]
    },
    {
      "cell_type": "code",
      "metadata": {
        "id": "sGE7Hj7aiHqk"
      },
      "source": [
        "# Step 1: define an knn imputer using KNNImputer\n",
        "# Hint: look up the documentation for KNNImputer\n",
        "# COMPLETE\n",
        "# imputer = ...\n",
        "\n",
        "# Step 2: impute the missing data\n",
        "# X_df = pd.DataFrame(imputer.fit_transform(X_df), columns=X_df.columns, index=X_df.index)"
      ],
      "execution_count": null,
      "outputs": []
    },
    {
      "cell_type": "markdown",
      "metadata": {
        "id": "SaWGh_7mjC-Z"
      },
      "source": [
        "#### Remove outliers\n",
        "\n",
        "**Exercise 6:** Remove the outlier values in each column of the dataset."
      ]
    },
    {
      "cell_type": "code",
      "metadata": {
        "id": "4aOVIbZLjPj_",
        "colab": {
          "base_uri": "https://localhost:8080/",
          "height": 165
        },
        "outputId": "443204db-161d-4e81-906d-0662ca723e9c"
      },
      "source": [
        "low = .05\n",
        "high = .95\n",
        "\n",
        "# Step 1: compute 5% percentile and the 95% percentile of each column in the dataset\n",
        "quantile_df = X_df.quantile([low, high])\n",
        "quantile_df"
      ],
      "execution_count": null,
      "outputs": [
        {
          "output_type": "execute_result",
          "data": {
            "text/html": [
              "<div>\n",
              "<style scoped>\n",
              "    .dataframe tbody tr th:only-of-type {\n",
              "        vertical-align: middle;\n",
              "    }\n",
              "\n",
              "    .dataframe tbody tr th {\n",
              "        vertical-align: top;\n",
              "    }\n",
              "\n",
              "    .dataframe thead th {\n",
              "        text-align: right;\n",
              "    }\n",
              "</style>\n",
              "<table border=\"1\" class=\"dataframe\">\n",
              "  <thead>\n",
              "    <tr style=\"text-align: right;\">\n",
              "      <th></th>\n",
              "      <th>electricity (mega W)</th>\n",
              "      <th>water (10^3 m3)</th>\n",
              "      <th>bus_stops (cents)</th>\n",
              "      <th>sport_events ($)</th>\n",
              "      <th>social_media ($)</th>\n",
              "      <th>TV ($)</th>\n",
              "      <th>radio ($)</th>\n",
              "      <th>newspaper ($)</th>\n",
              "      <th>company id number</th>\n",
              "      <th>Country_Mexico</th>\n",
              "      <th>Country_Rwanda</th>\n",
              "      <th>Country_USA</th>\n",
              "    </tr>\n",
              "  </thead>\n",
              "  <tbody>\n",
              "    <tr>\n",
              "      <th>0.05</th>\n",
              "      <td>0.004004</td>\n",
              "      <td>0.008829</td>\n",
              "      <td>0.059869</td>\n",
              "      <td>0.038170</td>\n",
              "      <td>0.070265</td>\n",
              "      <td>0.02838</td>\n",
              "      <td>0.040222</td>\n",
              "      <td>0.029024</td>\n",
              "      <td>0.050000</td>\n",
              "      <td>0.0</td>\n",
              "      <td>0.0</td>\n",
              "      <td>0.0</td>\n",
              "    </tr>\n",
              "    <tr>\n",
              "      <th>0.95</th>\n",
              "      <td>0.951807</td>\n",
              "      <td>0.953139</td>\n",
              "      <td>0.952286</td>\n",
              "      <td>0.975905</td>\n",
              "      <td>0.969771</td>\n",
              "      <td>0.94567</td>\n",
              "      <td>0.948286</td>\n",
              "      <td>0.628848</td>\n",
              "      <td>0.959799</td>\n",
              "      <td>1.0</td>\n",
              "      <td>1.0</td>\n",
              "      <td>1.0</td>\n",
              "    </tr>\n",
              "  </tbody>\n",
              "</table>\n",
              "</div>"
            ],
            "text/plain": [
              "      electricity (mega W)  water (10^3 m3)  ...  Country_Rwanda  Country_USA\n",
              "0.05              0.004004         0.008829  ...             0.0          0.0\n",
              "0.95              0.951807         0.953139  ...             1.0          1.0\n",
              "\n",
              "[2 rows x 12 columns]"
            ]
          },
          "metadata": {
            "tags": []
          },
          "execution_count": 30
        }
      ]
    },
    {
      "cell_type": "code",
      "metadata": {
        "id": "fPmyUcp5zNRd",
        "colab": {
          "base_uri": "https://localhost:8080/",
          "height": 51
        },
        "outputId": "3d8a0127-2ffa-4d84-f8f7-deef82018422"
      },
      "source": [
        "# Step 2: remove ouliers in 'water (10^3 m3)'\n",
        "\n",
        "# print the number of rows before outlier removal\n",
        "print('Number of rows before outlier removal: {}'.format(X_df.shape[0]))\n",
        "# select rows greater than the 5% and smaller than the 95% threshold\n",
        "X_df = X_df[(X_df['water (10^3 m3)'] > quantile_df.loc[0.05, 'water (10^3 m3)']) & (X_df['water (10^3 m3)'] < quantile_df.loc[0.95, 'water (10^3 m3)'])]\n",
        "# print the number of rows after outlier removal\n",
        "print('Number of rows after outlier removal: {}'.format(X_df.shape[0]))"
      ],
      "execution_count": null,
      "outputs": [
        {
          "output_type": "stream",
          "text": [
            "Number of rows before outlier removal: 242\n",
            "Number of rows after outlier removal: 215\n"
          ],
          "name": "stdout"
        }
      ]
    },
    {
      "cell_type": "code",
      "metadata": {
        "id": "w5pf1CzU0Mw7"
      },
      "source": [
        "# Step 3: perform outlier removal for all columns\n",
        "# COMPLETE"
      ],
      "execution_count": null,
      "outputs": []
    },
    {
      "cell_type": "markdown",
      "metadata": {
        "id": "TzHQ9Sx0jQFM"
      },
      "source": [
        "#### Scale the data\n",
        "\n",
        "**Exercise 7:** Scale the values of the covariates so that they all lie in the range of $[0, 1]$. "
      ]
    },
    {
      "cell_type": "code",
      "metadata": {
        "id": "af9PVt9sjhJQ"
      },
      "source": [
        "# Step 1: define a MinMax scalar that will transform the data values into values in (0, 1)\n",
        "# Hint: Look up the documentation for MinMaxScaler\n",
        "# COMPLETE\n",
        "# scaler = ...\n",
        "scalar = MinMaxScaler()\n",
        "\n",
        "# Step 2: fit the MinMaxScaler using our data \n",
        "# Hint: use .fit()\n",
        "# COMPLETE\n",
        "X_values = X_df.values\n",
        "# Step 3: scale the values in our dataset, X_values \n",
        "# Hint: use .transform()\n",
        "# COMPLETE\n",
        "# X_values_scaled = ...\n",
        "# X_df = pd.DataFrame(X_values_scaled, columns=X_df.columns)"
      ],
      "execution_count": null,
      "outputs": []
    },
    {
      "cell_type": "markdown",
      "metadata": {
        "id": "97BHGDShjh_M"
      },
      "source": [
        "---\n",
        "## Model the data\n",
        "\n",
        "Now that we have preprocessed the data, we are ready to build models to predict the label $y$ using the covariates $X$.\n"
      ]
    },
    {
      "cell_type": "markdown",
      "metadata": {
        "id": "3LL3h_K92mi1"
      },
      "source": [
        "#### Split the data into training and testing"
      ]
    },
    {
      "cell_type": "code",
      "metadata": {
        "id": "AYcu-Xpd2mi2"
      },
      "source": [
        "# transform the data into numpy arrays\n",
        "X = X_df.values\n",
        "y = y_df.values\n",
        "\n",
        "# store the names of the columns\n",
        "X_colnames = X_df.columns.values\n",
        "y_colnames = y_df.columns.values"
      ],
      "execution_count": null,
      "outputs": []
    },
    {
      "cell_type": "code",
      "metadata": {
        "id": "75_rY9DG2mi7"
      },
      "source": [
        "# split data into train and test\n",
        "X_train, X_test, y_train, y_test = split_data(X,y)\n",
        "# name the companies in the test set\n",
        "indices = ['company %d' % d for d in range(1,X_test.shape[0]+1)]\n",
        "X_test_df = pd.DataFrame(X_test, columns=X_colnames, index=indices)"
      ],
      "execution_count": null,
      "outputs": []
    },
    {
      "cell_type": "markdown",
      "metadata": {
        "id": "B7-KMe9I2mi_"
      },
      "source": [
        "#### Train a linear regression model\n",
        "\n",
        "**Exercise 8:** Train a linear regression model to predict the total sales $y$ from the marketing strategy data $X$. Evaluate the train and test MSE of you model. \n",
        "\n",
        "How is the fit of your model? Would you feel comfortable using this model to make real marketing decisions? Why or why not?"
      ]
    },
    {
      "cell_type": "code",
      "metadata": {
        "id": "6AkgYfm82mjA"
      },
      "source": [
        "# Step 1: create a sklearn linear regression model\n",
        "# COMPLETE\n",
        "# linear_regressor = ...\n",
        "\n",
        "# Step 2: fit the linear regression model on the data\n",
        "# COMPLETE"
      ],
      "execution_count": null,
      "outputs": []
    },
    {
      "cell_type": "code",
      "metadata": {
        "id": "qqHiPoYu2mjE"
      },
      "source": [
        "# Step 3: compute MSE on train dataset\n",
        "# COMPLETE\n",
        "# score_train = ...\n",
        "\n",
        "# Step 4: compute MSE on test dataset\n",
        "# COMPLETE\n",
        "# score_test = ...\n",
        "\n",
        "# print('MSE on train set: %.2f' % score_train)\n",
        "# print('MSE on test set: %.2f' % score_test)"
      ],
      "execution_count": null,
      "outputs": []
    },
    {
      "cell_type": "markdown",
      "metadata": {
        "id": "aKlYzXOroaR7"
      },
      "source": [
        "**Exercise 9:** There are three subgroups of companies in your dataset, \"USA\", \"Rwanda\" and \"Mexico\". Evaluate the test MSE on each subgroup of companies in your dataset. "
      ]
    },
    {
      "cell_type": "code",
      "metadata": {
        "id": "DidO4nkqouBL"
      },
      "source": [
        "# Step 1: select all companies from Rwanda\n",
        "# country_is_rwanda = (X_test_df['Country_Rwanda'] == 1)\n",
        "\n",
        "# Step 2: compute the test MSE for these companies\n",
        "# score_test = mean_squared_error(y_test[country_is_rwanda], linear_regressor.predict(X_test_df[country_is_rwanda]))\n",
        "# print('MSE on test set (Rwanda): %.2f' % score_test)\n",
        "\n",
        "# Step 3: evaluate the train MSE for companies from the USA\n",
        "# COMPLETE\n",
        "\n",
        "# Step 4: evaluate the train MSE for companies from Mexico\n",
        "# COMPLETE"
      ],
      "execution_count": null,
      "outputs": []
    },
    {
      "cell_type": "markdown",
      "metadata": {
        "id": "Oo7Pd4ZypUxH"
      },
      "source": [
        "**Exercise 10:** For which group of companies does your model do the best? For which group of companies does your model do the worst? Explain why your model does well on some groups but not others.\n",
        "\n",
        "***Hint:*** Count the number of companies of each nationality."
      ]
    },
    {
      "cell_type": "code",
      "metadata": {
        "id": "WvLv0xE_p3Jg",
        "colab": {
          "base_uri": "https://localhost:8080/",
          "height": 34
        },
        "outputId": "5e1c184d-b8e9-4e05-ebad-c12c74004a74"
      },
      "source": [
        "# count the number of data rows that has a 1 in the 'Country_Rwanda' column\n",
        "count_rwanda = X_df['Country_Rwanda'].sum()\n",
        "print('Number of entries from Rwanda', count_rwanda)"
      ],
      "execution_count": null,
      "outputs": [
        {
          "output_type": "stream",
          "text": [
            "Number of entries from Rwanda 117\n"
          ],
          "name": "stdout"
        }
      ]
    },
    {
      "cell_type": "markdown",
      "metadata": {
        "id": "V9KM5T6m2mjJ"
      },
      "source": [
        "---"
      ]
    },
    {
      "cell_type": "markdown",
      "metadata": {
        "id": "8brZ51aU2mjK"
      },
      "source": [
        "## Interpret the model\n",
        "\n",
        "Often, we are not just interested in obtaining a prediction from a model, we are also interested in why the model has made that prediction.\n",
        "\n",
        "For a linear regression model, $y = w_0 + w_1x_1 + w_2x_2 + \\ldots + w_Dx_D$, looking at the coefficients can help us determine which feature was an important factor in the prediction.\n",
        "\n",
        "The coefficients of `sklearn`'s linear regression model is stored in the model's `.coef_` parameter.\n",
        "\n",
        "**Exercise 11:** Based on your model coefficients, which feature do you think has the most effect on the total sales? Can you hypothesize why?"
      ]
    },
    {
      "cell_type": "code",
      "metadata": {
        "id": "s0hpuiYd2mjL"
      },
      "source": [
        "# Step 1: get the coefficients for the linear regression model\n",
        "# weights = linear_regressor.coef_[0]\n",
        "\n",
        "# Step 2: print the coefficients in descending order (by absolute value)\n",
        "# print_sorted_feat_importance(weights, X_colnames)"
      ],
      "execution_count": null,
      "outputs": []
    },
    {
      "cell_type": "markdown",
      "metadata": {
        "id": "LBbw9fkP2mjP"
      },
      "source": [
        "#### Constructing Confident Intervals for Regression Coefficients\n",
        "\n",
        "Before we start making marketing recommendations based on the regression coefficients, let's determine if these coefficients are significant. That is, are the coefficients describing a rule that is particular only to our training data and cannot generalize to new data?\n",
        "\n",
        "To do this, we change the training data slightly (by bootstrapping) and see how much our regression coefficients change.\n",
        "\n",
        "**Exercise 12:** Based on the following box plot of the regression coefficient for models fitted on 5 bootstrapped training data sets, which feature do you think has the most effect on the total sales? Is this answer different from your answer in Exercise 1?"
      ]
    },
    {
      "cell_type": "code",
      "metadata": {
        "id": "F8tO17K82mjQ"
      },
      "source": [
        "# Step 1: Uncomment and run\n",
        "# ### we fit 5 regression models on 5 bootstrapped samples of our training data\n",
        "# # number of bootstrap samples to make\n",
        "# n_bootstrap = 5\n",
        "# # a list to store the weights of each regression model\n",
        "# bootstrap_weights = []\n",
        "# for n in range(n_bootstrap):\n",
        "#     # create new training data\n",
        "#     X_train, _, y_train, _ = split_data(X, y, seed=n)\n",
        "#     # train linear regressor model\n",
        "#     linear_regressor.fit(X_train,y_train)\n",
        "#     # save the regression weights\n",
        "#     bootstrap_weights.append(linear_regressor.coef_[0])\n",
        "    \n",
        "# bootstrap_weights = np.array(bootstrap_weights)\n",
        "\n",
        "# # make a box plot for the regression weights\n",
        "# fig, ax = plt.subplots(1, 1, figsize=(10, 5))\n",
        "# plot_confidence_intervals(bootstrap_weights, ax)\n",
        "# plt.show()"
      ],
      "execution_count": null,
      "outputs": []
    },
    {
      "cell_type": "markdown",
      "metadata": {
        "id": "8zO8D9He2mjU"
      },
      "source": [
        "#### Constructing the Predictive Interval of a Regression Model\n",
        "\n",
        "In test data, company 30 is **Coca-cola** and company 29 is **Inyange**.\n",
        "\n",
        "**Exercise 13:** Using your linear regression model predict which company will have a higher total sales based on their marketing strategy.\n",
        "\n",
        "Construct the predictive interval for each predicted total sales. \n",
        "\n",
        "How confident are you in your predictions? Support your answers using concepts from lecture."
      ]
    },
    {
      "cell_type": "code",
      "metadata": {
        "id": "sq9spiwe2mjV",
        "colab": {
          "base_uri": "https://localhost:8080/",
          "height": 343
        },
        "outputId": "78c8fc7d-71c0-4ed2-86a9-8e84128f0a35"
      },
      "source": [
        "X_test_df.head()"
      ],
      "execution_count": null,
      "outputs": [
        {
          "output_type": "execute_result",
          "data": {
            "text/html": [
              "<div>\n",
              "<style scoped>\n",
              "    .dataframe tbody tr th:only-of-type {\n",
              "        vertical-align: middle;\n",
              "    }\n",
              "\n",
              "    .dataframe tbody tr th {\n",
              "        vertical-align: top;\n",
              "    }\n",
              "\n",
              "    .dataframe thead th {\n",
              "        text-align: right;\n",
              "    }\n",
              "</style>\n",
              "<table border=\"1\" class=\"dataframe\">\n",
              "  <thead>\n",
              "    <tr style=\"text-align: right;\">\n",
              "      <th></th>\n",
              "      <th>electricity (mega W)</th>\n",
              "      <th>water (10^3 m3)</th>\n",
              "      <th>bus_stops (cents)</th>\n",
              "      <th>sport_events ($)</th>\n",
              "      <th>social_media ($)</th>\n",
              "      <th>TV ($)</th>\n",
              "      <th>radio ($)</th>\n",
              "      <th>newspaper ($)</th>\n",
              "      <th>company id number</th>\n",
              "      <th>Nationality</th>\n",
              "      <th>Country_Mexico</th>\n",
              "      <th>Country_Rwanda</th>\n",
              "      <th>Country_USA</th>\n",
              "    </tr>\n",
              "  </thead>\n",
              "  <tbody>\n",
              "    <tr>\n",
              "      <th>company 1</th>\n",
              "      <td>0.18311</td>\n",
              "      <td>0.979121</td>\n",
              "      <td>1027.52</td>\n",
              "      <td>26.3546</td>\n",
              "      <td>6.12187</td>\n",
              "      <td>89.5255</td>\n",
              "      <td>0.3</td>\n",
              "      <td>23.2</td>\n",
              "      <td>107</td>\n",
              "      <td>American</td>\n",
              "      <td>0</td>\n",
              "      <td>0</td>\n",
              "      <td>1</td>\n",
              "    </tr>\n",
              "    <tr>\n",
              "      <th>company 2</th>\n",
              "      <td>30.6507</td>\n",
              "      <td>32.1584</td>\n",
              "      <td>2412.87</td>\n",
              "      <td>49.8748</td>\n",
              "      <td>26.5837</td>\n",
              "      <td>165.87</td>\n",
              "      <td>7.8</td>\n",
              "      <td>35.2</td>\n",
              "      <td>177</td>\n",
              "      <td>Rwandan</td>\n",
              "      <td>0</td>\n",
              "      <td>1</td>\n",
              "      <td>0</td>\n",
              "    </tr>\n",
              "    <tr>\n",
              "      <th>company 3</th>\n",
              "      <td>1.89494</td>\n",
              "      <td>1.00387</td>\n",
              "      <td>3896.79</td>\n",
              "      <td>48.5626</td>\n",
              "      <td>47.3148</td>\n",
              "      <td>208.835</td>\n",
              "      <td>49.6</td>\n",
              "      <td>37.7</td>\n",
              "      <td>58</td>\n",
              "      <td>Rwandan</td>\n",
              "      <td>0</td>\n",
              "      <td>1</td>\n",
              "      <td>0</td>\n",
              "    </tr>\n",
              "    <tr>\n",
              "      <th>company 4</th>\n",
              "      <td>2.81545</td>\n",
              "      <td>2.47702</td>\n",
              "      <td>74.0314</td>\n",
              "      <td>41.3383</td>\n",
              "      <td>22.4982</td>\n",
              "      <td>290.077</td>\n",
              "      <td>27.7</td>\n",
              "      <td>1.8</td>\n",
              "      <td>42</td>\n",
              "      <td>Rwandan</td>\n",
              "      <td>0</td>\n",
              "      <td>1</td>\n",
              "      <td>0</td>\n",
              "    </tr>\n",
              "    <tr>\n",
              "      <th>company 5</th>\n",
              "      <td>2.33241</td>\n",
              "      <td>1.13286</td>\n",
              "      <td>1326.8</td>\n",
              "      <td>0.226549</td>\n",
              "      <td>NaN</td>\n",
              "      <td>241.719</td>\n",
              "      <td>49</td>\n",
              "      <td>44.3</td>\n",
              "      <td>147</td>\n",
              "      <td>Rwandan</td>\n",
              "      <td>0</td>\n",
              "      <td>1</td>\n",
              "      <td>0</td>\n",
              "    </tr>\n",
              "  </tbody>\n",
              "</table>\n",
              "</div>"
            ],
            "text/plain": [
              "          electricity (mega W) water (10^3 m3)  ... Country_Rwanda Country_USA\n",
              "company 1              0.18311        0.979121  ...              0           1\n",
              "company 2              30.6507         32.1584  ...              1           0\n",
              "company 3              1.89494         1.00387  ...              1           0\n",
              "company 4              2.81545         2.47702  ...              1           0\n",
              "company 5              2.33241         1.13286  ...              1           0\n",
              "\n",
              "[5 rows x 13 columns]"
            ]
          },
          "metadata": {
            "tags": []
          },
          "execution_count": 20
        }
      ]
    },
    {
      "cell_type": "code",
      "metadata": {
        "id": "jDIO50Hb2mjY"
      },
      "source": [
        "# Step 1: predict on the test data\n",
        "# COMPLETE\n",
        "# y_predict = ...\n",
        "\n",
        "# Step 2: get the 29th and 30th predictions\n",
        "# COMPLETE\n",
        "# y_pred_29 = ...\n",
        "# y_pred_30 = ...\n",
        "\n",
        "# print the total sales of company 29 and company 30\n",
        "# print('Predicted sales for Coca-cola: %.2f (thousand units)' % y_pred_29)\n",
        "# print('Predicted sales for Inyange: %.2f (thousand units)' % y_pred_30)"
      ],
      "execution_count": null,
      "outputs": []
    },
    {
      "cell_type": "markdown",
      "metadata": {
        "id": "nyPD4OIm2mje"
      },
      "source": [
        "Construct the predictive interval for each predicted total sales. Based on these intervals, how confident are you in your predictions?"
      ]
    },
    {
      "cell_type": "code",
      "metadata": {
        "id": "kikVEi_q2mjf"
      },
      "source": [
        "# Step 1: Uncommnent and run\n",
        "# ### we fit 1000 regression models on 1000 bootstrapped samples of our training data\n",
        "# n_bootstrap = 1000\n",
        "# # make a list to store the predicted sales\n",
        "# bootstrap_y_pred = []\n",
        "# for n in range(n_bootstrap):\n",
        "#     # make new data\n",
        "#     X_train, _, y_train, _ = split_data(X, y, seed=n)\n",
        "#     # train linear regression model\n",
        "#     linear_regressor.fit(X_train,y_train)\n",
        "#     # predict on company 30 and 31\n",
        "#     y_predict = linear_regressor.predict(X_test[29:31])\n",
        "#     # add the prediction to the list\n",
        "#     bootstrap_y_pred.append(y_predict)\n",
        "# # convert the list into an array\n",
        "# bootstrap_y_pred = np.array(bootstrap_y_pred)\n",
        "\n",
        "# fig, ax = plt.subplots(1, 1, figsize=(10, 5))\n",
        "# plot_predictive_intervals(bootstrap_y_pred, ['Coca-cola', 'Inyange'], ax)\n",
        "# plt.show()"
      ],
      "execution_count": null,
      "outputs": []
    }
  ]
}