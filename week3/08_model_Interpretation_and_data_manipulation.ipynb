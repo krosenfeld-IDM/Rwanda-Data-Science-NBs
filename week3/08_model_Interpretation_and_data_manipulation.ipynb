{
 "cells": [
  {
   "cell_type": "markdown",
   "metadata": {
    "id": "HtQ0DFYp2miM"
   },
   "source": [
    "# DAY 8: Model Interpretation and data manipulation\n",
    "\n",
    "### Machine Learning and Computational Statistics (DSC6232)\n",
    "\n",
    "#### Instructors: Weiwei Pan, Melanie Fernandez, Pavlos Protopapas\n",
    "\n",
    "#### Due: August 3rd, 2:00 pm Kigali Time"
   ]
  },
  {
   "cell_type": "markdown",
   "metadata": {
    "id": "DFSUf8okMF_U"
   },
   "source": [
    "**First name**: _________________________________________________________\n",
    "\n",
    "\n",
    "**Last name**: _____________"
   ]
  },
  {
   "cell_type": "markdown",
   "metadata": {
    "id": "-LDLhlLnMXlS"
   },
   "source": [
    "## Learning Goals:\n",
    "\n",
    "1. encode non-numerical data\n",
    "2. preprocess data: scaling covariates, outlier removal and data imputation\n",
    "3. model interpretation for down-stream application"
   ]
  },
  {
   "cell_type": "markdown",
   "metadata": {
    "id": "ZMa9rQe12miO"
   },
   "source": [
    "### Load necessary libraries"
   ]
  },
  {
   "cell_type": "code",
   "execution_count": 20,
   "metadata": {
    "id": "qTS4Kr6_2miP"
   },
   "outputs": [],
   "source": [
    "# as usual, let us load all the necessary libraries\n",
    "import numpy as np  # numerical computation with arrays\n",
    "import pandas as pd # library to manipulate datasets using dataframes\n",
    "import scipy as sp  # statistical library\n",
    "\n",
    "# below sklearn libraries for different models\n",
    "from sklearn.tree import DecisionTreeClassifier as DecisionTree\n",
    "from sklearn.ensemble import RandomForestClassifier as RandomForest\n",
    "from sklearn.preprocessing import PolynomialFeatures\n",
    "from sklearn.linear_model import LogisticRegression\n",
    "from sklearn.linear_model import LinearRegression\n",
    "from sklearn.impute import KNNImputer\n",
    "from sklearn.metrics import mean_squared_error\n",
    "from sklearn.preprocessing import MinMaxScaler\n",
    "\n",
    "# plot \n",
    "import matplotlib\n",
    "import matplotlib.pyplot as plt\n",
    "%matplotlib inline"
   ]
  },
  {
   "cell_type": "markdown",
   "metadata": {
    "id": "XjxU5UNs2miY"
   },
   "source": [
    "### We include auxiliary functions here that we will need to use later \n",
    "\n",
    "**No need to read in details!**"
   ]
  },
  {
   "cell_type": "code",
   "execution_count": 21,
   "metadata": {
    "id": "MLafemFh2mia"
   },
   "outputs": [],
   "source": [
    "# function to generate random splits\n",
    "def split_data(X, y ,seed=29):\n",
    "    ''' Function to split  randomly your dataset in train and test '''\n",
    "    N,D = X.shape\n",
    "    test_size=0.4\n",
    "    np.random.seed(seed)\n",
    "    permuted_idxs = np.random.permutation(N)\n",
    "    N_train = int(np.floor(N*(1-test_size)))\n",
    "    train_idxs = permuted_idxs[:N_train]\n",
    "    test_idxs = permuted_idxs[N_train:]\n",
    "    X_train = X[train_idxs,:]\n",
    "    X_test = X[test_idxs,:]\n",
    "    y_train = y[train_idxs]\n",
    "    y_test = y[test_idxs]\n",
    "    return X_train, X_test, y_train, y_test\n",
    "\n",
    "# function to print feature importances (size of coefficients)\n",
    "def print_sorted_feat_importance(weights, colnames):\n",
    "    feature_weights = pd.Series(weights, index=colnames)\n",
    "    feature_weights_sorted = feature_weights.apply(np.abs).sort_values(ascending=False)\n",
    "\n",
    "    for name in feature_weights_sorted.index:\n",
    "         print('{:23s}: {:.4f}'.format(name, feature_weights[name]))\n",
    "            \n",
    "# function to plot confidence intervals\n",
    "def plot_confidence_intervals(bootstrap_weights, ax):\n",
    "    rows = bootstrap_weights.shape[0]\n",
    "    columns = bootstrap_weights.shape[1]\n",
    "    bootstrap_weights = bootstrap_weights.reshape((rows, columns))\n",
    "    ax.set_title(\"Variation in weight across variations in train set\")\n",
    "    ax.boxplot(bootstrap_weights)\n",
    "    ax.set_ylabel('Weight values')\n",
    "    ax.set_xlabel('Features')\n",
    "    ax.set_xticklabels(X_colnames, rotation=90)\n",
    "    return ax\n",
    "\n",
    "# function to plot predictive intervals\n",
    "def plot_predictive_intervals(bootstrap_predictions, labels, ax):\n",
    "    rows = bootstrap_predictions.shape[0]\n",
    "    columns = bootstrap_predictions.shape[1]\n",
    "    bootstrap_predictions = bootstrap_predictions.reshape((rows, columns))\n",
    "    ax.set_title(\"Variation in prediction across variations in train set\")\n",
    "    ax.boxplot(bootstrap_predictions)\n",
    "    ax.set_ylabel('Predicted Sales')\n",
    "    ax.set_xlabel('Companies')\n",
    "    ax.set_xticklabels(labels, rotation=90)\n",
    "    return ax\n",
    "\n",
    "def get_data(messy_data=True):\n",
    "\n",
    "    # load the data using pandas\n",
    "    X_df = pd.read_csv('https://raw.githubusercontent.com/onefishy/Rwanda-course-2020/master/In-class/X.csv')\n",
    "    y_df = pd.read_csv('https://raw.githubusercontent.com/onefishy/Rwanda-course-2020/master/In-class/y.csv')\n",
    "\n",
    "    # change $ to cents\n",
    "    X_df['bus_stops ($)'] *= 100.0\n",
    "    X_df.rename(columns={'bus_stops ($)': 'bus_stops (cents)'}, inplace=True)\n",
    "\n",
    "    # add id\n",
    "    X_df['company id number'] = np.arange(X_df.shape[0])\n",
    "\n",
    "    # add country\n",
    "    r = X_df['TV ($)']\n",
    "    r += np.random.normal(scale=2.0, size=r.shape)\n",
    "    X_df['Country'] = r\n",
    "    X_df.loc[r < 25.0, 'Country'] = 'Mexico'\n",
    "    X_df.loc[(r > 25.0) & (r < 160.0), 'Country'] = 'USA'\n",
    "    X_df.loc[r > 160.0, 'Country'] = 'Rwanda'\n",
    "\n",
    "    X_df['Nationality'] = r\n",
    "    X_df.loc[r < 25.0, 'Nationality'] = 'Mexican'\n",
    "    X_df.loc[(r > 25.0) & (r < 160.0), 'Nationality'] = 'American'\n",
    "    X_df.loc[r > 160.0, 'Nationality'] = 'Rwandan'\n",
    "\n",
    "\n",
    "    if messy_data:    \n",
    "        # create outliers\n",
    "        p_outliers = 0.1\n",
    "        outlier_idx = X_df.sample(frac=p_outliers, replace=True).index\n",
    "        X_outliers = X_df.iloc[outlier_idx].copy()\n",
    "        X_outliers[['electricity (mega W)', 'water (10^3 m3)']] += 30.0\n",
    "        X_df = pd.concat([X_df, X_outliers], ignore_index=True)\n",
    "        y_df = pd.concat([y_df, y_df.iloc[outlier_idx]], ignore_index=True)\n",
    "\n",
    "        # add missing values\n",
    "        p_missing_per_columnn = 0.01\n",
    "        for c in X_df.columns:\n",
    "            missing_idx = X_df.sample(frac=p_missing_per_columnn, replace=False).index\n",
    "            X_missing = X_df.iloc[missing_idx].copy()\n",
    "            X_missing[c] = np.NaN\n",
    "\n",
    "            X_df = pd.concat([X_df, X_missing], ignore_index=True)\n",
    "            y_df = pd.concat([y_df, y_df.iloc[missing_idx]], ignore_index=True)\n",
    "\n",
    "    new_index = np.random.permutation(X_df.index)\n",
    "    X_df = X_df.reindex(new_index)\n",
    "    y_df = y_df.reindex(new_index)\n",
    "\n",
    "    return X_df, y_df"
   ]
  },
  {
   "cell_type": "markdown",
   "metadata": {
    "id": "Y1kJvEr-2mig"
   },
   "source": [
    "---\n",
    "\n",
    "## Predicting total sales from marketing strategy\n",
    "\n",
    "In this exercise, you are asked to build a machine learning model to predict the total sales of a company based on their marketing strategy (how much money they invest in advertisement and in which venues they choose to advertise) as well as a few additional features of the company.\n",
    "\n",
    "The goal is not only to predict how much sales a company should expect, the goal is to also make a recommendation to the company on how they should adjust their marketing strategy or internal operations (e.g. you might recommend, based on your model, that the company invests more in social media marketing)."
   ]
  },
  {
   "cell_type": "markdown",
   "metadata": {
    "id": "fjmY5evQ2mii"
   },
   "source": [
    "#### Load the dataset and examine it"
   ]
  },
  {
   "cell_type": "code",
   "execution_count": 22,
   "metadata": {
    "id": "oCdfp3Dl2mij"
   },
   "outputs": [],
   "source": [
    "# load the data using pandas\n",
    "X_df, y_df = get_data()"
   ]
  },
  {
   "cell_type": "code",
   "execution_count": 23,
   "metadata": {
    "colab": {
     "base_uri": "https://localhost:8080/",
     "height": 258
    },
    "id": "psIHuZDl2mio",
    "outputId": "eb44bede-748b-4cf4-b6c1-93cd1a17fdb0"
   },
   "outputs": [
    {
     "data": {
      "text/html": [
       "<div>\n",
       "<style scoped>\n",
       "    .dataframe tbody tr th:only-of-type {\n",
       "        vertical-align: middle;\n",
       "    }\n",
       "\n",
       "    .dataframe tbody tr th {\n",
       "        vertical-align: top;\n",
       "    }\n",
       "\n",
       "    .dataframe thead th {\n",
       "        text-align: right;\n",
       "    }\n",
       "</style>\n",
       "<table border=\"1\" class=\"dataframe\">\n",
       "  <thead>\n",
       "    <tr style=\"text-align: right;\">\n",
       "      <th></th>\n",
       "      <th>electricity (mega W)</th>\n",
       "      <th>water (10^3 m3)</th>\n",
       "      <th>bus_stops (cents)</th>\n",
       "      <th>sport_events ($)</th>\n",
       "      <th>social_media ($)</th>\n",
       "      <th>TV ($)</th>\n",
       "      <th>radio ($)</th>\n",
       "      <th>newspaper ($)</th>\n",
       "      <th>company id number</th>\n",
       "      <th>Country</th>\n",
       "      <th>Nationality</th>\n",
       "    </tr>\n",
       "  </thead>\n",
       "  <tbody>\n",
       "    <tr>\n",
       "      <th>88</th>\n",
       "      <td>0.455175</td>\n",
       "      <td>0.660908</td>\n",
       "      <td>4744.967315</td>\n",
       "      <td>7.755908</td>\n",
       "      <td>44.205268</td>\n",
       "      <td>85.521450</td>\n",
       "      <td>25.5</td>\n",
       "      <td>73.4</td>\n",
       "      <td>88.0</td>\n",
       "      <td>USA</td>\n",
       "      <td>American</td>\n",
       "    </tr>\n",
       "    <tr>\n",
       "      <th>55</th>\n",
       "      <td>1.115766</td>\n",
       "      <td>2.904203</td>\n",
       "      <td>4105.802018</td>\n",
       "      <td>46.483029</td>\n",
       "      <td>12.404447</td>\n",
       "      <td>197.839943</td>\n",
       "      <td>49.4</td>\n",
       "      <td>60.0</td>\n",
       "      <td>55.0</td>\n",
       "      <td>Rwanda</td>\n",
       "      <td>Rwandan</td>\n",
       "    </tr>\n",
       "    <tr>\n",
       "      <th>204</th>\n",
       "      <td>32.925667</td>\n",
       "      <td>30.105909</td>\n",
       "      <td>1693.784416</td>\n",
       "      <td>11.584022</td>\n",
       "      <td>1.858200</td>\n",
       "      <td>214.925369</td>\n",
       "      <td>24.0</td>\n",
       "      <td>4.0</td>\n",
       "      <td>11.0</td>\n",
       "      <td>Rwanda</td>\n",
       "      <td>Rwandan</td>\n",
       "    </tr>\n",
       "    <tr>\n",
       "      <th>140</th>\n",
       "      <td>1.713527</td>\n",
       "      <td>1.916915</td>\n",
       "      <td>2166.614332</td>\n",
       "      <td>32.110312</td>\n",
       "      <td>27.325866</td>\n",
       "      <td>70.176185</td>\n",
       "      <td>17.0</td>\n",
       "      <td>12.9</td>\n",
       "      <td>140.0</td>\n",
       "      <td>USA</td>\n",
       "      <td>American</td>\n",
       "    </tr>\n",
       "    <tr>\n",
       "      <th>178</th>\n",
       "      <td>0.050147</td>\n",
       "      <td>1.222481</td>\n",
       "      <td>3709.166436</td>\n",
       "      <td>14.215786</td>\n",
       "      <td>34.583611</td>\n",
       "      <td>275.229401</td>\n",
       "      <td>2.3</td>\n",
       "      <td>23.7</td>\n",
       "      <td>178.0</td>\n",
       "      <td>Rwanda</td>\n",
       "      <td>Rwandan</td>\n",
       "    </tr>\n",
       "  </tbody>\n",
       "</table>\n",
       "</div>"
      ],
      "text/plain": [
       "     electricity (mega W)  water (10^3 m3)  bus_stops (cents)  \\\n",
       "88               0.455175         0.660908        4744.967315   \n",
       "55               1.115766         2.904203        4105.802018   \n",
       "204             32.925667        30.105909        1693.784416   \n",
       "140              1.713527         1.916915        2166.614332   \n",
       "178              0.050147         1.222481        3709.166436   \n",
       "\n",
       "     sport_events ($)  social_media ($)      TV ($)  radio ($)  newspaper ($)  \\\n",
       "88           7.755908         44.205268   85.521450       25.5           73.4   \n",
       "55          46.483029         12.404447  197.839943       49.4           60.0   \n",
       "204         11.584022          1.858200  214.925369       24.0            4.0   \n",
       "140         32.110312         27.325866   70.176185       17.0           12.9   \n",
       "178         14.215786         34.583611  275.229401        2.3           23.7   \n",
       "\n",
       "     company id number Country Nationality  \n",
       "88                88.0     USA    American  \n",
       "55                55.0  Rwanda     Rwandan  \n",
       "204               11.0  Rwanda     Rwandan  \n",
       "140              140.0     USA    American  \n",
       "178              178.0  Rwanda     Rwandan  "
      ]
     },
     "execution_count": 23,
     "metadata": {},
     "output_type": "execute_result"
    }
   ],
   "source": [
    "# print the first rows of the marketing strategies data\n",
    "X_df.head()"
   ]
  },
  {
   "cell_type": "markdown",
   "metadata": {
    "id": "QMihA969eLWH"
   },
   "source": [
    "**Exercise 1:** Are there any covariates we need to encode? If so, which ones?"
   ]
  },
  {
   "cell_type": "code",
   "execution_count": 24,
   "metadata": {
    "colab": {
     "base_uri": "https://localhost:8080/",
     "height": 204
    },
    "id": "I6JqYfH82miw",
    "outputId": "bc5b7ea4-5b0b-4816-f802-ee5a5c7a2e2d"
   },
   "outputs": [
    {
     "data": {
      "text/html": [
       "<div>\n",
       "<style scoped>\n",
       "    .dataframe tbody tr th:only-of-type {\n",
       "        vertical-align: middle;\n",
       "    }\n",
       "\n",
       "    .dataframe tbody tr th {\n",
       "        vertical-align: top;\n",
       "    }\n",
       "\n",
       "    .dataframe thead th {\n",
       "        text-align: right;\n",
       "    }\n",
       "</style>\n",
       "<table border=\"1\" class=\"dataframe\">\n",
       "  <thead>\n",
       "    <tr style=\"text-align: right;\">\n",
       "      <th></th>\n",
       "      <th>sales (10^3 units)</th>\n",
       "    </tr>\n",
       "  </thead>\n",
       "  <tbody>\n",
       "    <tr>\n",
       "      <th>88</th>\n",
       "      <td>12.9</td>\n",
       "    </tr>\n",
       "    <tr>\n",
       "      <th>55</th>\n",
       "      <td>23.7</td>\n",
       "    </tr>\n",
       "    <tr>\n",
       "      <th>204</th>\n",
       "      <td>17.4</td>\n",
       "    </tr>\n",
       "    <tr>\n",
       "      <th>140</th>\n",
       "      <td>10.9</td>\n",
       "    </tr>\n",
       "    <tr>\n",
       "      <th>178</th>\n",
       "      <td>11.8</td>\n",
       "    </tr>\n",
       "  </tbody>\n",
       "</table>\n",
       "</div>"
      ],
      "text/plain": [
       "     sales (10^3 units)\n",
       "88                 12.9\n",
       "55                 23.7\n",
       "204                17.4\n",
       "140                10.9\n",
       "178                11.8"
      ]
     },
     "execution_count": 24,
     "metadata": {},
     "output_type": "execute_result"
    }
   ],
   "source": [
    "# print the first rows of the outcomes (total sales)\n",
    "y_df.head()"
   ]
  },
  {
   "cell_type": "code",
   "execution_count": 25,
   "metadata": {
    "colab": {
     "base_uri": "https://localhost:8080/",
     "height": 323
    },
    "id": "F84CuONVco2Q",
    "outputId": "4eb89a9c-e1e8-4863-a421-ea7fc9caf90e"
   },
   "outputs": [
    {
     "name": "stdout",
     "output_type": "stream",
     "text": [
      "<class 'pandas.core.frame.DataFrame'>\n",
      "Int64Index: 242 entries, 88 to 195\n",
      "Data columns (total 11 columns):\n",
      " #   Column                Non-Null Count  Dtype  \n",
      "---  ------                --------------  -----  \n",
      " 0   electricity (mega W)  240 non-null    float64\n",
      " 1   water (10^3 m3)       240 non-null    float64\n",
      " 2   bus_stops (cents)     240 non-null    float64\n",
      " 3   sport_events ($)      240 non-null    float64\n",
      " 4   social_media ($)      240 non-null    float64\n",
      " 5   TV ($)                240 non-null    float64\n",
      " 6   radio ($)             240 non-null    float64\n",
      " 7   newspaper ($)         240 non-null    float64\n",
      " 8   company id number     240 non-null    float64\n",
      " 9   Country               240 non-null    object \n",
      " 10  Nationality           240 non-null    object \n",
      "dtypes: float64(9), object(2)\n",
      "memory usage: 22.7+ KB\n"
     ]
    }
   ],
   "source": [
    "# get a summary of how many rows in the dataset and how many missing values is in each column\n",
    "# the 'Non-Null Count' counts the number of values in each column that is not missing\n",
    "X_df.info()"
   ]
  },
  {
   "cell_type": "markdown",
   "metadata": {
    "id": "bgu1etTidLtM"
   },
   "source": [
    "**Exercise 2:** How many companies are contained in this dataset? For each covariate or column in the dataset, how many values are missing?"
   ]
  },
  {
   "cell_type": "code",
   "execution_count": 26,
   "metadata": {
    "colab": {
     "base_uri": "https://localhost:8080/",
     "height": 186
    },
    "id": "d30Jt9C3dbr1",
    "outputId": "26ff8c75-9af5-42ff-ec51-1b51149e8ef7"
   },
   "outputs": [
    {
     "data": {
      "text/html": [
       "<div>\n",
       "<style scoped>\n",
       "    .dataframe tbody tr th:only-of-type {\n",
       "        vertical-align: middle;\n",
       "    }\n",
       "\n",
       "    .dataframe tbody tr th {\n",
       "        vertical-align: top;\n",
       "    }\n",
       "\n",
       "    .dataframe thead th {\n",
       "        text-align: right;\n",
       "    }\n",
       "</style>\n",
       "<table border=\"1\" class=\"dataframe\">\n",
       "  <thead>\n",
       "    <tr style=\"text-align: right;\">\n",
       "      <th></th>\n",
       "      <th>electricity (mega W)</th>\n",
       "      <th>water (10^3 m3)</th>\n",
       "      <th>bus_stops (cents)</th>\n",
       "      <th>sport_events ($)</th>\n",
       "      <th>social_media ($)</th>\n",
       "      <th>TV ($)</th>\n",
       "      <th>radio ($)</th>\n",
       "      <th>newspaper ($)</th>\n",
       "      <th>company id number</th>\n",
       "    </tr>\n",
       "  </thead>\n",
       "  <tbody>\n",
       "    <tr>\n",
       "      <th>count</th>\n",
       "      <td>240.000000</td>\n",
       "      <td>240.000000</td>\n",
       "      <td>240.000000</td>\n",
       "      <td>240.000000</td>\n",
       "      <td>240.000000</td>\n",
       "      <td>240.000000</td>\n",
       "      <td>240.000000</td>\n",
       "      <td>240.00000</td>\n",
       "      <td>240.000000</td>\n",
       "    </tr>\n",
       "    <tr>\n",
       "      <th>mean</th>\n",
       "      <td>4.196474</td>\n",
       "      <td>4.326110</td>\n",
       "      <td>2536.584759</td>\n",
       "      <td>24.946939</td>\n",
       "      <td>23.408119</td>\n",
       "      <td>146.496176</td>\n",
       "      <td>23.075000</td>\n",
       "      <td>30.28125</td>\n",
       "      <td>98.612500</td>\n",
       "    </tr>\n",
       "    <tr>\n",
       "      <th>std</th>\n",
       "      <td>8.754625</td>\n",
       "      <td>8.679626</td>\n",
       "      <td>1407.255722</td>\n",
       "      <td>15.651113</td>\n",
       "      <td>13.718393</td>\n",
       "      <td>85.153753</td>\n",
       "      <td>14.836254</td>\n",
       "      <td>21.42094</td>\n",
       "      <td>58.128877</td>\n",
       "    </tr>\n",
       "    <tr>\n",
       "      <th>min</th>\n",
       "      <td>0.041303</td>\n",
       "      <td>0.105909</td>\n",
       "      <td>68.892921</td>\n",
       "      <td>0.226549</td>\n",
       "      <td>0.010645</td>\n",
       "      <td>2.181331</td>\n",
       "      <td>0.000000</td>\n",
       "      <td>0.30000</td>\n",
       "      <td>0.000000</td>\n",
       "    </tr>\n",
       "    <tr>\n",
       "      <th>25%</th>\n",
       "      <td>0.849647</td>\n",
       "      <td>0.988740</td>\n",
       "      <td>1423.896129</td>\n",
       "      <td>11.584022</td>\n",
       "      <td>12.213798</td>\n",
       "      <td>72.074518</td>\n",
       "      <td>9.525000</td>\n",
       "      <td>12.75000</td>\n",
       "      <td>49.750000</td>\n",
       "    </tr>\n",
       "    <tr>\n",
       "      <th>50%</th>\n",
       "      <td>1.476612</td>\n",
       "      <td>1.569464</td>\n",
       "      <td>2510.348573</td>\n",
       "      <td>22.875656</td>\n",
       "      <td>22.085877</td>\n",
       "      <td>150.521084</td>\n",
       "      <td>22.900000</td>\n",
       "      <td>25.60000</td>\n",
       "      <td>96.500000</td>\n",
       "    </tr>\n",
       "    <tr>\n",
       "      <th>75%</th>\n",
       "      <td>2.332691</td>\n",
       "      <td>2.449465</td>\n",
       "      <td>3661.798949</td>\n",
       "      <td>39.302306</td>\n",
       "      <td>34.481367</td>\n",
       "      <td>220.002625</td>\n",
       "      <td>36.350000</td>\n",
       "      <td>45.10000</td>\n",
       "      <td>149.250000</td>\n",
       "    </tr>\n",
       "    <tr>\n",
       "      <th>max</th>\n",
       "      <td>32.980381</td>\n",
       "      <td>33.623472</td>\n",
       "      <td>4979.869199</td>\n",
       "      <td>49.888656</td>\n",
       "      <td>49.288811</td>\n",
       "      <td>297.917866</td>\n",
       "      <td>49.600000</td>\n",
       "      <td>114.00000</td>\n",
       "      <td>199.000000</td>\n",
       "    </tr>\n",
       "  </tbody>\n",
       "</table>\n",
       "</div>"
      ],
      "text/plain": [
       "       electricity (mega W)  water (10^3 m3)  bus_stops (cents)  \\\n",
       "count            240.000000       240.000000         240.000000   \n",
       "mean               4.196474         4.326110        2536.584759   \n",
       "std                8.754625         8.679626        1407.255722   \n",
       "min                0.041303         0.105909          68.892921   \n",
       "25%                0.849647         0.988740        1423.896129   \n",
       "50%                1.476612         1.569464        2510.348573   \n",
       "75%                2.332691         2.449465        3661.798949   \n",
       "max               32.980381        33.623472        4979.869199   \n",
       "\n",
       "       sport_events ($)  social_media ($)      TV ($)   radio ($)  \\\n",
       "count        240.000000        240.000000  240.000000  240.000000   \n",
       "mean          24.946939         23.408119  146.496176   23.075000   \n",
       "std           15.651113         13.718393   85.153753   14.836254   \n",
       "min            0.226549          0.010645    2.181331    0.000000   \n",
       "25%           11.584022         12.213798   72.074518    9.525000   \n",
       "50%           22.875656         22.085877  150.521084   22.900000   \n",
       "75%           39.302306         34.481367  220.002625   36.350000   \n",
       "max           49.888656         49.288811  297.917866   49.600000   \n",
       "\n",
       "       newspaper ($)  company id number  \n",
       "count      240.00000         240.000000  \n",
       "mean        30.28125          98.612500  \n",
       "std         21.42094          58.128877  \n",
       "min          0.30000           0.000000  \n",
       "25%         12.75000          49.750000  \n",
       "50%         25.60000          96.500000  \n",
       "75%         45.10000         149.250000  \n",
       "max        114.00000         199.000000  "
      ]
     },
     "execution_count": 26,
     "metadata": {},
     "output_type": "execute_result"
    }
   ],
   "source": [
    "# print a summary of the values for each covariate in the dataset\n",
    "X_df.describe()"
   ]
  },
  {
   "cell_type": "markdown",
   "metadata": {
    "id": "sEDhV-gHdvl1"
   },
   "source": [
    "**Exercise 3:** Do we need to scale the covariates in this dataset? Why or why not?"
   ]
  },
  {
   "cell_type": "markdown",
   "metadata": {
    "id": "VhYDhUqacS7S"
   },
   "source": [
    "---\n",
    "## Pre-process the data\n",
    "\n",
    "We apply one-hot encoding to  categorical covariates, scale the values in the covariates, impute missingness and remove outliers.\n",
    "\n",
    "#### One-hot encode categorical variables"
   ]
  },
  {
   "cell_type": "code",
   "execution_count": 27,
   "metadata": {
    "colab": {
     "base_uri": "https://localhost:8080/",
     "height": 258
    },
    "id": "Uc_sYqzScXKu",
    "outputId": "3462dfa5-5db0-449b-cc1b-0aed464d8dc1"
   },
   "outputs": [
    {
     "data": {
      "text/html": [
       "<div>\n",
       "<style scoped>\n",
       "    .dataframe tbody tr th:only-of-type {\n",
       "        vertical-align: middle;\n",
       "    }\n",
       "\n",
       "    .dataframe tbody tr th {\n",
       "        vertical-align: top;\n",
       "    }\n",
       "\n",
       "    .dataframe thead th {\n",
       "        text-align: right;\n",
       "    }\n",
       "</style>\n",
       "<table border=\"1\" class=\"dataframe\">\n",
       "  <thead>\n",
       "    <tr style=\"text-align: right;\">\n",
       "      <th></th>\n",
       "      <th>electricity (mega W)</th>\n",
       "      <th>water (10^3 m3)</th>\n",
       "      <th>bus_stops (cents)</th>\n",
       "      <th>sport_events ($)</th>\n",
       "      <th>social_media ($)</th>\n",
       "      <th>TV ($)</th>\n",
       "      <th>radio ($)</th>\n",
       "      <th>newspaper ($)</th>\n",
       "      <th>company id number</th>\n",
       "      <th>Nationality</th>\n",
       "      <th>Country_Mexico</th>\n",
       "      <th>Country_Rwanda</th>\n",
       "      <th>Country_USA</th>\n",
       "    </tr>\n",
       "  </thead>\n",
       "  <tbody>\n",
       "    <tr>\n",
       "      <th>88</th>\n",
       "      <td>0.455175</td>\n",
       "      <td>0.660908</td>\n",
       "      <td>4744.967315</td>\n",
       "      <td>7.755908</td>\n",
       "      <td>44.205268</td>\n",
       "      <td>85.521450</td>\n",
       "      <td>25.5</td>\n",
       "      <td>73.4</td>\n",
       "      <td>88.0</td>\n",
       "      <td>American</td>\n",
       "      <td>0</td>\n",
       "      <td>0</td>\n",
       "      <td>1</td>\n",
       "    </tr>\n",
       "    <tr>\n",
       "      <th>55</th>\n",
       "      <td>1.115766</td>\n",
       "      <td>2.904203</td>\n",
       "      <td>4105.802018</td>\n",
       "      <td>46.483029</td>\n",
       "      <td>12.404447</td>\n",
       "      <td>197.839943</td>\n",
       "      <td>49.4</td>\n",
       "      <td>60.0</td>\n",
       "      <td>55.0</td>\n",
       "      <td>Rwandan</td>\n",
       "      <td>0</td>\n",
       "      <td>1</td>\n",
       "      <td>0</td>\n",
       "    </tr>\n",
       "    <tr>\n",
       "      <th>204</th>\n",
       "      <td>32.925667</td>\n",
       "      <td>30.105909</td>\n",
       "      <td>1693.784416</td>\n",
       "      <td>11.584022</td>\n",
       "      <td>1.858200</td>\n",
       "      <td>214.925369</td>\n",
       "      <td>24.0</td>\n",
       "      <td>4.0</td>\n",
       "      <td>11.0</td>\n",
       "      <td>Rwandan</td>\n",
       "      <td>0</td>\n",
       "      <td>1</td>\n",
       "      <td>0</td>\n",
       "    </tr>\n",
       "    <tr>\n",
       "      <th>140</th>\n",
       "      <td>1.713527</td>\n",
       "      <td>1.916915</td>\n",
       "      <td>2166.614332</td>\n",
       "      <td>32.110312</td>\n",
       "      <td>27.325866</td>\n",
       "      <td>70.176185</td>\n",
       "      <td>17.0</td>\n",
       "      <td>12.9</td>\n",
       "      <td>140.0</td>\n",
       "      <td>American</td>\n",
       "      <td>0</td>\n",
       "      <td>0</td>\n",
       "      <td>1</td>\n",
       "    </tr>\n",
       "    <tr>\n",
       "      <th>178</th>\n",
       "      <td>0.050147</td>\n",
       "      <td>1.222481</td>\n",
       "      <td>3709.166436</td>\n",
       "      <td>14.215786</td>\n",
       "      <td>34.583611</td>\n",
       "      <td>275.229401</td>\n",
       "      <td>2.3</td>\n",
       "      <td>23.7</td>\n",
       "      <td>178.0</td>\n",
       "      <td>Rwandan</td>\n",
       "      <td>0</td>\n",
       "      <td>1</td>\n",
       "      <td>0</td>\n",
       "    </tr>\n",
       "  </tbody>\n",
       "</table>\n",
       "</div>"
      ],
      "text/plain": [
       "     electricity (mega W)  water (10^3 m3)  bus_stops (cents)  \\\n",
       "88               0.455175         0.660908        4744.967315   \n",
       "55               1.115766         2.904203        4105.802018   \n",
       "204             32.925667        30.105909        1693.784416   \n",
       "140              1.713527         1.916915        2166.614332   \n",
       "178              0.050147         1.222481        3709.166436   \n",
       "\n",
       "     sport_events ($)  social_media ($)      TV ($)  radio ($)  newspaper ($)  \\\n",
       "88           7.755908         44.205268   85.521450       25.5           73.4   \n",
       "55          46.483029         12.404447  197.839943       49.4           60.0   \n",
       "204         11.584022          1.858200  214.925369       24.0            4.0   \n",
       "140         32.110312         27.325866   70.176185       17.0           12.9   \n",
       "178         14.215786         34.583611  275.229401        2.3           23.7   \n",
       "\n",
       "     company id number Nationality  Country_Mexico  Country_Rwanda  \\\n",
       "88                88.0    American               0               0   \n",
       "55                55.0     Rwandan               0               1   \n",
       "204               11.0     Rwandan               0               1   \n",
       "140              140.0    American               0               0   \n",
       "178              178.0     Rwandan               0               1   \n",
       "\n",
       "     Country_USA  \n",
       "88             1  \n",
       "55             0  \n",
       "204            0  \n",
       "140            1  \n",
       "178            0  "
      ]
     },
     "execution_count": 27,
     "metadata": {},
     "output_type": "execute_result"
    }
   ],
   "source": [
    "# one hot encode the covariate 'Country'\n",
    "one_hot_country = pd.get_dummies(X_df['Country'], prefix='Country')\n",
    "\n",
    "# use pd.concat to join the new columns with your original dataframe\n",
    "X_df = pd.concat([X_df, one_hot_country], axis=1)\n",
    "\n",
    "# now drop the original 'country' column (you don't need it anymore)\n",
    "X_df.drop(['Country'], axis=1, inplace=True)\n",
    "\n",
    "# print the resultant dataframe\n",
    "X_df.head()"
   ]
  },
  {
   "cell_type": "markdown",
   "metadata": {
    "id": "QskxqkB0hP24"
   },
   "source": [
    "**Exercise 4:** Encode the remaining categorical variables."
   ]
  },
  {
   "cell_type": "code",
   "execution_count": 28,
   "metadata": {
    "id": "kxd86ABWhfer"
   },
   "outputs": [],
   "source": [
    "# Step 1: one hot encode the categorical covariate\n",
    "\n",
    "# Step 2: use pd.concat to join the new columns with your original dataframe\n",
    "\n",
    "# Stpe 3: now drop the original 'country' column (you don't need it anymore)\n",
    "\n",
    "# Step 4: print the resultant dataframe"
   ]
  },
  {
   "cell_type": "markdown",
   "metadata": {
    "id": "GnIRFSHxj94o"
   },
   "source": [
    "**Exercise 5:** Inspect your DataFrame, are there any covariates that are irrelevant for prediction $y$? Drop unimportant covariates. \n",
    "\n",
    "***Hint:*** does the id number of the compny help predict total revenue?\n",
    "\n",
    "Are there any covariates that are redundant, i.e. they contain the exact information as other covariates? Drop redundant covariates."
   ]
  },
  {
   "cell_type": "code",
   "execution_count": 29,
   "metadata": {
    "id": "sZf4q4GTls1Q"
   },
   "outputs": [
    {
     "data": {
      "text/html": [
       "<div>\n",
       "<style scoped>\n",
       "    .dataframe tbody tr th:only-of-type {\n",
       "        vertical-align: middle;\n",
       "    }\n",
       "\n",
       "    .dataframe tbody tr th {\n",
       "        vertical-align: top;\n",
       "    }\n",
       "\n",
       "    .dataframe thead th {\n",
       "        text-align: right;\n",
       "    }\n",
       "</style>\n",
       "<table border=\"1\" class=\"dataframe\">\n",
       "  <thead>\n",
       "    <tr style=\"text-align: right;\">\n",
       "      <th></th>\n",
       "      <th>electricity (mega W)</th>\n",
       "      <th>water (10^3 m3)</th>\n",
       "      <th>bus_stops (cents)</th>\n",
       "      <th>sport_events ($)</th>\n",
       "      <th>social_media ($)</th>\n",
       "      <th>TV ($)</th>\n",
       "      <th>radio ($)</th>\n",
       "      <th>newspaper ($)</th>\n",
       "      <th>Country_Mexico</th>\n",
       "      <th>Country_Rwanda</th>\n",
       "      <th>Country_USA</th>\n",
       "    </tr>\n",
       "  </thead>\n",
       "  <tbody>\n",
       "    <tr>\n",
       "      <th>88</th>\n",
       "      <td>0.455175</td>\n",
       "      <td>0.660908</td>\n",
       "      <td>4744.967315</td>\n",
       "      <td>7.755908</td>\n",
       "      <td>44.205268</td>\n",
       "      <td>85.521450</td>\n",
       "      <td>25.5</td>\n",
       "      <td>73.4</td>\n",
       "      <td>0</td>\n",
       "      <td>0</td>\n",
       "      <td>1</td>\n",
       "    </tr>\n",
       "    <tr>\n",
       "      <th>55</th>\n",
       "      <td>1.115766</td>\n",
       "      <td>2.904203</td>\n",
       "      <td>4105.802018</td>\n",
       "      <td>46.483029</td>\n",
       "      <td>12.404447</td>\n",
       "      <td>197.839943</td>\n",
       "      <td>49.4</td>\n",
       "      <td>60.0</td>\n",
       "      <td>0</td>\n",
       "      <td>1</td>\n",
       "      <td>0</td>\n",
       "    </tr>\n",
       "    <tr>\n",
       "      <th>204</th>\n",
       "      <td>32.925667</td>\n",
       "      <td>30.105909</td>\n",
       "      <td>1693.784416</td>\n",
       "      <td>11.584022</td>\n",
       "      <td>1.858200</td>\n",
       "      <td>214.925369</td>\n",
       "      <td>24.0</td>\n",
       "      <td>4.0</td>\n",
       "      <td>0</td>\n",
       "      <td>1</td>\n",
       "      <td>0</td>\n",
       "    </tr>\n",
       "    <tr>\n",
       "      <th>140</th>\n",
       "      <td>1.713527</td>\n",
       "      <td>1.916915</td>\n",
       "      <td>2166.614332</td>\n",
       "      <td>32.110312</td>\n",
       "      <td>27.325866</td>\n",
       "      <td>70.176185</td>\n",
       "      <td>17.0</td>\n",
       "      <td>12.9</td>\n",
       "      <td>0</td>\n",
       "      <td>0</td>\n",
       "      <td>1</td>\n",
       "    </tr>\n",
       "    <tr>\n",
       "      <th>178</th>\n",
       "      <td>0.050147</td>\n",
       "      <td>1.222481</td>\n",
       "      <td>3709.166436</td>\n",
       "      <td>14.215786</td>\n",
       "      <td>34.583611</td>\n",
       "      <td>275.229401</td>\n",
       "      <td>2.3</td>\n",
       "      <td>23.7</td>\n",
       "      <td>0</td>\n",
       "      <td>1</td>\n",
       "      <td>0</td>\n",
       "    </tr>\n",
       "  </tbody>\n",
       "</table>\n",
       "</div>"
      ],
      "text/plain": [
       "     electricity (mega W)  water (10^3 m3)  bus_stops (cents)  \\\n",
       "88               0.455175         0.660908        4744.967315   \n",
       "55               1.115766         2.904203        4105.802018   \n",
       "204             32.925667        30.105909        1693.784416   \n",
       "140              1.713527         1.916915        2166.614332   \n",
       "178              0.050147         1.222481        3709.166436   \n",
       "\n",
       "     sport_events ($)  social_media ($)      TV ($)  radio ($)  newspaper ($)  \\\n",
       "88           7.755908         44.205268   85.521450       25.5           73.4   \n",
       "55          46.483029         12.404447  197.839943       49.4           60.0   \n",
       "204         11.584022          1.858200  214.925369       24.0            4.0   \n",
       "140         32.110312         27.325866   70.176185       17.0           12.9   \n",
       "178         14.215786         34.583611  275.229401        2.3           23.7   \n",
       "\n",
       "     Country_Mexico  Country_Rwanda  Country_USA  \n",
       "88                0               0            1  \n",
       "55                0               1            0  \n",
       "204               0               1            0  \n",
       "140               0               0            1  \n",
       "178               0               1            0  "
      ]
     },
     "execution_count": 29,
     "metadata": {},
     "output_type": "execute_result"
    }
   ],
   "source": [
    "# Step 1: Drop unimportant covariates\n",
    "# Hint: look up the documentation for pandas' .drop() function\n",
    "# COMPLETE\n",
    "if 'Nationality' in X_df.columns:\n",
    "    X_df.drop(['Nationality', 'company id number'], axis=1, inplace=True)\n",
    "\n",
    "# Step 2: Drop ALL redundant covariates\n",
    "# Hint: look up the documentation for pandas' .drop() function\n",
    "# COMPLETE\n",
    "# X_df.drop(...)\n",
    "\n",
    "X_df.head()"
   ]
  },
  {
   "cell_type": "code",
   "execution_count": 30,
   "metadata": {},
   "outputs": [
    {
     "name": "stdout",
     "output_type": "stream",
     "text": [
      "<class 'pandas.core.frame.DataFrame'>\n",
      "Int64Index: 242 entries, 88 to 195\n",
      "Data columns (total 11 columns):\n",
      " #   Column                Non-Null Count  Dtype  \n",
      "---  ------                --------------  -----  \n",
      " 0   electricity (mega W)  240 non-null    float64\n",
      " 1   water (10^3 m3)       240 non-null    float64\n",
      " 2   bus_stops (cents)     240 non-null    float64\n",
      " 3   sport_events ($)      240 non-null    float64\n",
      " 4   social_media ($)      240 non-null    float64\n",
      " 5   TV ($)                240 non-null    float64\n",
      " 6   radio ($)             240 non-null    float64\n",
      " 7   newspaper ($)         240 non-null    float64\n",
      " 8   Country_Mexico        242 non-null    uint8  \n",
      " 9   Country_Rwanda        242 non-null    uint8  \n",
      " 10  Country_USA           242 non-null    uint8  \n",
      "dtypes: float64(8), uint8(3)\n",
      "memory usage: 17.7 KB\n"
     ]
    }
   ],
   "source": [
    "X_df.info()"
   ]
  },
  {
   "cell_type": "markdown",
   "metadata": {
    "id": "MiAJcBoLhv1s"
   },
   "source": [
    "#### Impute missing values\n",
    "\n",
    "**Exercise 5:** Impute the missing values in each column using a k-Nearest Neighbor model."
   ]
  },
  {
   "cell_type": "code",
   "execution_count": 31,
   "metadata": {
    "id": "sGE7Hj7aiHqk"
   },
   "outputs": [],
   "source": [
    "# Step 1: define an knn imputer using KNNImputer\n",
    "# Hint: look up the documentation for KNNImputer\n",
    "# COMPLETE\n",
    "imputer = KNNImputer()\n",
    "\n",
    "# Step 2: impute the missing data\n",
    "X_df = pd.DataFrame(imputer.fit_transform(X_df), columns=X_df.columns, index=X_df.index)"
   ]
  },
  {
   "cell_type": "code",
   "execution_count": 32,
   "metadata": {},
   "outputs": [
    {
     "name": "stdout",
     "output_type": "stream",
     "text": [
      "<class 'pandas.core.frame.DataFrame'>\n",
      "Int64Index: 242 entries, 88 to 195\n",
      "Data columns (total 11 columns):\n",
      " #   Column                Non-Null Count  Dtype  \n",
      "---  ------                --------------  -----  \n",
      " 0   electricity (mega W)  242 non-null    float64\n",
      " 1   water (10^3 m3)       242 non-null    float64\n",
      " 2   bus_stops (cents)     242 non-null    float64\n",
      " 3   sport_events ($)      242 non-null    float64\n",
      " 4   social_media ($)      242 non-null    float64\n",
      " 5   TV ($)                242 non-null    float64\n",
      " 6   radio ($)             242 non-null    float64\n",
      " 7   newspaper ($)         242 non-null    float64\n",
      " 8   Country_Mexico        242 non-null    float64\n",
      " 9   Country_Rwanda        242 non-null    float64\n",
      " 10  Country_USA           242 non-null    float64\n",
      "dtypes: float64(11)\n",
      "memory usage: 22.7 KB\n"
     ]
    }
   ],
   "source": [
    "X_df.info()"
   ]
  },
  {
   "cell_type": "markdown",
   "metadata": {
    "id": "SaWGh_7mjC-Z"
   },
   "source": [
    "#### Remove outliers\n",
    "\n",
    "**Exercise 6:** Remove the outlier values in each column of the dataset."
   ]
  },
  {
   "cell_type": "code",
   "execution_count": 33,
   "metadata": {
    "colab": {
     "base_uri": "https://localhost:8080/",
     "height": 165
    },
    "id": "4aOVIbZLjPj_",
    "outputId": "443204db-161d-4e81-906d-0662ca723e9c"
   },
   "outputs": [
    {
     "data": {
      "text/html": [
       "<div>\n",
       "<style scoped>\n",
       "    .dataframe tbody tr th:only-of-type {\n",
       "        vertical-align: middle;\n",
       "    }\n",
       "\n",
       "    .dataframe tbody tr th {\n",
       "        vertical-align: top;\n",
       "    }\n",
       "\n",
       "    .dataframe thead th {\n",
       "        text-align: right;\n",
       "    }\n",
       "</style>\n",
       "<table border=\"1\" class=\"dataframe\">\n",
       "  <thead>\n",
       "    <tr style=\"text-align: right;\">\n",
       "      <th></th>\n",
       "      <th>electricity (mega W)</th>\n",
       "      <th>water (10^3 m3)</th>\n",
       "      <th>bus_stops (cents)</th>\n",
       "      <th>sport_events ($)</th>\n",
       "      <th>social_media ($)</th>\n",
       "      <th>TV ($)</th>\n",
       "      <th>radio ($)</th>\n",
       "      <th>newspaper ($)</th>\n",
       "      <th>Country_Mexico</th>\n",
       "      <th>Country_Rwanda</th>\n",
       "      <th>Country_USA</th>\n",
       "    </tr>\n",
       "  </thead>\n",
       "  <tbody>\n",
       "    <tr>\n",
       "      <th>0.05</th>\n",
       "      <td>0.183666</td>\n",
       "      <td>0.395286</td>\n",
       "      <td>364.423307</td>\n",
       "      <td>2.066143</td>\n",
       "      <td>3.300876</td>\n",
       "      <td>16.300183</td>\n",
       "      <td>1.90</td>\n",
       "      <td>3.715</td>\n",
       "      <td>0.0</td>\n",
       "      <td>0.0</td>\n",
       "      <td>0.0</td>\n",
       "    </tr>\n",
       "    <tr>\n",
       "      <th>0.95</th>\n",
       "      <td>31.486103</td>\n",
       "      <td>31.299463</td>\n",
       "      <td>4781.145978</td>\n",
       "      <td>48.772816</td>\n",
       "      <td>47.310840</td>\n",
       "      <td>280.567289</td>\n",
       "      <td>46.78</td>\n",
       "      <td>69.295</td>\n",
       "      <td>1.0</td>\n",
       "      <td>1.0</td>\n",
       "      <td>1.0</td>\n",
       "    </tr>\n",
       "  </tbody>\n",
       "</table>\n",
       "</div>"
      ],
      "text/plain": [
       "      electricity (mega W)  water (10^3 m3)  bus_stops (cents)  \\\n",
       "0.05              0.183666         0.395286         364.423307   \n",
       "0.95             31.486103        31.299463        4781.145978   \n",
       "\n",
       "      sport_events ($)  social_media ($)      TV ($)  radio ($)  \\\n",
       "0.05          2.066143          3.300876   16.300183       1.90   \n",
       "0.95         48.772816         47.310840  280.567289      46.78   \n",
       "\n",
       "      newspaper ($)  Country_Mexico  Country_Rwanda  Country_USA  \n",
       "0.05          3.715             0.0             0.0          0.0  \n",
       "0.95         69.295             1.0             1.0          1.0  "
      ]
     },
     "execution_count": 33,
     "metadata": {},
     "output_type": "execute_result"
    }
   ],
   "source": [
    "low = .05\n",
    "high = .95\n",
    "\n",
    "# Step 1: compute 5% percentile and the 95% percentile of each column in the dataset\n",
    "quantile_df = X_df.quantile([low, high])\n",
    "quantile_df"
   ]
  },
  {
   "cell_type": "code",
   "execution_count": 34,
   "metadata": {},
   "outputs": [
    {
     "name": "stdout",
     "output_type": "stream",
     "text": [
      "Number of rows before outlier removal: 242\n",
      "Number of rows after outlier removal: 216\n"
     ]
    }
   ],
   "source": [
    "# Step 2: remove ouliers in 'water (10^3 m3)'\n",
    "\n",
    "# print the number of rows before outlier removal\n",
    "print('Number of rows before outlier removal: {}'.format(X_df.shape[0]))\n",
    "# select rows greater than the 5% and smaller than the 95% threshold\n",
    "X_df = X_df[(X_df['water (10^3 m3)'] > quantile_df.loc[0.05, 'water (10^3 m3)']) & (X_df['water (10^3 m3)'] < quantile_df.loc[0.95, 'water (10^3 m3)'])]\n",
    "# print the number of rows after outlier removal\n",
    "print('Number of rows after outlier removal: {}'.format(X_df.shape[0]))"
   ]
  },
  {
   "cell_type": "code",
   "execution_count": 35,
   "metadata": {
    "id": "w5pf1CzU0Mw7"
   },
   "outputs": [],
   "source": [
    "# Step 3: perform outlier removal for all columns\n",
    "cols = ['electricity (mega W)', 'bus_stops (cents)', 'sport_events ($)', 'social_media ($)', 'TV ($)', 'radio ($)', 'newspaper ($)']\n",
    "for c in cols:\n",
    "    X_df = X_df[(X_df[c] > quantile_df.loc[0.05, c]) & (X_df[c] < quantile_df.loc[0.95, c])]\n",
    "\n",
    "# COMPLETE"
   ]
  },
  {
   "cell_type": "markdown",
   "metadata": {
    "id": "TzHQ9Sx0jQFM"
   },
   "source": [
    "#### Scale the data\n",
    "\n",
    "**Exercise 7:** Scale the values of the covariates so that they all lie in the range of $[0, 1]$. "
   ]
  },
  {
   "cell_type": "code",
   "execution_count": 37,
   "metadata": {
    "id": "af9PVt9sjhJQ"
   },
   "outputs": [],
   "source": [
    "# Step 1: define a MinMax scalar that will transform the data values into values in (0, 1)\n",
    "# Hint: Look up the documentation for MinMaxScaler\n",
    "# COMPLETE\n",
    "# scaler = ...\n",
    "scalar = MinMaxScaler()\n",
    "\n",
    "# Step 2: fit the MinMaxScaler using our data \n",
    "# Hint: use .fit()\n",
    "# COMPLETE\n",
    "X_values = X_df.values\n",
    "scalar.fit(X_values)\n",
    "# Step 3: scale the values in our dataset, X_values \n",
    "# Hint: use .transform()\n",
    "# COMPLETE\n",
    "X_values_scaled = scalar.transform(X_values)\n",
    "X_df = pd.DataFrame(X_values_scaled, columns=X_df.columns)"
   ]
  },
  {
   "cell_type": "markdown",
   "metadata": {
    "id": "97BHGDShjh_M"
   },
   "source": [
    "---\n",
    "## Model the data\n",
    "\n",
    "Now that we have preprocessed the data, we are ready to build models to predict the label $y$ using the covariates $X$.\n"
   ]
  },
  {
   "cell_type": "markdown",
   "metadata": {
    "id": "3LL3h_K92mi1"
   },
   "source": [
    "#### Split the data into training and testing"
   ]
  },
  {
   "cell_type": "code",
   "execution_count": 38,
   "metadata": {
    "id": "AYcu-Xpd2mi2"
   },
   "outputs": [],
   "source": [
    "# transform the data into numpy arrays\n",
    "X = X_df.values\n",
    "y = y_df.values\n",
    "\n",
    "# store the names of the columns\n",
    "X_colnames = X_df.columns.values\n",
    "y_colnames = y_df.columns.values"
   ]
  },
  {
   "cell_type": "code",
   "execution_count": 39,
   "metadata": {
    "id": "75_rY9DG2mi7"
   },
   "outputs": [],
   "source": [
    "# split data into train and test\n",
    "X_train, X_test, y_train, y_test = split_data(X,y)\n",
    "# name the companies in the test set\n",
    "indices = ['company %d' % d for d in range(1,X_test.shape[0]+1)]\n",
    "X_test_df = pd.DataFrame(X_test, columns=X_colnames, index=indices)"
   ]
  },
  {
   "cell_type": "markdown",
   "metadata": {
    "id": "B7-KMe9I2mi_"
   },
   "source": [
    "#### Train a linear regression model\n",
    "\n",
    "**Exercise 8:** Train a linear regression model to predict the total sales $y$ from the marketing strategy data $X$. Evaluate the train and test MSE of you model. \n",
    "\n",
    "How is the fit of your model? Would you feel comfortable using this model to make real marketing decisions? Why or why not?"
   ]
  },
  {
   "cell_type": "code",
   "execution_count": 40,
   "metadata": {},
   "outputs": [
    {
     "data": {
      "text/html": [
       "<div>\n",
       "<style scoped>\n",
       "    .dataframe tbody tr th:only-of-type {\n",
       "        vertical-align: middle;\n",
       "    }\n",
       "\n",
       "    .dataframe tbody tr th {\n",
       "        vertical-align: top;\n",
       "    }\n",
       "\n",
       "    .dataframe thead th {\n",
       "        text-align: right;\n",
       "    }\n",
       "</style>\n",
       "<table border=\"1\" class=\"dataframe\">\n",
       "  <thead>\n",
       "    <tr style=\"text-align: right;\">\n",
       "      <th></th>\n",
       "      <th>electricity (mega W)</th>\n",
       "      <th>water (10^3 m3)</th>\n",
       "      <th>bus_stops (cents)</th>\n",
       "      <th>sport_events ($)</th>\n",
       "      <th>social_media ($)</th>\n",
       "      <th>TV ($)</th>\n",
       "      <th>radio ($)</th>\n",
       "      <th>newspaper ($)</th>\n",
       "      <th>Country_Mexico</th>\n",
       "      <th>Country_Rwanda</th>\n",
       "      <th>Country_USA</th>\n",
       "    </tr>\n",
       "  </thead>\n",
       "  <tbody>\n",
       "    <tr>\n",
       "      <th>company 1</th>\n",
       "      <td>0.060506</td>\n",
       "      <td>0.025955</td>\n",
       "      <td>0.041192</td>\n",
       "      <td>0.238119</td>\n",
       "      <td>0.465535</td>\n",
       "      <td>0.107075</td>\n",
       "      <td>0.842466</td>\n",
       "      <td>0.624611</td>\n",
       "      <td>0.0</td>\n",
       "      <td>0.0</td>\n",
       "      <td>1.0</td>\n",
       "    </tr>\n",
       "    <tr>\n",
       "      <th>company 2</th>\n",
       "      <td>0.009894</td>\n",
       "      <td>0.009678</td>\n",
       "      <td>0.705482</td>\n",
       "      <td>0.296047</td>\n",
       "      <td>0.172125</td>\n",
       "      <td>0.430312</td>\n",
       "      <td>0.392694</td>\n",
       "      <td>0.102804</td>\n",
       "      <td>0.0</td>\n",
       "      <td>0.0</td>\n",
       "      <td>1.0</td>\n",
       "    </tr>\n",
       "    <tr>\n",
       "      <th>company 3</th>\n",
       "      <td>0.011034</td>\n",
       "      <td>0.005276</td>\n",
       "      <td>0.302068</td>\n",
       "      <td>0.220277</td>\n",
       "      <td>0.217840</td>\n",
       "      <td>0.369904</td>\n",
       "      <td>0.342466</td>\n",
       "      <td>0.523364</td>\n",
       "      <td>0.0</td>\n",
       "      <td>0.0</td>\n",
       "      <td>1.0</td>\n",
       "    </tr>\n",
       "    <tr>\n",
       "      <th>company 4</th>\n",
       "      <td>0.060880</td>\n",
       "      <td>0.027337</td>\n",
       "      <td>0.359113</td>\n",
       "      <td>0.377473</td>\n",
       "      <td>0.106453</td>\n",
       "      <td>0.000000</td>\n",
       "      <td>0.038813</td>\n",
       "      <td>0.414330</td>\n",
       "      <td>1.0</td>\n",
       "      <td>0.0</td>\n",
       "      <td>0.0</td>\n",
       "    </tr>\n",
       "    <tr>\n",
       "      <th>company 5</th>\n",
       "      <td>0.042939</td>\n",
       "      <td>0.062510</td>\n",
       "      <td>0.718530</td>\n",
       "      <td>0.764784</td>\n",
       "      <td>0.309697</td>\n",
       "      <td>0.474249</td>\n",
       "      <td>0.922374</td>\n",
       "      <td>0.372274</td>\n",
       "      <td>0.0</td>\n",
       "      <td>0.0</td>\n",
       "      <td>1.0</td>\n",
       "    </tr>\n",
       "  </tbody>\n",
       "</table>\n",
       "</div>"
      ],
      "text/plain": [
       "           electricity (mega W)  water (10^3 m3)  bus_stops (cents)  \\\n",
       "company 1              0.060506         0.025955           0.041192   \n",
       "company 2              0.009894         0.009678           0.705482   \n",
       "company 3              0.011034         0.005276           0.302068   \n",
       "company 4              0.060880         0.027337           0.359113   \n",
       "company 5              0.042939         0.062510           0.718530   \n",
       "\n",
       "           sport_events ($)  social_media ($)    TV ($)  radio ($)  \\\n",
       "company 1          0.238119          0.465535  0.107075   0.842466   \n",
       "company 2          0.296047          0.172125  0.430312   0.392694   \n",
       "company 3          0.220277          0.217840  0.369904   0.342466   \n",
       "company 4          0.377473          0.106453  0.000000   0.038813   \n",
       "company 5          0.764784          0.309697  0.474249   0.922374   \n",
       "\n",
       "           newspaper ($)  Country_Mexico  Country_Rwanda  Country_USA  \n",
       "company 1       0.624611             0.0             0.0          1.0  \n",
       "company 2       0.102804             0.0             0.0          1.0  \n",
       "company 3       0.523364             0.0             0.0          1.0  \n",
       "company 4       0.414330             1.0             0.0          0.0  \n",
       "company 5       0.372274             0.0             0.0          1.0  "
      ]
     },
     "execution_count": 40,
     "metadata": {},
     "output_type": "execute_result"
    }
   ],
   "source": [
    "X_test_df.head()"
   ]
  },
  {
   "cell_type": "code",
   "execution_count": 47,
   "metadata": {
    "id": "6AkgYfm82mjA"
   },
   "outputs": [],
   "source": [
    "# Step 1: create a sklearn linear regression model\n",
    "# COMPLETE\n",
    "linear_regressor = LinearRegression()\n",
    "\n",
    "# Step 2: fit the linear regression model on the data\n",
    "linear_regressor.fit(X_train, y_train);"
   ]
  },
  {
   "cell_type": "code",
   "execution_count": 49,
   "metadata": {
    "id": "qqHiPoYu2mjE"
   },
   "outputs": [
    {
     "name": "stdout",
     "output_type": "stream",
     "text": [
      "MSE on train set: 23.65\n",
      "MSE on test set: 28.37\n"
     ]
    }
   ],
   "source": [
    "# Step 3: compute MSE on train dataset\n",
    "# COMPLETE\n",
    "y_pred_train = linear_regressor.predict(X_train)\n",
    "score_train = mean_squared_error(y_train, y_pred_train)\n",
    "\n",
    "# Step 4: compute MSE on test dataset\n",
    "# COMPLETE\n",
    "y_pred_test = linear_regressor.predict(X_test)\n",
    "score_test = mean_squared_error(y_test, y_pred_test)\n",
    "\n",
    "print('MSE on train set: %.2f' % score_train)\n",
    "print('MSE on test set: %.2f' % score_test)"
   ]
  },
  {
   "cell_type": "markdown",
   "metadata": {
    "id": "aKlYzXOroaR7"
   },
   "source": [
    "**Exercise 9:** There are three subgroups of companies in your dataset, \"USA\", \"Rwanda\" and \"Mexico\". Evaluate the test MSE on each subgroup of companies in your dataset. "
   ]
  },
  {
   "cell_type": "code",
   "execution_count": 53,
   "metadata": {
    "id": "DidO4nkqouBL"
   },
   "outputs": [
    {
     "name": "stdout",
     "output_type": "stream",
     "text": [
      "MSE on test set (Rwanda): 29.48\n",
      "MSE on test set (USA): 26.99\n",
      "MSE on test set (Mexico): 27.31\n"
     ]
    }
   ],
   "source": [
    "# Step 1: select all companies from Rwanda\n",
    "country_is_rwanda = (X_test_df['Country_Rwanda'] == 1)\n",
    "\n",
    "# Step 2: compute the test MSE for these companies\n",
    "score_test = mean_squared_error(y_test[country_is_rwanda], linear_regressor.predict(X_test_df[country_is_rwanda].values))\n",
    "print('MSE on test set (Rwanda): %.2f' % score_test)\n",
    "\n",
    "# Step 3: evaluate the train MSE for companies from the USA\n",
    "country_is_rwanda = (X_test_df['Country_USA'] == 1)\n",
    "score_test = mean_squared_error(y_test[country_is_rwanda], linear_regressor.predict(X_test_df[country_is_rwanda].values))\n",
    "print('MSE on test set (USA): %.2f' % score_test)\n",
    "\n",
    "# Step 4: evaluate the train MSE for companies from Mexico\n",
    "country_is_rwanda = (X_test_df['Country_Mexico'] == 1)\n",
    "\n",
    "score_test = mean_squared_error(y_test[country_is_rwanda], linear_regressor.predict(X_test_df[country_is_rwanda].values))\n",
    "print('MSE on test set (Mexico): %.2f' % score_test)"
   ]
  },
  {
   "cell_type": "markdown",
   "metadata": {
    "id": "Oo7Pd4ZypUxH"
   },
   "source": [
    "**Exercise 10:** For which group of companies does your model do the best? For which group of companies does your model do the worst? Explain why your model does well on some groups but not others.\n",
    "\n",
    "***Hint:*** Count the number of companies of each nationality."
   ]
  },
  {
   "cell_type": "code",
   "execution_count": 56,
   "metadata": {
    "colab": {
     "base_uri": "https://localhost:8080/",
     "height": 34
    },
    "id": "WvLv0xE_p3Jg",
    "outputId": "5e1c184d-b8e9-4e05-ebad-c12c74004a74"
   },
   "outputs": [
    {
     "name": "stdout",
     "output_type": "stream",
     "text": [
      "Number of entries from Rwanda 49.0\n",
      "Number of entries from USA 47.0\n",
      "Number of entries from Mexico 7.0\n"
     ]
    }
   ],
   "source": [
    "# count the number of data rows that has a 1 in the 'Country_Rwanda' column\n",
    "for c in ['Rwanda', 'USA', 'Mexico']:\n",
    "    count_rwanda = X_df['Country_'+c].sum()\n",
    "    print('Number of entries from '+c, count_rwanda)"
   ]
  },
  {
   "cell_type": "markdown",
   "metadata": {
    "id": "V9KM5T6m2mjJ"
   },
   "source": [
    "---"
   ]
  },
  {
   "cell_type": "markdown",
   "metadata": {
    "id": "8brZ51aU2mjK"
   },
   "source": [
    "## Interpret the model\n",
    "\n",
    "Often, we are not just interested in obtaining a prediction from a model, we are also interested in why the model has made that prediction.\n",
    "\n",
    "For a linear regression model, $y = w_0 + w_1x_1 + w_2x_2 + \\ldots + w_Dx_D$, looking at the coefficients can help us determine which feature was an important factor in the prediction.\n",
    "\n",
    "The coefficients of `sklearn`'s linear regression model is stored in the model's `.coef_` parameter.\n",
    "\n",
    "**Exercise 11:** Based on your model coefficients, which feature do you think has the most effect on the total sales? Can you hypothesize why?"
   ]
  },
  {
   "cell_type": "code",
   "execution_count": 57,
   "metadata": {
    "id": "s0hpuiYd2mjL"
   },
   "outputs": [
    {
     "name": "stdout",
     "output_type": "stream",
     "text": [
      "electricity (mega W)   : -8.4701\n",
      "water (10^3 m3)        : 6.6743\n",
      "bus_stops (cents)      : -3.9352\n",
      "Country_Mexico         : -3.0174\n",
      "Country_USA            : 1.7580\n",
      "social_media ($)       : -1.7285\n",
      "Country_Rwanda         : 1.2594\n",
      "TV ($)                 : -1.1665\n",
      "radio ($)              : 0.5521\n",
      "newspaper ($)          : -0.5501\n",
      "sport_events ($)       : -0.1062\n"
     ]
    }
   ],
   "source": [
    "# Step 1: get the coefficients for the linear regression model\n",
    "weights = linear_regressor.coef_[0]\n",
    "\n",
    "# Step 2: print the coefficients in descending order (by absolute value)\n",
    "print_sorted_feat_importance(weights, X_colnames)"
   ]
  },
  {
   "cell_type": "markdown",
   "metadata": {
    "id": "LBbw9fkP2mjP"
   },
   "source": [
    "#### Constructing Confident Intervals for Regression Coefficients\n",
    "\n",
    "Before we start making marketing recommendations based on the regression coefficients, let's determine if these coefficients are significant. That is, are the coefficients describing a rule that is particular only to our training data and cannot generalize to new data?\n",
    "\n",
    "To do this, we change the training data slightly (by bootstrapping) and see how much our regression coefficients change.\n",
    "\n",
    "**Exercise 12:** Based on the following box plot of the regression coefficient for models fitted on 5 bootstrapped training data sets, which feature do you think has the most effect on the total sales? Is this answer different from your answer in Exercise 1?"
   ]
  },
  {
   "cell_type": "code",
   "execution_count": 60,
   "metadata": {
    "id": "F8tO17K82mjQ"
   },
   "outputs": [
    {
     "data": {
      "image/png": "[encoded data removed]",
      "text/plain": [
       "<Figure size 720x360 with 1 Axes>"
      ]
     },
     "metadata": {
      "needs_background": "light"
     },
     "output_type": "display_data"
    }
   ],
   "source": [
    "# Step 1: Uncomment and run\n",
    "### we fit 5 regression models on 5 bootstrapped samples of our training data\n",
    "# number of bootstrap samples to make\n",
    "n_bootstrap = 5\n",
    "# a list to store the weights of each regression model\n",
    "bootstrap_weights = []\n",
    "for n in range(n_bootstrap):\n",
    "    # create new training data\n",
    "    X_train, _, y_train, _ = split_data(X, y, seed=n)\n",
    "    # train linear regressor model\n",
    "    linear_regressor.fit(X_train,y_train)\n",
    "    # save the regression weights\n",
    "    bootstrap_weights.append(linear_regressor.coef_[0])\n",
    "    \n",
    "bootstrap_weights = np.array(bootstrap_weights)\n",
    "\n",
    "# make a box plot for the regression weights\n",
    "fig, ax = plt.subplots(1, 1, figsize=(10, 5))\n",
    "plot_confidence_intervals(bootstrap_weights, ax)\n",
    "plt.show()"
   ]
  },
  {
   "cell_type": "markdown",
   "metadata": {
    "id": "8zO8D9He2mjU"
   },
   "source": [
    "#### Constructing the Predictive Interval of a Regression Model\n",
    "\n",
    "In test data, company 30 is **Coca-cola** and company 29 is **Inyange**.\n",
    "\n",
    "**Exercise 13:** Using your linear regression model predict which company will have a higher total sales based on their marketing strategy.\n",
    "\n",
    "Construct the predictive interval for each predicted total sales. \n",
    "\n",
    "How confident are you in your predictions? Support your answers using concepts from lecture."
   ]
  },
  {
   "cell_type": "code",
   "execution_count": null,
   "metadata": {
    "colab": {
     "base_uri": "https://localhost:8080/",
     "height": 343
    },
    "id": "sq9spiwe2mjV",
    "outputId": "78c8fc7d-71c0-4ed2-86a9-8e84128f0a35"
   },
   "outputs": [
    {
     "data": {
      "text/html": [
       "<div>\n",
       "<style scoped>\n",
       "    .dataframe tbody tr th:only-of-type {\n",
       "        vertical-align: middle;\n",
       "    }\n",
       "\n",
       "    .dataframe tbody tr th {\n",
       "        vertical-align: top;\n",
       "    }\n",
       "\n",
       "    .dataframe thead th {\n",
       "        text-align: right;\n",
       "    }\n",
       "</style>\n",
       "<table border=\"1\" class=\"dataframe\">\n",
       "  <thead>\n",
       "    <tr style=\"text-align: right;\">\n",
       "      <th></th>\n",
       "      <th>electricity (mega W)</th>\n",
       "      <th>water (10^3 m3)</th>\n",
       "      <th>bus_stops (cents)</th>\n",
       "      <th>sport_events ($)</th>\n",
       "      <th>social_media ($)</th>\n",
       "      <th>TV ($)</th>\n",
       "      <th>radio ($)</th>\n",
       "      <th>newspaper ($)</th>\n",
       "      <th>company id number</th>\n",
       "      <th>Nationality</th>\n",
       "      <th>Country_Mexico</th>\n",
       "      <th>Country_Rwanda</th>\n",
       "      <th>Country_USA</th>\n",
       "    </tr>\n",
       "  </thead>\n",
       "  <tbody>\n",
       "    <tr>\n",
       "      <th>company 1</th>\n",
       "      <td>0.18311</td>\n",
       "      <td>0.979121</td>\n",
       "      <td>1027.52</td>\n",
       "      <td>26.3546</td>\n",
       "      <td>6.12187</td>\n",
       "      <td>89.5255</td>\n",
       "      <td>0.3</td>\n",
       "      <td>23.2</td>\n",
       "      <td>107</td>\n",
       "      <td>American</td>\n",
       "      <td>0</td>\n",
       "      <td>0</td>\n",
       "      <td>1</td>\n",
       "    </tr>\n",
       "    <tr>\n",
       "      <th>company 2</th>\n",
       "      <td>30.6507</td>\n",
       "      <td>32.1584</td>\n",
       "      <td>2412.87</td>\n",
       "      <td>49.8748</td>\n",
       "      <td>26.5837</td>\n",
       "      <td>165.87</td>\n",
       "      <td>7.8</td>\n",
       "      <td>35.2</td>\n",
       "      <td>177</td>\n",
       "      <td>Rwandan</td>\n",
       "      <td>0</td>\n",
       "      <td>1</td>\n",
       "      <td>0</td>\n",
       "    </tr>\n",
       "    <tr>\n",
       "      <th>company 3</th>\n",
       "      <td>1.89494</td>\n",
       "      <td>1.00387</td>\n",
       "      <td>3896.79</td>\n",
       "      <td>48.5626</td>\n",
       "      <td>47.3148</td>\n",
       "      <td>208.835</td>\n",
       "      <td>49.6</td>\n",
       "      <td>37.7</td>\n",
       "      <td>58</td>\n",
       "      <td>Rwandan</td>\n",
       "      <td>0</td>\n",
       "      <td>1</td>\n",
       "      <td>0</td>\n",
       "    </tr>\n",
       "    <tr>\n",
       "      <th>company 4</th>\n",
       "      <td>2.81545</td>\n",
       "      <td>2.47702</td>\n",
       "      <td>74.0314</td>\n",
       "      <td>41.3383</td>\n",
       "      <td>22.4982</td>\n",
       "      <td>290.077</td>\n",
       "      <td>27.7</td>\n",
       "      <td>1.8</td>\n",
       "      <td>42</td>\n",
       "      <td>Rwandan</td>\n",
       "      <td>0</td>\n",
       "      <td>1</td>\n",
       "      <td>0</td>\n",
       "    </tr>\n",
       "    <tr>\n",
       "      <th>company 5</th>\n",
       "      <td>2.33241</td>\n",
       "      <td>1.13286</td>\n",
       "      <td>1326.8</td>\n",
       "      <td>0.226549</td>\n",
       "      <td>NaN</td>\n",
       "      <td>241.719</td>\n",
       "      <td>49</td>\n",
       "      <td>44.3</td>\n",
       "      <td>147</td>\n",
       "      <td>Rwandan</td>\n",
       "      <td>0</td>\n",
       "      <td>1</td>\n",
       "      <td>0</td>\n",
       "    </tr>\n",
       "  </tbody>\n",
       "</table>\n",
       "</div>"
      ],
      "text/plain": [
       "          electricity (mega W) water (10^3 m3)  ... Country_Rwanda Country_USA\n",
       "company 1              0.18311        0.979121  ...              0           1\n",
       "company 2              30.6507         32.1584  ...              1           0\n",
       "company 3              1.89494         1.00387  ...              1           0\n",
       "company 4              2.81545         2.47702  ...              1           0\n",
       "company 5              2.33241         1.13286  ...              1           0\n",
       "\n",
       "[5 rows x 13 columns]"
      ]
     },
     "execution_count": 20,
     "metadata": {
      "tags": []
     },
     "output_type": "execute_result"
    }
   ],
   "source": [
    "X_test_df.head()"
   ]
  },
  {
   "cell_type": "code",
   "execution_count": 61,
   "metadata": {
    "id": "jDIO50Hb2mjY"
   },
   "outputs": [
    {
     "name": "stdout",
     "output_type": "stream",
     "text": [
      "Predicted sales for Coca-cola: 14.44 (thousand units)\n",
      "Predicted sales for Inyange: 11.67 (thousand units)\n"
     ]
    }
   ],
   "source": [
    "# Step 1: predict on the test data\n",
    "# COMPLETE\n",
    "y_predict = linear_regressor.predict(X_df.values)\n",
    "\n",
    "# Step 2: get the 29th and 30th predictions\n",
    "# COMPLETE\n",
    "y_pred_29 = y_predict[28]\n",
    "y_pred_30 = y_predict[29]\n",
    "\n",
    "# print the total sales of company 29 and company 30\n",
    "print('Predicted sales for Coca-cola: %.2f (thousand units)' % y_pred_29)\n",
    "print('Predicted sales for Inyange: %.2f (thousand units)' % y_pred_30)"
   ]
  },
  {
   "cell_type": "markdown",
   "metadata": {
    "id": "nyPD4OIm2mje"
   },
   "source": [
    "Construct the predictive interval for each predicted total sales. Based on these intervals, how confident are you in your predictions?"
   ]
  },
  {
   "cell_type": "code",
   "execution_count": 63,
   "metadata": {
    "id": "kikVEi_q2mjf"
   },
   "outputs": [
    {
     "data": {
      "image/png": "[encoded data removed]",
      "text/plain": [
       "<Figure size 720x360 with 1 Axes>"
      ]
     },
     "metadata": {
      "needs_background": "light"
     },
     "output_type": "display_data"
    }
   ],
   "source": [
    "# Step 1: Uncommnent and run\n",
    "### we fit 1000 regression models on 1000 bootstrapped samples of our training data\n",
    "n_bootstrap = 1000\n",
    "# make a list to store the predicted sales\n",
    "bootstrap_y_pred = []\n",
    "for n in range(n_bootstrap):\n",
    "    # make new data\n",
    "    X_train, _, y_train, _ = split_data(X, y, seed=n)\n",
    "    # train linear regression model\n",
    "    linear_regressor.fit(X_train,y_train)\n",
    "    # predict on company 30 and 31\n",
    "    y_predict = linear_regressor.predict(X_test[29:31])\n",
    "    # add the prediction to the list\n",
    "    bootstrap_y_pred.append(y_predict)\n",
    "# convert the list into an array\n",
    "bootstrap_y_pred = np.array(bootstrap_y_pred)\n",
    "\n",
    "fig, ax = plt.subplots(1, 1, figsize=(10, 5))\n",
    "plot_predictive_intervals(bootstrap_y_pred, ['Coca-cola', 'Inyange'], ax)\n",
    "plt.show()"
   ]
  },
  {
   "cell_type": "code",
   "execution_count": null,
   "metadata": {},
   "outputs": [],
   "source": []
  }
 ],
 "metadata": {
  "colab": {
   "collapsed_sections": [],
   "name": "08 model Interpretation and data manipulation.ipynb",
   "provenance": []
  },
  "kernelspec": {
   "display_name": "Python 3 (ipykernel)",
   "language": "python",
   "name": "python3"
  },
  "language_info": {
   "codemirror_mode": {
    "name": "ipython",
    "version": 3
   },
   "file_extension": ".py",
   "mimetype": "text/x-python",
   "name": "python",
   "nbconvert_exporter": "python",
   "pygments_lexer": "ipython3",
   "version": "3.9.7"
  }
 },
 "nbformat": 4,
 "nbformat_minor": 1
}
